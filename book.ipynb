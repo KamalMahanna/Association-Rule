{
 "cells": [
  {
   "cell_type": "code",
   "execution_count": 56,
   "metadata": {},
   "outputs": [],
   "source": [
    "import warnings\n",
    "warnings.filterwarnings('ignore')"
   ]
  },
  {
   "cell_type": "code",
   "execution_count": 57,
   "metadata": {},
   "outputs": [],
   "source": [
    "import mlxtend\n",
    "import numpy as np\n",
    "import pandas as pd\n",
    "import plotly.graph_objects as go\n",
    "from mlxtend.frequent_patterns import apriori,association_rules\n",
    "from mlxtend.preprocessing import TransactionEncoder"
   ]
  },
  {
   "cell_type": "code",
   "execution_count": 58,
   "metadata": {},
   "outputs": [
    {
     "data": {
      "text/html": [
       "<div>\n",
       "<style scoped>\n",
       "    .dataframe tbody tr th:only-of-type {\n",
       "        vertical-align: middle;\n",
       "    }\n",
       "\n",
       "    .dataframe tbody tr th {\n",
       "        vertical-align: top;\n",
       "    }\n",
       "\n",
       "    .dataframe thead th {\n",
       "        text-align: right;\n",
       "    }\n",
       "</style>\n",
       "<table border=\"1\" class=\"dataframe\">\n",
       "  <thead>\n",
       "    <tr style=\"text-align: right;\">\n",
       "      <th></th>\n",
       "      <th>ChildBks</th>\n",
       "      <th>YouthBks</th>\n",
       "      <th>CookBks</th>\n",
       "      <th>DoItYBks</th>\n",
       "      <th>RefBks</th>\n",
       "      <th>ArtBks</th>\n",
       "      <th>GeogBks</th>\n",
       "      <th>ItalCook</th>\n",
       "      <th>ItalAtlas</th>\n",
       "      <th>ItalArt</th>\n",
       "      <th>Florence</th>\n",
       "    </tr>\n",
       "  </thead>\n",
       "  <tbody>\n",
       "    <tr>\n",
       "      <th>0</th>\n",
       "      <td>0</td>\n",
       "      <td>1</td>\n",
       "      <td>0</td>\n",
       "      <td>1</td>\n",
       "      <td>0</td>\n",
       "      <td>0</td>\n",
       "      <td>1</td>\n",
       "      <td>0</td>\n",
       "      <td>0</td>\n",
       "      <td>0</td>\n",
       "      <td>0</td>\n",
       "    </tr>\n",
       "    <tr>\n",
       "      <th>1</th>\n",
       "      <td>1</td>\n",
       "      <td>0</td>\n",
       "      <td>0</td>\n",
       "      <td>0</td>\n",
       "      <td>0</td>\n",
       "      <td>0</td>\n",
       "      <td>0</td>\n",
       "      <td>0</td>\n",
       "      <td>0</td>\n",
       "      <td>0</td>\n",
       "      <td>0</td>\n",
       "    </tr>\n",
       "    <tr>\n",
       "      <th>2</th>\n",
       "      <td>0</td>\n",
       "      <td>0</td>\n",
       "      <td>0</td>\n",
       "      <td>0</td>\n",
       "      <td>0</td>\n",
       "      <td>0</td>\n",
       "      <td>0</td>\n",
       "      <td>0</td>\n",
       "      <td>0</td>\n",
       "      <td>0</td>\n",
       "      <td>0</td>\n",
       "    </tr>\n",
       "    <tr>\n",
       "      <th>3</th>\n",
       "      <td>1</td>\n",
       "      <td>1</td>\n",
       "      <td>1</td>\n",
       "      <td>0</td>\n",
       "      <td>1</td>\n",
       "      <td>0</td>\n",
       "      <td>1</td>\n",
       "      <td>0</td>\n",
       "      <td>0</td>\n",
       "      <td>0</td>\n",
       "      <td>0</td>\n",
       "    </tr>\n",
       "    <tr>\n",
       "      <th>4</th>\n",
       "      <td>0</td>\n",
       "      <td>0</td>\n",
       "      <td>1</td>\n",
       "      <td>0</td>\n",
       "      <td>0</td>\n",
       "      <td>0</td>\n",
       "      <td>1</td>\n",
       "      <td>0</td>\n",
       "      <td>0</td>\n",
       "      <td>0</td>\n",
       "      <td>0</td>\n",
       "    </tr>\n",
       "  </tbody>\n",
       "</table>\n",
       "</div>"
      ],
      "text/plain": [
       "   ChildBks  YouthBks  CookBks  DoItYBks  RefBks  ArtBks  GeogBks  ItalCook  \\\n",
       "0         0         1        0         1       0       0        1         0   \n",
       "1         1         0        0         0       0       0        0         0   \n",
       "2         0         0        0         0       0       0        0         0   \n",
       "3         1         1        1         0       1       0        1         0   \n",
       "4         0         0        1         0       0       0        1         0   \n",
       "\n",
       "   ItalAtlas  ItalArt  Florence  \n",
       "0          0        0         0  \n",
       "1          0        0         0  \n",
       "2          0        0         0  \n",
       "3          0        0         0  \n",
       "4          0        0         0  "
      ]
     },
     "execution_count": 58,
     "metadata": {},
     "output_type": "execute_result"
    }
   ],
   "source": [
    "df=pd.read_csv('book.csv')\n",
    "df.head()"
   ]
  },
  {
   "cell_type": "code",
   "execution_count": 59,
   "metadata": {},
   "outputs": [
    {
     "name": "stdout",
     "output_type": "stream",
     "text": [
      "<class 'pandas.core.frame.DataFrame'>\n",
      "RangeIndex: 2000 entries, 0 to 1999\n",
      "Data columns (total 11 columns):\n",
      " #   Column     Non-Null Count  Dtype\n",
      "---  ------     --------------  -----\n",
      " 0   ChildBks   2000 non-null   int64\n",
      " 1   YouthBks   2000 non-null   int64\n",
      " 2   CookBks    2000 non-null   int64\n",
      " 3   DoItYBks   2000 non-null   int64\n",
      " 4   RefBks     2000 non-null   int64\n",
      " 5   ArtBks     2000 non-null   int64\n",
      " 6   GeogBks    2000 non-null   int64\n",
      " 7   ItalCook   2000 non-null   int64\n",
      " 8   ItalAtlas  2000 non-null   int64\n",
      " 9   ItalArt    2000 non-null   int64\n",
      " 10  Florence   2000 non-null   int64\n",
      "dtypes: int64(11)\n",
      "memory usage: 172.0 KB\n"
     ]
    }
   ],
   "source": [
    "df.info()"
   ]
  },
  {
   "cell_type": "code",
   "execution_count": 60,
   "metadata": {},
   "outputs": [
    {
     "data": {
      "application/vnd.plotly.v1+json": {
       "config": {
        "plotlyServerURL": "https://plot.ly"
       },
       "data": [
        {
         "labels": [
          "ChildBks",
          "YouthBks",
          "CookBks",
          "DoItYBks",
          "RefBks",
          "ArtBks",
          "GeogBks",
          "ItalCook",
          "ItalAtlas",
          "ItalArt",
          "Florence"
         ],
         "type": "pie",
         "values": [
          846,
          495,
          862,
          564,
          429,
          482,
          552,
          227,
          74,
          97,
          217
         ]
        }
       ],
       "layout": {
        "autosize": false,
        "template": {
         "data": {
          "bar": [
           {
            "error_x": {
             "color": "#2a3f5f"
            },
            "error_y": {
             "color": "#2a3f5f"
            },
            "marker": {
             "line": {
              "color": "#E5ECF6",
              "width": 0.5
             },
             "pattern": {
              "fillmode": "overlay",
              "size": 10,
              "solidity": 0.2
             }
            },
            "type": "bar"
           }
          ],
          "barpolar": [
           {
            "marker": {
             "line": {
              "color": "#E5ECF6",
              "width": 0.5
             },
             "pattern": {
              "fillmode": "overlay",
              "size": 10,
              "solidity": 0.2
             }
            },
            "type": "barpolar"
           }
          ],
          "carpet": [
           {
            "aaxis": {
             "endlinecolor": "#2a3f5f",
             "gridcolor": "white",
             "linecolor": "white",
             "minorgridcolor": "white",
             "startlinecolor": "#2a3f5f"
            },
            "baxis": {
             "endlinecolor": "#2a3f5f",
             "gridcolor": "white",
             "linecolor": "white",
             "minorgridcolor": "white",
             "startlinecolor": "#2a3f5f"
            },
            "type": "carpet"
           }
          ],
          "choropleth": [
           {
            "colorbar": {
             "outlinewidth": 0,
             "ticks": ""
            },
            "type": "choropleth"
           }
          ],
          "contour": [
           {
            "colorbar": {
             "outlinewidth": 0,
             "ticks": ""
            },
            "colorscale": [
             [
              0,
              "#0d0887"
             ],
             [
              0.1111111111111111,
              "#46039f"
             ],
             [
              0.2222222222222222,
              "#7201a8"
             ],
             [
              0.3333333333333333,
              "#9c179e"
             ],
             [
              0.4444444444444444,
              "#bd3786"
             ],
             [
              0.5555555555555556,
              "#d8576b"
             ],
             [
              0.6666666666666666,
              "#ed7953"
             ],
             [
              0.7777777777777778,
              "#fb9f3a"
             ],
             [
              0.8888888888888888,
              "#fdca26"
             ],
             [
              1,
              "#f0f921"
             ]
            ],
            "type": "contour"
           }
          ],
          "contourcarpet": [
           {
            "colorbar": {
             "outlinewidth": 0,
             "ticks": ""
            },
            "type": "contourcarpet"
           }
          ],
          "heatmap": [
           {
            "colorbar": {
             "outlinewidth": 0,
             "ticks": ""
            },
            "colorscale": [
             [
              0,
              "#0d0887"
             ],
             [
              0.1111111111111111,
              "#46039f"
             ],
             [
              0.2222222222222222,
              "#7201a8"
             ],
             [
              0.3333333333333333,
              "#9c179e"
             ],
             [
              0.4444444444444444,
              "#bd3786"
             ],
             [
              0.5555555555555556,
              "#d8576b"
             ],
             [
              0.6666666666666666,
              "#ed7953"
             ],
             [
              0.7777777777777778,
              "#fb9f3a"
             ],
             [
              0.8888888888888888,
              "#fdca26"
             ],
             [
              1,
              "#f0f921"
             ]
            ],
            "type": "heatmap"
           }
          ],
          "heatmapgl": [
           {
            "colorbar": {
             "outlinewidth": 0,
             "ticks": ""
            },
            "colorscale": [
             [
              0,
              "#0d0887"
             ],
             [
              0.1111111111111111,
              "#46039f"
             ],
             [
              0.2222222222222222,
              "#7201a8"
             ],
             [
              0.3333333333333333,
              "#9c179e"
             ],
             [
              0.4444444444444444,
              "#bd3786"
             ],
             [
              0.5555555555555556,
              "#d8576b"
             ],
             [
              0.6666666666666666,
              "#ed7953"
             ],
             [
              0.7777777777777778,
              "#fb9f3a"
             ],
             [
              0.8888888888888888,
              "#fdca26"
             ],
             [
              1,
              "#f0f921"
             ]
            ],
            "type": "heatmapgl"
           }
          ],
          "histogram": [
           {
            "marker": {
             "pattern": {
              "fillmode": "overlay",
              "size": 10,
              "solidity": 0.2
             }
            },
            "type": "histogram"
           }
          ],
          "histogram2d": [
           {
            "colorbar": {
             "outlinewidth": 0,
             "ticks": ""
            },
            "colorscale": [
             [
              0,
              "#0d0887"
             ],
             [
              0.1111111111111111,
              "#46039f"
             ],
             [
              0.2222222222222222,
              "#7201a8"
             ],
             [
              0.3333333333333333,
              "#9c179e"
             ],
             [
              0.4444444444444444,
              "#bd3786"
             ],
             [
              0.5555555555555556,
              "#d8576b"
             ],
             [
              0.6666666666666666,
              "#ed7953"
             ],
             [
              0.7777777777777778,
              "#fb9f3a"
             ],
             [
              0.8888888888888888,
              "#fdca26"
             ],
             [
              1,
              "#f0f921"
             ]
            ],
            "type": "histogram2d"
           }
          ],
          "histogram2dcontour": [
           {
            "colorbar": {
             "outlinewidth": 0,
             "ticks": ""
            },
            "colorscale": [
             [
              0,
              "#0d0887"
             ],
             [
              0.1111111111111111,
              "#46039f"
             ],
             [
              0.2222222222222222,
              "#7201a8"
             ],
             [
              0.3333333333333333,
              "#9c179e"
             ],
             [
              0.4444444444444444,
              "#bd3786"
             ],
             [
              0.5555555555555556,
              "#d8576b"
             ],
             [
              0.6666666666666666,
              "#ed7953"
             ],
             [
              0.7777777777777778,
              "#fb9f3a"
             ],
             [
              0.8888888888888888,
              "#fdca26"
             ],
             [
              1,
              "#f0f921"
             ]
            ],
            "type": "histogram2dcontour"
           }
          ],
          "mesh3d": [
           {
            "colorbar": {
             "outlinewidth": 0,
             "ticks": ""
            },
            "type": "mesh3d"
           }
          ],
          "parcoords": [
           {
            "line": {
             "colorbar": {
              "outlinewidth": 0,
              "ticks": ""
             }
            },
            "type": "parcoords"
           }
          ],
          "pie": [
           {
            "automargin": true,
            "type": "pie"
           }
          ],
          "scatter": [
           {
            "fillpattern": {
             "fillmode": "overlay",
             "size": 10,
             "solidity": 0.2
            },
            "type": "scatter"
           }
          ],
          "scatter3d": [
           {
            "line": {
             "colorbar": {
              "outlinewidth": 0,
              "ticks": ""
             }
            },
            "marker": {
             "colorbar": {
              "outlinewidth": 0,
              "ticks": ""
             }
            },
            "type": "scatter3d"
           }
          ],
          "scattercarpet": [
           {
            "marker": {
             "colorbar": {
              "outlinewidth": 0,
              "ticks": ""
             }
            },
            "type": "scattercarpet"
           }
          ],
          "scattergeo": [
           {
            "marker": {
             "colorbar": {
              "outlinewidth": 0,
              "ticks": ""
             }
            },
            "type": "scattergeo"
           }
          ],
          "scattergl": [
           {
            "marker": {
             "colorbar": {
              "outlinewidth": 0,
              "ticks": ""
             }
            },
            "type": "scattergl"
           }
          ],
          "scattermapbox": [
           {
            "marker": {
             "colorbar": {
              "outlinewidth": 0,
              "ticks": ""
             }
            },
            "type": "scattermapbox"
           }
          ],
          "scatterpolar": [
           {
            "marker": {
             "colorbar": {
              "outlinewidth": 0,
              "ticks": ""
             }
            },
            "type": "scatterpolar"
           }
          ],
          "scatterpolargl": [
           {
            "marker": {
             "colorbar": {
              "outlinewidth": 0,
              "ticks": ""
             }
            },
            "type": "scatterpolargl"
           }
          ],
          "scatterternary": [
           {
            "marker": {
             "colorbar": {
              "outlinewidth": 0,
              "ticks": ""
             }
            },
            "type": "scatterternary"
           }
          ],
          "surface": [
           {
            "colorbar": {
             "outlinewidth": 0,
             "ticks": ""
            },
            "colorscale": [
             [
              0,
              "#0d0887"
             ],
             [
              0.1111111111111111,
              "#46039f"
             ],
             [
              0.2222222222222222,
              "#7201a8"
             ],
             [
              0.3333333333333333,
              "#9c179e"
             ],
             [
              0.4444444444444444,
              "#bd3786"
             ],
             [
              0.5555555555555556,
              "#d8576b"
             ],
             [
              0.6666666666666666,
              "#ed7953"
             ],
             [
              0.7777777777777778,
              "#fb9f3a"
             ],
             [
              0.8888888888888888,
              "#fdca26"
             ],
             [
              1,
              "#f0f921"
             ]
            ],
            "type": "surface"
           }
          ],
          "table": [
           {
            "cells": {
             "fill": {
              "color": "#EBF0F8"
             },
             "line": {
              "color": "white"
             }
            },
            "header": {
             "fill": {
              "color": "#C8D4E3"
             },
             "line": {
              "color": "white"
             }
            },
            "type": "table"
           }
          ]
         },
         "layout": {
          "annotationdefaults": {
           "arrowcolor": "#2a3f5f",
           "arrowhead": 0,
           "arrowwidth": 1
          },
          "autotypenumbers": "strict",
          "coloraxis": {
           "colorbar": {
            "outlinewidth": 0,
            "ticks": ""
           }
          },
          "colorscale": {
           "diverging": [
            [
             0,
             "#8e0152"
            ],
            [
             0.1,
             "#c51b7d"
            ],
            [
             0.2,
             "#de77ae"
            ],
            [
             0.3,
             "#f1b6da"
            ],
            [
             0.4,
             "#fde0ef"
            ],
            [
             0.5,
             "#f7f7f7"
            ],
            [
             0.6,
             "#e6f5d0"
            ],
            [
             0.7,
             "#b8e186"
            ],
            [
             0.8,
             "#7fbc41"
            ],
            [
             0.9,
             "#4d9221"
            ],
            [
             1,
             "#276419"
            ]
           ],
           "sequential": [
            [
             0,
             "#0d0887"
            ],
            [
             0.1111111111111111,
             "#46039f"
            ],
            [
             0.2222222222222222,
             "#7201a8"
            ],
            [
             0.3333333333333333,
             "#9c179e"
            ],
            [
             0.4444444444444444,
             "#bd3786"
            ],
            [
             0.5555555555555556,
             "#d8576b"
            ],
            [
             0.6666666666666666,
             "#ed7953"
            ],
            [
             0.7777777777777778,
             "#fb9f3a"
            ],
            [
             0.8888888888888888,
             "#fdca26"
            ],
            [
             1,
             "#f0f921"
            ]
           ],
           "sequentialminus": [
            [
             0,
             "#0d0887"
            ],
            [
             0.1111111111111111,
             "#46039f"
            ],
            [
             0.2222222222222222,
             "#7201a8"
            ],
            [
             0.3333333333333333,
             "#9c179e"
            ],
            [
             0.4444444444444444,
             "#bd3786"
            ],
            [
             0.5555555555555556,
             "#d8576b"
            ],
            [
             0.6666666666666666,
             "#ed7953"
            ],
            [
             0.7777777777777778,
             "#fb9f3a"
            ],
            [
             0.8888888888888888,
             "#fdca26"
            ],
            [
             1,
             "#f0f921"
            ]
           ]
          },
          "colorway": [
           "#636efa",
           "#EF553B",
           "#00cc96",
           "#ab63fa",
           "#FFA15A",
           "#19d3f3",
           "#FF6692",
           "#B6E880",
           "#FF97FF",
           "#FECB52"
          ],
          "font": {
           "color": "#2a3f5f"
          },
          "geo": {
           "bgcolor": "white",
           "lakecolor": "white",
           "landcolor": "#E5ECF6",
           "showlakes": true,
           "showland": true,
           "subunitcolor": "white"
          },
          "hoverlabel": {
           "align": "left"
          },
          "hovermode": "closest",
          "mapbox": {
           "style": "light"
          },
          "paper_bgcolor": "white",
          "plot_bgcolor": "#E5ECF6",
          "polar": {
           "angularaxis": {
            "gridcolor": "white",
            "linecolor": "white",
            "ticks": ""
           },
           "bgcolor": "#E5ECF6",
           "radialaxis": {
            "gridcolor": "white",
            "linecolor": "white",
            "ticks": ""
           }
          },
          "scene": {
           "xaxis": {
            "backgroundcolor": "#E5ECF6",
            "gridcolor": "white",
            "gridwidth": 2,
            "linecolor": "white",
            "showbackground": true,
            "ticks": "",
            "zerolinecolor": "white"
           },
           "yaxis": {
            "backgroundcolor": "#E5ECF6",
            "gridcolor": "white",
            "gridwidth": 2,
            "linecolor": "white",
            "showbackground": true,
            "ticks": "",
            "zerolinecolor": "white"
           },
           "zaxis": {
            "backgroundcolor": "#E5ECF6",
            "gridcolor": "white",
            "gridwidth": 2,
            "linecolor": "white",
            "showbackground": true,
            "ticks": "",
            "zerolinecolor": "white"
           }
          },
          "shapedefaults": {
           "line": {
            "color": "#2a3f5f"
           }
          },
          "ternary": {
           "aaxis": {
            "gridcolor": "white",
            "linecolor": "white",
            "ticks": ""
           },
           "baxis": {
            "gridcolor": "white",
            "linecolor": "white",
            "ticks": ""
           },
           "bgcolor": "#E5ECF6",
           "caxis": {
            "gridcolor": "white",
            "linecolor": "white",
            "ticks": ""
           }
          },
          "title": {
           "x": 0.05
          },
          "xaxis": {
           "automargin": true,
           "gridcolor": "white",
           "linecolor": "white",
           "ticks": "",
           "title": {
            "standoff": 15
           },
           "zerolinecolor": "white",
           "zerolinewidth": 2
          },
          "yaxis": {
           "automargin": true,
           "gridcolor": "white",
           "linecolor": "white",
           "ticks": "",
           "title": {
            "standoff": 15
           },
           "zerolinecolor": "white",
           "zerolinewidth": 2
          }
         }
        },
        "title": {
         "text": "Distribution of books"
        }
       }
      }
     },
     "metadata": {},
     "output_type": "display_data"
    }
   ],
   "source": [
    "# Data is free from null values\n",
    "# Also all columns are of int type\n",
    "# Lets see the sales of books\n",
    "\n",
    "fig=go.Figure()\n",
    "fig.add_trace(go.Pie(labels=df.sum().index,values=df.sum().values))\n",
    "fig.update_layout(autosize=False,title_text='Distribution of books')\n",
    "\n"
   ]
  },
  {
   "cell_type": "code",
   "execution_count": 61,
   "metadata": {},
   "outputs": [
    {
     "data": {
      "application/vnd.plotly.v1+json": {
       "config": {
        "plotlyServerURL": "https://plot.ly"
       },
       "data": [
        {
         "text": [
          862,
          846,
          564,
          552,
          495
         ],
         "textposition": "auto",
         "type": "bar",
         "x": [
          "CookBks",
          "ChildBks",
          "DoItYBks",
          "GeogBks",
          "YouthBks"
         ],
         "y": [
          862,
          846,
          564,
          552,
          495
         ]
        }
       ],
       "layout": {
        "autosize": false,
        "template": {
         "data": {
          "bar": [
           {
            "error_x": {
             "color": "#2a3f5f"
            },
            "error_y": {
             "color": "#2a3f5f"
            },
            "marker": {
             "line": {
              "color": "#E5ECF6",
              "width": 0.5
             },
             "pattern": {
              "fillmode": "overlay",
              "size": 10,
              "solidity": 0.2
             }
            },
            "type": "bar"
           }
          ],
          "barpolar": [
           {
            "marker": {
             "line": {
              "color": "#E5ECF6",
              "width": 0.5
             },
             "pattern": {
              "fillmode": "overlay",
              "size": 10,
              "solidity": 0.2
             }
            },
            "type": "barpolar"
           }
          ],
          "carpet": [
           {
            "aaxis": {
             "endlinecolor": "#2a3f5f",
             "gridcolor": "white",
             "linecolor": "white",
             "minorgridcolor": "white",
             "startlinecolor": "#2a3f5f"
            },
            "baxis": {
             "endlinecolor": "#2a3f5f",
             "gridcolor": "white",
             "linecolor": "white",
             "minorgridcolor": "white",
             "startlinecolor": "#2a3f5f"
            },
            "type": "carpet"
           }
          ],
          "choropleth": [
           {
            "colorbar": {
             "outlinewidth": 0,
             "ticks": ""
            },
            "type": "choropleth"
           }
          ],
          "contour": [
           {
            "colorbar": {
             "outlinewidth": 0,
             "ticks": ""
            },
            "colorscale": [
             [
              0,
              "#0d0887"
             ],
             [
              0.1111111111111111,
              "#46039f"
             ],
             [
              0.2222222222222222,
              "#7201a8"
             ],
             [
              0.3333333333333333,
              "#9c179e"
             ],
             [
              0.4444444444444444,
              "#bd3786"
             ],
             [
              0.5555555555555556,
              "#d8576b"
             ],
             [
              0.6666666666666666,
              "#ed7953"
             ],
             [
              0.7777777777777778,
              "#fb9f3a"
             ],
             [
              0.8888888888888888,
              "#fdca26"
             ],
             [
              1,
              "#f0f921"
             ]
            ],
            "type": "contour"
           }
          ],
          "contourcarpet": [
           {
            "colorbar": {
             "outlinewidth": 0,
             "ticks": ""
            },
            "type": "contourcarpet"
           }
          ],
          "heatmap": [
           {
            "colorbar": {
             "outlinewidth": 0,
             "ticks": ""
            },
            "colorscale": [
             [
              0,
              "#0d0887"
             ],
             [
              0.1111111111111111,
              "#46039f"
             ],
             [
              0.2222222222222222,
              "#7201a8"
             ],
             [
              0.3333333333333333,
              "#9c179e"
             ],
             [
              0.4444444444444444,
              "#bd3786"
             ],
             [
              0.5555555555555556,
              "#d8576b"
             ],
             [
              0.6666666666666666,
              "#ed7953"
             ],
             [
              0.7777777777777778,
              "#fb9f3a"
             ],
             [
              0.8888888888888888,
              "#fdca26"
             ],
             [
              1,
              "#f0f921"
             ]
            ],
            "type": "heatmap"
           }
          ],
          "heatmapgl": [
           {
            "colorbar": {
             "outlinewidth": 0,
             "ticks": ""
            },
            "colorscale": [
             [
              0,
              "#0d0887"
             ],
             [
              0.1111111111111111,
              "#46039f"
             ],
             [
              0.2222222222222222,
              "#7201a8"
             ],
             [
              0.3333333333333333,
              "#9c179e"
             ],
             [
              0.4444444444444444,
              "#bd3786"
             ],
             [
              0.5555555555555556,
              "#d8576b"
             ],
             [
              0.6666666666666666,
              "#ed7953"
             ],
             [
              0.7777777777777778,
              "#fb9f3a"
             ],
             [
              0.8888888888888888,
              "#fdca26"
             ],
             [
              1,
              "#f0f921"
             ]
            ],
            "type": "heatmapgl"
           }
          ],
          "histogram": [
           {
            "marker": {
             "pattern": {
              "fillmode": "overlay",
              "size": 10,
              "solidity": 0.2
             }
            },
            "type": "histogram"
           }
          ],
          "histogram2d": [
           {
            "colorbar": {
             "outlinewidth": 0,
             "ticks": ""
            },
            "colorscale": [
             [
              0,
              "#0d0887"
             ],
             [
              0.1111111111111111,
              "#46039f"
             ],
             [
              0.2222222222222222,
              "#7201a8"
             ],
             [
              0.3333333333333333,
              "#9c179e"
             ],
             [
              0.4444444444444444,
              "#bd3786"
             ],
             [
              0.5555555555555556,
              "#d8576b"
             ],
             [
              0.6666666666666666,
              "#ed7953"
             ],
             [
              0.7777777777777778,
              "#fb9f3a"
             ],
             [
              0.8888888888888888,
              "#fdca26"
             ],
             [
              1,
              "#f0f921"
             ]
            ],
            "type": "histogram2d"
           }
          ],
          "histogram2dcontour": [
           {
            "colorbar": {
             "outlinewidth": 0,
             "ticks": ""
            },
            "colorscale": [
             [
              0,
              "#0d0887"
             ],
             [
              0.1111111111111111,
              "#46039f"
             ],
             [
              0.2222222222222222,
              "#7201a8"
             ],
             [
              0.3333333333333333,
              "#9c179e"
             ],
             [
              0.4444444444444444,
              "#bd3786"
             ],
             [
              0.5555555555555556,
              "#d8576b"
             ],
             [
              0.6666666666666666,
              "#ed7953"
             ],
             [
              0.7777777777777778,
              "#fb9f3a"
             ],
             [
              0.8888888888888888,
              "#fdca26"
             ],
             [
              1,
              "#f0f921"
             ]
            ],
            "type": "histogram2dcontour"
           }
          ],
          "mesh3d": [
           {
            "colorbar": {
             "outlinewidth": 0,
             "ticks": ""
            },
            "type": "mesh3d"
           }
          ],
          "parcoords": [
           {
            "line": {
             "colorbar": {
              "outlinewidth": 0,
              "ticks": ""
             }
            },
            "type": "parcoords"
           }
          ],
          "pie": [
           {
            "automargin": true,
            "type": "pie"
           }
          ],
          "scatter": [
           {
            "fillpattern": {
             "fillmode": "overlay",
             "size": 10,
             "solidity": 0.2
            },
            "type": "scatter"
           }
          ],
          "scatter3d": [
           {
            "line": {
             "colorbar": {
              "outlinewidth": 0,
              "ticks": ""
             }
            },
            "marker": {
             "colorbar": {
              "outlinewidth": 0,
              "ticks": ""
             }
            },
            "type": "scatter3d"
           }
          ],
          "scattercarpet": [
           {
            "marker": {
             "colorbar": {
              "outlinewidth": 0,
              "ticks": ""
             }
            },
            "type": "scattercarpet"
           }
          ],
          "scattergeo": [
           {
            "marker": {
             "colorbar": {
              "outlinewidth": 0,
              "ticks": ""
             }
            },
            "type": "scattergeo"
           }
          ],
          "scattergl": [
           {
            "marker": {
             "colorbar": {
              "outlinewidth": 0,
              "ticks": ""
             }
            },
            "type": "scattergl"
           }
          ],
          "scattermapbox": [
           {
            "marker": {
             "colorbar": {
              "outlinewidth": 0,
              "ticks": ""
             }
            },
            "type": "scattermapbox"
           }
          ],
          "scatterpolar": [
           {
            "marker": {
             "colorbar": {
              "outlinewidth": 0,
              "ticks": ""
             }
            },
            "type": "scatterpolar"
           }
          ],
          "scatterpolargl": [
           {
            "marker": {
             "colorbar": {
              "outlinewidth": 0,
              "ticks": ""
             }
            },
            "type": "scatterpolargl"
           }
          ],
          "scatterternary": [
           {
            "marker": {
             "colorbar": {
              "outlinewidth": 0,
              "ticks": ""
             }
            },
            "type": "scatterternary"
           }
          ],
          "surface": [
           {
            "colorbar": {
             "outlinewidth": 0,
             "ticks": ""
            },
            "colorscale": [
             [
              0,
              "#0d0887"
             ],
             [
              0.1111111111111111,
              "#46039f"
             ],
             [
              0.2222222222222222,
              "#7201a8"
             ],
             [
              0.3333333333333333,
              "#9c179e"
             ],
             [
              0.4444444444444444,
              "#bd3786"
             ],
             [
              0.5555555555555556,
              "#d8576b"
             ],
             [
              0.6666666666666666,
              "#ed7953"
             ],
             [
              0.7777777777777778,
              "#fb9f3a"
             ],
             [
              0.8888888888888888,
              "#fdca26"
             ],
             [
              1,
              "#f0f921"
             ]
            ],
            "type": "surface"
           }
          ],
          "table": [
           {
            "cells": {
             "fill": {
              "color": "#EBF0F8"
             },
             "line": {
              "color": "white"
             }
            },
            "header": {
             "fill": {
              "color": "#C8D4E3"
             },
             "line": {
              "color": "white"
             }
            },
            "type": "table"
           }
          ]
         },
         "layout": {
          "annotationdefaults": {
           "arrowcolor": "#2a3f5f",
           "arrowhead": 0,
           "arrowwidth": 1
          },
          "autotypenumbers": "strict",
          "coloraxis": {
           "colorbar": {
            "outlinewidth": 0,
            "ticks": ""
           }
          },
          "colorscale": {
           "diverging": [
            [
             0,
             "#8e0152"
            ],
            [
             0.1,
             "#c51b7d"
            ],
            [
             0.2,
             "#de77ae"
            ],
            [
             0.3,
             "#f1b6da"
            ],
            [
             0.4,
             "#fde0ef"
            ],
            [
             0.5,
             "#f7f7f7"
            ],
            [
             0.6,
             "#e6f5d0"
            ],
            [
             0.7,
             "#b8e186"
            ],
            [
             0.8,
             "#7fbc41"
            ],
            [
             0.9,
             "#4d9221"
            ],
            [
             1,
             "#276419"
            ]
           ],
           "sequential": [
            [
             0,
             "#0d0887"
            ],
            [
             0.1111111111111111,
             "#46039f"
            ],
            [
             0.2222222222222222,
             "#7201a8"
            ],
            [
             0.3333333333333333,
             "#9c179e"
            ],
            [
             0.4444444444444444,
             "#bd3786"
            ],
            [
             0.5555555555555556,
             "#d8576b"
            ],
            [
             0.6666666666666666,
             "#ed7953"
            ],
            [
             0.7777777777777778,
             "#fb9f3a"
            ],
            [
             0.8888888888888888,
             "#fdca26"
            ],
            [
             1,
             "#f0f921"
            ]
           ],
           "sequentialminus": [
            [
             0,
             "#0d0887"
            ],
            [
             0.1111111111111111,
             "#46039f"
            ],
            [
             0.2222222222222222,
             "#7201a8"
            ],
            [
             0.3333333333333333,
             "#9c179e"
            ],
            [
             0.4444444444444444,
             "#bd3786"
            ],
            [
             0.5555555555555556,
             "#d8576b"
            ],
            [
             0.6666666666666666,
             "#ed7953"
            ],
            [
             0.7777777777777778,
             "#fb9f3a"
            ],
            [
             0.8888888888888888,
             "#fdca26"
            ],
            [
             1,
             "#f0f921"
            ]
           ]
          },
          "colorway": [
           "#636efa",
           "#EF553B",
           "#00cc96",
           "#ab63fa",
           "#FFA15A",
           "#19d3f3",
           "#FF6692",
           "#B6E880",
           "#FF97FF",
           "#FECB52"
          ],
          "font": {
           "color": "#2a3f5f"
          },
          "geo": {
           "bgcolor": "white",
           "lakecolor": "white",
           "landcolor": "#E5ECF6",
           "showlakes": true,
           "showland": true,
           "subunitcolor": "white"
          },
          "hoverlabel": {
           "align": "left"
          },
          "hovermode": "closest",
          "mapbox": {
           "style": "light"
          },
          "paper_bgcolor": "white",
          "plot_bgcolor": "#E5ECF6",
          "polar": {
           "angularaxis": {
            "gridcolor": "white",
            "linecolor": "white",
            "ticks": ""
           },
           "bgcolor": "#E5ECF6",
           "radialaxis": {
            "gridcolor": "white",
            "linecolor": "white",
            "ticks": ""
           }
          },
          "scene": {
           "xaxis": {
            "backgroundcolor": "#E5ECF6",
            "gridcolor": "white",
            "gridwidth": 2,
            "linecolor": "white",
            "showbackground": true,
            "ticks": "",
            "zerolinecolor": "white"
           },
           "yaxis": {
            "backgroundcolor": "#E5ECF6",
            "gridcolor": "white",
            "gridwidth": 2,
            "linecolor": "white",
            "showbackground": true,
            "ticks": "",
            "zerolinecolor": "white"
           },
           "zaxis": {
            "backgroundcolor": "#E5ECF6",
            "gridcolor": "white",
            "gridwidth": 2,
            "linecolor": "white",
            "showbackground": true,
            "ticks": "",
            "zerolinecolor": "white"
           }
          },
          "shapedefaults": {
           "line": {
            "color": "#2a3f5f"
           }
          },
          "ternary": {
           "aaxis": {
            "gridcolor": "white",
            "linecolor": "white",
            "ticks": ""
           },
           "baxis": {
            "gridcolor": "white",
            "linecolor": "white",
            "ticks": ""
           },
           "bgcolor": "#E5ECF6",
           "caxis": {
            "gridcolor": "white",
            "linecolor": "white",
            "ticks": ""
           }
          },
          "title": {
           "x": 0.05
          },
          "xaxis": {
           "automargin": true,
           "gridcolor": "white",
           "linecolor": "white",
           "ticks": "",
           "title": {
            "standoff": 15
           },
           "zerolinecolor": "white",
           "zerolinewidth": 2
          },
          "yaxis": {
           "automargin": true,
           "gridcolor": "white",
           "linecolor": "white",
           "ticks": "",
           "title": {
            "standoff": 15
           },
           "zerolinecolor": "white",
           "zerolinewidth": 2
          }
         }
        },
        "title": {
         "text": "Top 5 Selling Books"
        },
        "xaxis": {
         "title": {
          "text": "Name of Book"
         }
        },
        "yaxis": {
         "title": {
          "text": "No of Books sold"
         }
        }
       }
      }
     },
     "metadata": {},
     "output_type": "display_data"
    }
   ],
   "source": [
    "# 'CookBks' is the most sold book in the store\n",
    "\n",
    "# list of top 5 book\n",
    "\n",
    "top_5_df=df.sum().sort_values(ascending=False)[:5]\n",
    "fig=go.Figure(go.Bar(x=top_5_df.index,y=top_5_df.values,text=top_5_df.values,textposition='auto'))\n",
    "fig.update_layout(autosize=False,title_text='Top 5 Selling Books',xaxis=dict(title='Name of Book'),yaxis=dict(title='No of Books sold'))"
   ]
  },
  {
   "cell_type": "code",
   "execution_count": 62,
   "metadata": {},
   "outputs": [],
   "source": [
    "apriori_df=apriori(df.astype('bool'),min_support=0.1,use_colnames=True)"
   ]
  },
  {
   "cell_type": "code",
   "execution_count": 63,
   "metadata": {},
   "outputs": [
    {
     "data": {
      "text/html": [
       "<div>\n",
       "<style scoped>\n",
       "    .dataframe tbody tr th:only-of-type {\n",
       "        vertical-align: middle;\n",
       "    }\n",
       "\n",
       "    .dataframe tbody tr th {\n",
       "        vertical-align: top;\n",
       "    }\n",
       "\n",
       "    .dataframe thead th {\n",
       "        text-align: right;\n",
       "    }\n",
       "</style>\n",
       "<table border=\"1\" class=\"dataframe\">\n",
       "  <thead>\n",
       "    <tr style=\"text-align: right;\">\n",
       "      <th></th>\n",
       "      <th>support</th>\n",
       "      <th>itemsets</th>\n",
       "      <th>length</th>\n",
       "    </tr>\n",
       "  </thead>\n",
       "  <tbody>\n",
       "    <tr>\n",
       "      <th>0</th>\n",
       "      <td>0.4230</td>\n",
       "      <td>(ChildBks)</td>\n",
       "      <td>1</td>\n",
       "    </tr>\n",
       "    <tr>\n",
       "      <th>1</th>\n",
       "      <td>0.2475</td>\n",
       "      <td>(YouthBks)</td>\n",
       "      <td>1</td>\n",
       "    </tr>\n",
       "    <tr>\n",
       "      <th>2</th>\n",
       "      <td>0.4310</td>\n",
       "      <td>(CookBks)</td>\n",
       "      <td>1</td>\n",
       "    </tr>\n",
       "    <tr>\n",
       "      <th>3</th>\n",
       "      <td>0.2820</td>\n",
       "      <td>(DoItYBks)</td>\n",
       "      <td>1</td>\n",
       "    </tr>\n",
       "    <tr>\n",
       "      <th>4</th>\n",
       "      <td>0.2145</td>\n",
       "      <td>(RefBks)</td>\n",
       "      <td>1</td>\n",
       "    </tr>\n",
       "    <tr>\n",
       "      <th>5</th>\n",
       "      <td>0.2410</td>\n",
       "      <td>(ArtBks)</td>\n",
       "      <td>1</td>\n",
       "    </tr>\n",
       "    <tr>\n",
       "      <th>6</th>\n",
       "      <td>0.2760</td>\n",
       "      <td>(GeogBks)</td>\n",
       "      <td>1</td>\n",
       "    </tr>\n",
       "    <tr>\n",
       "      <th>7</th>\n",
       "      <td>0.1135</td>\n",
       "      <td>(ItalCook)</td>\n",
       "      <td>1</td>\n",
       "    </tr>\n",
       "    <tr>\n",
       "      <th>8</th>\n",
       "      <td>0.1085</td>\n",
       "      <td>(Florence)</td>\n",
       "      <td>1</td>\n",
       "    </tr>\n",
       "    <tr>\n",
       "      <th>9</th>\n",
       "      <td>0.1650</td>\n",
       "      <td>(YouthBks, ChildBks)</td>\n",
       "      <td>2</td>\n",
       "    </tr>\n",
       "    <tr>\n",
       "      <th>10</th>\n",
       "      <td>0.2560</td>\n",
       "      <td>(CookBks, ChildBks)</td>\n",
       "      <td>2</td>\n",
       "    </tr>\n",
       "    <tr>\n",
       "      <th>11</th>\n",
       "      <td>0.1840</td>\n",
       "      <td>(DoItYBks, ChildBks)</td>\n",
       "      <td>2</td>\n",
       "    </tr>\n",
       "    <tr>\n",
       "      <th>12</th>\n",
       "      <td>0.1515</td>\n",
       "      <td>(RefBks, ChildBks)</td>\n",
       "      <td>2</td>\n",
       "    </tr>\n",
       "    <tr>\n",
       "      <th>13</th>\n",
       "      <td>0.1625</td>\n",
       "      <td>(ArtBks, ChildBks)</td>\n",
       "      <td>2</td>\n",
       "    </tr>\n",
       "    <tr>\n",
       "      <th>14</th>\n",
       "      <td>0.1950</td>\n",
       "      <td>(GeogBks, ChildBks)</td>\n",
       "      <td>2</td>\n",
       "    </tr>\n",
       "    <tr>\n",
       "      <th>15</th>\n",
       "      <td>0.1620</td>\n",
       "      <td>(YouthBks, CookBks)</td>\n",
       "      <td>2</td>\n",
       "    </tr>\n",
       "    <tr>\n",
       "      <th>16</th>\n",
       "      <td>0.1155</td>\n",
       "      <td>(YouthBks, DoItYBks)</td>\n",
       "      <td>2</td>\n",
       "    </tr>\n",
       "    <tr>\n",
       "      <th>17</th>\n",
       "      <td>0.1010</td>\n",
       "      <td>(YouthBks, ArtBks)</td>\n",
       "      <td>2</td>\n",
       "    </tr>\n",
       "    <tr>\n",
       "      <th>18</th>\n",
       "      <td>0.1205</td>\n",
       "      <td>(YouthBks, GeogBks)</td>\n",
       "      <td>2</td>\n",
       "    </tr>\n",
       "    <tr>\n",
       "      <th>19</th>\n",
       "      <td>0.1875</td>\n",
       "      <td>(DoItYBks, CookBks)</td>\n",
       "      <td>2</td>\n",
       "    </tr>\n",
       "    <tr>\n",
       "      <th>20</th>\n",
       "      <td>0.1525</td>\n",
       "      <td>(RefBks, CookBks)</td>\n",
       "      <td>2</td>\n",
       "    </tr>\n",
       "    <tr>\n",
       "      <th>21</th>\n",
       "      <td>0.1670</td>\n",
       "      <td>(ArtBks, CookBks)</td>\n",
       "      <td>2</td>\n",
       "    </tr>\n",
       "    <tr>\n",
       "      <th>22</th>\n",
       "      <td>0.1925</td>\n",
       "      <td>(GeogBks, CookBks)</td>\n",
       "      <td>2</td>\n",
       "    </tr>\n",
       "    <tr>\n",
       "      <th>23</th>\n",
       "      <td>0.1135</td>\n",
       "      <td>(ItalCook, CookBks)</td>\n",
       "      <td>2</td>\n",
       "    </tr>\n",
       "    <tr>\n",
       "      <th>24</th>\n",
       "      <td>0.1055</td>\n",
       "      <td>(RefBks, DoItYBks)</td>\n",
       "      <td>2</td>\n",
       "    </tr>\n",
       "    <tr>\n",
       "      <th>25</th>\n",
       "      <td>0.1235</td>\n",
       "      <td>(ArtBks, DoItYBks)</td>\n",
       "      <td>2</td>\n",
       "    </tr>\n",
       "    <tr>\n",
       "      <th>26</th>\n",
       "      <td>0.1325</td>\n",
       "      <td>(GeogBks, DoItYBks)</td>\n",
       "      <td>2</td>\n",
       "    </tr>\n",
       "    <tr>\n",
       "      <th>27</th>\n",
       "      <td>0.1105</td>\n",
       "      <td>(RefBks, GeogBks)</td>\n",
       "      <td>2</td>\n",
       "    </tr>\n",
       "    <tr>\n",
       "      <th>28</th>\n",
       "      <td>0.1275</td>\n",
       "      <td>(ArtBks, GeogBks)</td>\n",
       "      <td>2</td>\n",
       "    </tr>\n",
       "    <tr>\n",
       "      <th>29</th>\n",
       "      <td>0.1290</td>\n",
       "      <td>(YouthBks, CookBks, ChildBks)</td>\n",
       "      <td>3</td>\n",
       "    </tr>\n",
       "    <tr>\n",
       "      <th>30</th>\n",
       "      <td>0.1460</td>\n",
       "      <td>(DoItYBks, CookBks, ChildBks)</td>\n",
       "      <td>3</td>\n",
       "    </tr>\n",
       "    <tr>\n",
       "      <th>31</th>\n",
       "      <td>0.1225</td>\n",
       "      <td>(RefBks, CookBks, ChildBks)</td>\n",
       "      <td>3</td>\n",
       "    </tr>\n",
       "    <tr>\n",
       "      <th>32</th>\n",
       "      <td>0.1265</td>\n",
       "      <td>(ArtBks, CookBks, ChildBks)</td>\n",
       "      <td>3</td>\n",
       "    </tr>\n",
       "    <tr>\n",
       "      <th>33</th>\n",
       "      <td>0.1495</td>\n",
       "      <td>(GeogBks, CookBks, ChildBks)</td>\n",
       "      <td>3</td>\n",
       "    </tr>\n",
       "    <tr>\n",
       "      <th>34</th>\n",
       "      <td>0.1045</td>\n",
       "      <td>(GeogBks, DoItYBks, ChildBks)</td>\n",
       "      <td>3</td>\n",
       "    </tr>\n",
       "    <tr>\n",
       "      <th>35</th>\n",
       "      <td>0.1020</td>\n",
       "      <td>(ArtBks, GeogBks, ChildBks)</td>\n",
       "      <td>3</td>\n",
       "    </tr>\n",
       "    <tr>\n",
       "      <th>36</th>\n",
       "      <td>0.1015</td>\n",
       "      <td>(ArtBks, DoItYBks, CookBks)</td>\n",
       "      <td>3</td>\n",
       "    </tr>\n",
       "    <tr>\n",
       "      <th>37</th>\n",
       "      <td>0.1085</td>\n",
       "      <td>(GeogBks, DoItYBks, CookBks)</td>\n",
       "      <td>3</td>\n",
       "    </tr>\n",
       "    <tr>\n",
       "      <th>38</th>\n",
       "      <td>0.1035</td>\n",
       "      <td>(ArtBks, GeogBks, CookBks)</td>\n",
       "      <td>3</td>\n",
       "    </tr>\n",
       "  </tbody>\n",
       "</table>\n",
       "</div>"
      ],
      "text/plain": [
       "    support                       itemsets  length\n",
       "0    0.4230                     (ChildBks)       1\n",
       "1    0.2475                     (YouthBks)       1\n",
       "2    0.4310                      (CookBks)       1\n",
       "3    0.2820                     (DoItYBks)       1\n",
       "4    0.2145                       (RefBks)       1\n",
       "5    0.2410                       (ArtBks)       1\n",
       "6    0.2760                      (GeogBks)       1\n",
       "7    0.1135                     (ItalCook)       1\n",
       "8    0.1085                     (Florence)       1\n",
       "9    0.1650           (YouthBks, ChildBks)       2\n",
       "10   0.2560            (CookBks, ChildBks)       2\n",
       "11   0.1840           (DoItYBks, ChildBks)       2\n",
       "12   0.1515             (RefBks, ChildBks)       2\n",
       "13   0.1625             (ArtBks, ChildBks)       2\n",
       "14   0.1950            (GeogBks, ChildBks)       2\n",
       "15   0.1620            (YouthBks, CookBks)       2\n",
       "16   0.1155           (YouthBks, DoItYBks)       2\n",
       "17   0.1010             (YouthBks, ArtBks)       2\n",
       "18   0.1205            (YouthBks, GeogBks)       2\n",
       "19   0.1875            (DoItYBks, CookBks)       2\n",
       "20   0.1525              (RefBks, CookBks)       2\n",
       "21   0.1670              (ArtBks, CookBks)       2\n",
       "22   0.1925             (GeogBks, CookBks)       2\n",
       "23   0.1135            (ItalCook, CookBks)       2\n",
       "24   0.1055             (RefBks, DoItYBks)       2\n",
       "25   0.1235             (ArtBks, DoItYBks)       2\n",
       "26   0.1325            (GeogBks, DoItYBks)       2\n",
       "27   0.1105              (RefBks, GeogBks)       2\n",
       "28   0.1275              (ArtBks, GeogBks)       2\n",
       "29   0.1290  (YouthBks, CookBks, ChildBks)       3\n",
       "30   0.1460  (DoItYBks, CookBks, ChildBks)       3\n",
       "31   0.1225    (RefBks, CookBks, ChildBks)       3\n",
       "32   0.1265    (ArtBks, CookBks, ChildBks)       3\n",
       "33   0.1495   (GeogBks, CookBks, ChildBks)       3\n",
       "34   0.1045  (GeogBks, DoItYBks, ChildBks)       3\n",
       "35   0.1020    (ArtBks, GeogBks, ChildBks)       3\n",
       "36   0.1015    (ArtBks, DoItYBks, CookBks)       3\n",
       "37   0.1085   (GeogBks, DoItYBks, CookBks)       3\n",
       "38   0.1035     (ArtBks, GeogBks, CookBks)       3"
      ]
     },
     "execution_count": 63,
     "metadata": {},
     "output_type": "execute_result"
    }
   ],
   "source": [
    "apriori_df['length']=apriori_df['itemsets'].apply(lambda x:len(x))\n",
    "apriori_df"
   ]
  },
  {
   "cell_type": "code",
   "execution_count": 64,
   "metadata": {},
   "outputs": [
    {
     "data": {
      "text/html": [
       "<div>\n",
       "<style scoped>\n",
       "    .dataframe tbody tr th:only-of-type {\n",
       "        vertical-align: middle;\n",
       "    }\n",
       "\n",
       "    .dataframe tbody tr th {\n",
       "        vertical-align: top;\n",
       "    }\n",
       "\n",
       "    .dataframe thead th {\n",
       "        text-align: right;\n",
       "    }\n",
       "</style>\n",
       "<table border=\"1\" class=\"dataframe\">\n",
       "  <thead>\n",
       "    <tr style=\"text-align: right;\">\n",
       "      <th></th>\n",
       "      <th>support</th>\n",
       "      <th>itemsets</th>\n",
       "    </tr>\n",
       "  </thead>\n",
       "  <tbody>\n",
       "    <tr>\n",
       "      <th>0</th>\n",
       "      <td>0.4230</td>\n",
       "      <td>(ChildBks)</td>\n",
       "    </tr>\n",
       "    <tr>\n",
       "      <th>1</th>\n",
       "      <td>0.2475</td>\n",
       "      <td>(YouthBks)</td>\n",
       "    </tr>\n",
       "    <tr>\n",
       "      <th>2</th>\n",
       "      <td>0.4310</td>\n",
       "      <td>(CookBks)</td>\n",
       "    </tr>\n",
       "    <tr>\n",
       "      <th>3</th>\n",
       "      <td>0.2820</td>\n",
       "      <td>(DoItYBks)</td>\n",
       "    </tr>\n",
       "    <tr>\n",
       "      <th>4</th>\n",
       "      <td>0.2145</td>\n",
       "      <td>(RefBks)</td>\n",
       "    </tr>\n",
       "    <tr>\n",
       "      <th>5</th>\n",
       "      <td>0.2410</td>\n",
       "      <td>(ArtBks)</td>\n",
       "    </tr>\n",
       "    <tr>\n",
       "      <th>6</th>\n",
       "      <td>0.2760</td>\n",
       "      <td>(GeogBks)</td>\n",
       "    </tr>\n",
       "    <tr>\n",
       "      <th>7</th>\n",
       "      <td>0.2560</td>\n",
       "      <td>(CookBks, ChildBks)</td>\n",
       "    </tr>\n",
       "  </tbody>\n",
       "</table>\n",
       "</div>"
      ],
      "text/plain": [
       "   support             itemsets\n",
       "0   0.4230           (ChildBks)\n",
       "1   0.2475           (YouthBks)\n",
       "2   0.4310            (CookBks)\n",
       "3   0.2820           (DoItYBks)\n",
       "4   0.2145             (RefBks)\n",
       "5   0.2410             (ArtBks)\n",
       "6   0.2760            (GeogBks)\n",
       "7   0.2560  (CookBks, ChildBks)"
      ]
     },
     "execution_count": 64,
     "metadata": {},
     "output_type": "execute_result"
    }
   ],
   "source": [
    "# While changing the threshold to 0.2\n",
    "apriori(df.astype('bool'),min_support=0.2,use_colnames=True)"
   ]
  },
  {
   "cell_type": "code",
   "execution_count": 65,
   "metadata": {},
   "outputs": [
    {
     "data": {
      "text/html": [
       "<div>\n",
       "<style scoped>\n",
       "    .dataframe tbody tr th:only-of-type {\n",
       "        vertical-align: middle;\n",
       "    }\n",
       "\n",
       "    .dataframe tbody tr th {\n",
       "        vertical-align: top;\n",
       "    }\n",
       "\n",
       "    .dataframe thead th {\n",
       "        text-align: right;\n",
       "    }\n",
       "</style>\n",
       "<table border=\"1\" class=\"dataframe\">\n",
       "  <thead>\n",
       "    <tr style=\"text-align: right;\">\n",
       "      <th></th>\n",
       "      <th>support</th>\n",
       "      <th>itemsets</th>\n",
       "    </tr>\n",
       "  </thead>\n",
       "  <tbody>\n",
       "    <tr>\n",
       "      <th>0</th>\n",
       "      <td>0.423</td>\n",
       "      <td>(ChildBks)</td>\n",
       "    </tr>\n",
       "    <tr>\n",
       "      <th>1</th>\n",
       "      <td>0.431</td>\n",
       "      <td>(CookBks)</td>\n",
       "    </tr>\n",
       "  </tbody>\n",
       "</table>\n",
       "</div>"
      ],
      "text/plain": [
       "   support    itemsets\n",
       "0    0.423  (ChildBks)\n",
       "1    0.431   (CookBks)"
      ]
     },
     "execution_count": 65,
     "metadata": {},
     "output_type": "execute_result"
    }
   ],
   "source": [
    "# only 7 rules we got\n",
    "# Now with 0.3\n",
    "apriori(df.astype('bool'),min_support=0.3,use_colnames=True)"
   ]
  },
  {
   "cell_type": "code",
   "execution_count": 66,
   "metadata": {},
   "outputs": [],
   "source": [
    "# Only 2 rules we got"
   ]
  },
  {
   "cell_type": "code",
   "execution_count": 67,
   "metadata": {},
   "outputs": [
    {
     "data": {
      "text/html": [
       "<div>\n",
       "<style scoped>\n",
       "    .dataframe tbody tr th:only-of-type {\n",
       "        vertical-align: middle;\n",
       "    }\n",
       "\n",
       "    .dataframe tbody tr th {\n",
       "        vertical-align: top;\n",
       "    }\n",
       "\n",
       "    .dataframe thead th {\n",
       "        text-align: right;\n",
       "    }\n",
       "</style>\n",
       "<table border=\"1\" class=\"dataframe\">\n",
       "  <thead>\n",
       "    <tr style=\"text-align: right;\">\n",
       "      <th></th>\n",
       "      <th>support</th>\n",
       "      <th>itemsets</th>\n",
       "      <th>length</th>\n",
       "    </tr>\n",
       "  </thead>\n",
       "  <tbody>\n",
       "    <tr>\n",
       "      <th>2</th>\n",
       "      <td>0.4310</td>\n",
       "      <td>(CookBks)</td>\n",
       "      <td>1</td>\n",
       "    </tr>\n",
       "    <tr>\n",
       "      <th>0</th>\n",
       "      <td>0.4230</td>\n",
       "      <td>(ChildBks)</td>\n",
       "      <td>1</td>\n",
       "    </tr>\n",
       "    <tr>\n",
       "      <th>3</th>\n",
       "      <td>0.2820</td>\n",
       "      <td>(DoItYBks)</td>\n",
       "      <td>1</td>\n",
       "    </tr>\n",
       "    <tr>\n",
       "      <th>6</th>\n",
       "      <td>0.2760</td>\n",
       "      <td>(GeogBks)</td>\n",
       "      <td>1</td>\n",
       "    </tr>\n",
       "    <tr>\n",
       "      <th>1</th>\n",
       "      <td>0.2475</td>\n",
       "      <td>(YouthBks)</td>\n",
       "      <td>1</td>\n",
       "    </tr>\n",
       "    <tr>\n",
       "      <th>5</th>\n",
       "      <td>0.2410</td>\n",
       "      <td>(ArtBks)</td>\n",
       "      <td>1</td>\n",
       "    </tr>\n",
       "    <tr>\n",
       "      <th>4</th>\n",
       "      <td>0.2145</td>\n",
       "      <td>(RefBks)</td>\n",
       "      <td>1</td>\n",
       "    </tr>\n",
       "    <tr>\n",
       "      <th>7</th>\n",
       "      <td>0.1135</td>\n",
       "      <td>(ItalCook)</td>\n",
       "      <td>1</td>\n",
       "    </tr>\n",
       "    <tr>\n",
       "      <th>8</th>\n",
       "      <td>0.1085</td>\n",
       "      <td>(Florence)</td>\n",
       "      <td>1</td>\n",
       "    </tr>\n",
       "  </tbody>\n",
       "</table>\n",
       "</div>"
      ],
      "text/plain": [
       "   support    itemsets  length\n",
       "2   0.4310   (CookBks)       1\n",
       "0   0.4230  (ChildBks)       1\n",
       "3   0.2820  (DoItYBks)       1\n",
       "6   0.2760   (GeogBks)       1\n",
       "1   0.2475  (YouthBks)       1\n",
       "5   0.2410    (ArtBks)       1\n",
       "4   0.2145    (RefBks)       1\n",
       "7   0.1135  (ItalCook)       1\n",
       "8   0.1085  (Florence)       1"
      ]
     },
     "execution_count": 67,
     "metadata": {},
     "output_type": "execute_result"
    }
   ],
   "source": [
    "# With length=1 apriori algorithm will be\n",
    "apriori_df[apriori_df['length']==1].sort_values('support',ascending=False)"
   ]
  },
  {
   "attachments": {},
   "cell_type": "markdown",
   "metadata": {},
   "source": [
    "'CookBks' and 'ChildBks' gives maximum support  "
   ]
  },
  {
   "cell_type": "code",
   "execution_count": 68,
   "metadata": {},
   "outputs": [
    {
     "data": {
      "text/html": [
       "<div>\n",
       "<style scoped>\n",
       "    .dataframe tbody tr th:only-of-type {\n",
       "        vertical-align: middle;\n",
       "    }\n",
       "\n",
       "    .dataframe tbody tr th {\n",
       "        vertical-align: top;\n",
       "    }\n",
       "\n",
       "    .dataframe thead th {\n",
       "        text-align: right;\n",
       "    }\n",
       "</style>\n",
       "<table border=\"1\" class=\"dataframe\">\n",
       "  <thead>\n",
       "    <tr style=\"text-align: right;\">\n",
       "      <th></th>\n",
       "      <th>support</th>\n",
       "      <th>itemsets</th>\n",
       "      <th>length</th>\n",
       "    </tr>\n",
       "  </thead>\n",
       "  <tbody>\n",
       "    <tr>\n",
       "      <th>10</th>\n",
       "      <td>0.2560</td>\n",
       "      <td>(CookBks, ChildBks)</td>\n",
       "      <td>2</td>\n",
       "    </tr>\n",
       "    <tr>\n",
       "      <th>14</th>\n",
       "      <td>0.1950</td>\n",
       "      <td>(GeogBks, ChildBks)</td>\n",
       "      <td>2</td>\n",
       "    </tr>\n",
       "    <tr>\n",
       "      <th>22</th>\n",
       "      <td>0.1925</td>\n",
       "      <td>(GeogBks, CookBks)</td>\n",
       "      <td>2</td>\n",
       "    </tr>\n",
       "    <tr>\n",
       "      <th>19</th>\n",
       "      <td>0.1875</td>\n",
       "      <td>(DoItYBks, CookBks)</td>\n",
       "      <td>2</td>\n",
       "    </tr>\n",
       "    <tr>\n",
       "      <th>11</th>\n",
       "      <td>0.1840</td>\n",
       "      <td>(DoItYBks, ChildBks)</td>\n",
       "      <td>2</td>\n",
       "    </tr>\n",
       "    <tr>\n",
       "      <th>21</th>\n",
       "      <td>0.1670</td>\n",
       "      <td>(ArtBks, CookBks)</td>\n",
       "      <td>2</td>\n",
       "    </tr>\n",
       "    <tr>\n",
       "      <th>9</th>\n",
       "      <td>0.1650</td>\n",
       "      <td>(YouthBks, ChildBks)</td>\n",
       "      <td>2</td>\n",
       "    </tr>\n",
       "    <tr>\n",
       "      <th>13</th>\n",
       "      <td>0.1625</td>\n",
       "      <td>(ArtBks, ChildBks)</td>\n",
       "      <td>2</td>\n",
       "    </tr>\n",
       "    <tr>\n",
       "      <th>15</th>\n",
       "      <td>0.1620</td>\n",
       "      <td>(YouthBks, CookBks)</td>\n",
       "      <td>2</td>\n",
       "    </tr>\n",
       "    <tr>\n",
       "      <th>20</th>\n",
       "      <td>0.1525</td>\n",
       "      <td>(RefBks, CookBks)</td>\n",
       "      <td>2</td>\n",
       "    </tr>\n",
       "    <tr>\n",
       "      <th>12</th>\n",
       "      <td>0.1515</td>\n",
       "      <td>(RefBks, ChildBks)</td>\n",
       "      <td>2</td>\n",
       "    </tr>\n",
       "    <tr>\n",
       "      <th>26</th>\n",
       "      <td>0.1325</td>\n",
       "      <td>(GeogBks, DoItYBks)</td>\n",
       "      <td>2</td>\n",
       "    </tr>\n",
       "    <tr>\n",
       "      <th>28</th>\n",
       "      <td>0.1275</td>\n",
       "      <td>(ArtBks, GeogBks)</td>\n",
       "      <td>2</td>\n",
       "    </tr>\n",
       "    <tr>\n",
       "      <th>25</th>\n",
       "      <td>0.1235</td>\n",
       "      <td>(ArtBks, DoItYBks)</td>\n",
       "      <td>2</td>\n",
       "    </tr>\n",
       "    <tr>\n",
       "      <th>18</th>\n",
       "      <td>0.1205</td>\n",
       "      <td>(YouthBks, GeogBks)</td>\n",
       "      <td>2</td>\n",
       "    </tr>\n",
       "    <tr>\n",
       "      <th>16</th>\n",
       "      <td>0.1155</td>\n",
       "      <td>(YouthBks, DoItYBks)</td>\n",
       "      <td>2</td>\n",
       "    </tr>\n",
       "    <tr>\n",
       "      <th>23</th>\n",
       "      <td>0.1135</td>\n",
       "      <td>(ItalCook, CookBks)</td>\n",
       "      <td>2</td>\n",
       "    </tr>\n",
       "    <tr>\n",
       "      <th>27</th>\n",
       "      <td>0.1105</td>\n",
       "      <td>(RefBks, GeogBks)</td>\n",
       "      <td>2</td>\n",
       "    </tr>\n",
       "    <tr>\n",
       "      <th>24</th>\n",
       "      <td>0.1055</td>\n",
       "      <td>(RefBks, DoItYBks)</td>\n",
       "      <td>2</td>\n",
       "    </tr>\n",
       "    <tr>\n",
       "      <th>17</th>\n",
       "      <td>0.1010</td>\n",
       "      <td>(YouthBks, ArtBks)</td>\n",
       "      <td>2</td>\n",
       "    </tr>\n",
       "  </tbody>\n",
       "</table>\n",
       "</div>"
      ],
      "text/plain": [
       "    support              itemsets  length\n",
       "10   0.2560   (CookBks, ChildBks)       2\n",
       "14   0.1950   (GeogBks, ChildBks)       2\n",
       "22   0.1925    (GeogBks, CookBks)       2\n",
       "19   0.1875   (DoItYBks, CookBks)       2\n",
       "11   0.1840  (DoItYBks, ChildBks)       2\n",
       "21   0.1670     (ArtBks, CookBks)       2\n",
       "9    0.1650  (YouthBks, ChildBks)       2\n",
       "13   0.1625    (ArtBks, ChildBks)       2\n",
       "15   0.1620   (YouthBks, CookBks)       2\n",
       "20   0.1525     (RefBks, CookBks)       2\n",
       "12   0.1515    (RefBks, ChildBks)       2\n",
       "26   0.1325   (GeogBks, DoItYBks)       2\n",
       "28   0.1275     (ArtBks, GeogBks)       2\n",
       "25   0.1235    (ArtBks, DoItYBks)       2\n",
       "18   0.1205   (YouthBks, GeogBks)       2\n",
       "16   0.1155  (YouthBks, DoItYBks)       2\n",
       "23   0.1135   (ItalCook, CookBks)       2\n",
       "27   0.1105     (RefBks, GeogBks)       2\n",
       "24   0.1055    (RefBks, DoItYBks)       2\n",
       "17   0.1010    (YouthBks, ArtBks)       2"
      ]
     },
     "execution_count": 68,
     "metadata": {},
     "output_type": "execute_result"
    }
   ],
   "source": [
    "# With length=2 apriori algorithm will be\n",
    "apriori_df[apriori_df['length']==2].sort_values('support',ascending=False)"
   ]
  },
  {
   "attachments": {},
   "cell_type": "markdown",
   "metadata": {},
   "source": [
    "'ChildBks' and 'CookBks' have the maximum support"
   ]
  },
  {
   "cell_type": "code",
   "execution_count": 69,
   "metadata": {},
   "outputs": [
    {
     "data": {
      "text/html": [
       "<div>\n",
       "<style scoped>\n",
       "    .dataframe tbody tr th:only-of-type {\n",
       "        vertical-align: middle;\n",
       "    }\n",
       "\n",
       "    .dataframe tbody tr th {\n",
       "        vertical-align: top;\n",
       "    }\n",
       "\n",
       "    .dataframe thead th {\n",
       "        text-align: right;\n",
       "    }\n",
       "</style>\n",
       "<table border=\"1\" class=\"dataframe\">\n",
       "  <thead>\n",
       "    <tr style=\"text-align: right;\">\n",
       "      <th></th>\n",
       "      <th>support</th>\n",
       "      <th>itemsets</th>\n",
       "      <th>length</th>\n",
       "    </tr>\n",
       "  </thead>\n",
       "  <tbody>\n",
       "    <tr>\n",
       "      <th>33</th>\n",
       "      <td>0.1495</td>\n",
       "      <td>(GeogBks, CookBks, ChildBks)</td>\n",
       "      <td>3</td>\n",
       "    </tr>\n",
       "    <tr>\n",
       "      <th>30</th>\n",
       "      <td>0.1460</td>\n",
       "      <td>(DoItYBks, CookBks, ChildBks)</td>\n",
       "      <td>3</td>\n",
       "    </tr>\n",
       "    <tr>\n",
       "      <th>29</th>\n",
       "      <td>0.1290</td>\n",
       "      <td>(YouthBks, CookBks, ChildBks)</td>\n",
       "      <td>3</td>\n",
       "    </tr>\n",
       "    <tr>\n",
       "      <th>32</th>\n",
       "      <td>0.1265</td>\n",
       "      <td>(ArtBks, CookBks, ChildBks)</td>\n",
       "      <td>3</td>\n",
       "    </tr>\n",
       "    <tr>\n",
       "      <th>31</th>\n",
       "      <td>0.1225</td>\n",
       "      <td>(RefBks, CookBks, ChildBks)</td>\n",
       "      <td>3</td>\n",
       "    </tr>\n",
       "    <tr>\n",
       "      <th>37</th>\n",
       "      <td>0.1085</td>\n",
       "      <td>(GeogBks, DoItYBks, CookBks)</td>\n",
       "      <td>3</td>\n",
       "    </tr>\n",
       "    <tr>\n",
       "      <th>34</th>\n",
       "      <td>0.1045</td>\n",
       "      <td>(GeogBks, DoItYBks, ChildBks)</td>\n",
       "      <td>3</td>\n",
       "    </tr>\n",
       "    <tr>\n",
       "      <th>38</th>\n",
       "      <td>0.1035</td>\n",
       "      <td>(ArtBks, GeogBks, CookBks)</td>\n",
       "      <td>3</td>\n",
       "    </tr>\n",
       "    <tr>\n",
       "      <th>35</th>\n",
       "      <td>0.1020</td>\n",
       "      <td>(ArtBks, GeogBks, ChildBks)</td>\n",
       "      <td>3</td>\n",
       "    </tr>\n",
       "    <tr>\n",
       "      <th>36</th>\n",
       "      <td>0.1015</td>\n",
       "      <td>(ArtBks, DoItYBks, CookBks)</td>\n",
       "      <td>3</td>\n",
       "    </tr>\n",
       "  </tbody>\n",
       "</table>\n",
       "</div>"
      ],
      "text/plain": [
       "    support                       itemsets  length\n",
       "33   0.1495   (GeogBks, CookBks, ChildBks)       3\n",
       "30   0.1460  (DoItYBks, CookBks, ChildBks)       3\n",
       "29   0.1290  (YouthBks, CookBks, ChildBks)       3\n",
       "32   0.1265    (ArtBks, CookBks, ChildBks)       3\n",
       "31   0.1225    (RefBks, CookBks, ChildBks)       3\n",
       "37   0.1085   (GeogBks, DoItYBks, CookBks)       3\n",
       "34   0.1045  (GeogBks, DoItYBks, ChildBks)       3\n",
       "38   0.1035     (ArtBks, GeogBks, CookBks)       3\n",
       "35   0.1020    (ArtBks, GeogBks, ChildBks)       3\n",
       "36   0.1015    (ArtBks, DoItYBks, CookBks)       3"
      ]
     },
     "execution_count": 69,
     "metadata": {},
     "output_type": "execute_result"
    }
   ],
   "source": [
    "# With length=3 apriori algorithm will be\n",
    "apriori_df[apriori_df['length']==3].sort_values('support',ascending=False)"
   ]
  },
  {
   "attachments": {},
   "cell_type": "markdown",
   "metadata": {},
   "source": [
    "Most of the people purchased 'CookBks', followed by 'ChildBks' and 'GeogBks'. "
   ]
  },
  {
   "cell_type": "code",
   "execution_count": 70,
   "metadata": {},
   "outputs": [
    {
     "data": {
      "text/html": [
       "<div>\n",
       "<style scoped>\n",
       "    .dataframe tbody tr th:only-of-type {\n",
       "        vertical-align: middle;\n",
       "    }\n",
       "\n",
       "    .dataframe tbody tr th {\n",
       "        vertical-align: top;\n",
       "    }\n",
       "\n",
       "    .dataframe thead th {\n",
       "        text-align: right;\n",
       "    }\n",
       "</style>\n",
       "<table border=\"1\" class=\"dataframe\">\n",
       "  <thead>\n",
       "    <tr style=\"text-align: right;\">\n",
       "      <th></th>\n",
       "      <th>antecedents</th>\n",
       "      <th>consequents</th>\n",
       "      <th>antecedent support</th>\n",
       "      <th>consequent support</th>\n",
       "      <th>support</th>\n",
       "      <th>confidence</th>\n",
       "      <th>lift</th>\n",
       "      <th>leverage</th>\n",
       "      <th>conviction</th>\n",
       "    </tr>\n",
       "  </thead>\n",
       "  <tbody>\n",
       "    <tr>\n",
       "      <th>29</th>\n",
       "      <td>(CookBks)</td>\n",
       "      <td>(ItalCook)</td>\n",
       "      <td>0.4310</td>\n",
       "      <td>0.1135</td>\n",
       "      <td>0.1135</td>\n",
       "      <td>0.263341</td>\n",
       "      <td>2.320186</td>\n",
       "      <td>0.064582</td>\n",
       "      <td>1.203406</td>\n",
       "    </tr>\n",
       "    <tr>\n",
       "      <th>28</th>\n",
       "      <td>(ItalCook)</td>\n",
       "      <td>(CookBks)</td>\n",
       "      <td>0.1135</td>\n",
       "      <td>0.4310</td>\n",
       "      <td>0.1135</td>\n",
       "      <td>1.000000</td>\n",
       "      <td>2.320186</td>\n",
       "      <td>0.064582</td>\n",
       "      <td>inf</td>\n",
       "    </tr>\n",
       "    <tr>\n",
       "      <th>77</th>\n",
       "      <td>(ArtBks, ChildBks)</td>\n",
       "      <td>(GeogBks)</td>\n",
       "      <td>0.1625</td>\n",
       "      <td>0.2760</td>\n",
       "      <td>0.1020</td>\n",
       "      <td>0.627692</td>\n",
       "      <td>2.274247</td>\n",
       "      <td>0.057150</td>\n",
       "      <td>1.944628</td>\n",
       "    </tr>\n",
       "    <tr>\n",
       "      <th>80</th>\n",
       "      <td>(GeogBks)</td>\n",
       "      <td>(ArtBks, ChildBks)</td>\n",
       "      <td>0.2760</td>\n",
       "      <td>0.1625</td>\n",
       "      <td>0.1020</td>\n",
       "      <td>0.369565</td>\n",
       "      <td>2.274247</td>\n",
       "      <td>0.057150</td>\n",
       "      <td>1.328448</td>\n",
       "    </tr>\n",
       "    <tr>\n",
       "      <th>85</th>\n",
       "      <td>(ArtBks)</td>\n",
       "      <td>(DoItYBks, CookBks)</td>\n",
       "      <td>0.2410</td>\n",
       "      <td>0.1875</td>\n",
       "      <td>0.1015</td>\n",
       "      <td>0.421162</td>\n",
       "      <td>2.246196</td>\n",
       "      <td>0.056313</td>\n",
       "      <td>1.403674</td>\n",
       "    </tr>\n",
       "    <tr>\n",
       "      <th>...</th>\n",
       "      <td>...</td>\n",
       "      <td>...</td>\n",
       "      <td>...</td>\n",
       "      <td>...</td>\n",
       "      <td>...</td>\n",
       "      <td>...</td>\n",
       "      <td>...</td>\n",
       "      <td>...</td>\n",
       "      <td>...</td>\n",
       "    </tr>\n",
       "    <tr>\n",
       "      <th>4</th>\n",
       "      <td>(DoItYBks)</td>\n",
       "      <td>(ChildBks)</td>\n",
       "      <td>0.2820</td>\n",
       "      <td>0.4230</td>\n",
       "      <td>0.1840</td>\n",
       "      <td>0.652482</td>\n",
       "      <td>1.542511</td>\n",
       "      <td>0.064714</td>\n",
       "      <td>1.660347</td>\n",
       "    </tr>\n",
       "    <tr>\n",
       "      <th>12</th>\n",
       "      <td>(YouthBks)</td>\n",
       "      <td>(CookBks)</td>\n",
       "      <td>0.2475</td>\n",
       "      <td>0.4310</td>\n",
       "      <td>0.1620</td>\n",
       "      <td>0.654545</td>\n",
       "      <td>1.518667</td>\n",
       "      <td>0.055328</td>\n",
       "      <td>1.647105</td>\n",
       "    </tr>\n",
       "    <tr>\n",
       "      <th>13</th>\n",
       "      <td>(CookBks)</td>\n",
       "      <td>(YouthBks)</td>\n",
       "      <td>0.4310</td>\n",
       "      <td>0.2475</td>\n",
       "      <td>0.1620</td>\n",
       "      <td>0.375870</td>\n",
       "      <td>1.518667</td>\n",
       "      <td>0.055328</td>\n",
       "      <td>1.205678</td>\n",
       "    </tr>\n",
       "    <tr>\n",
       "      <th>3</th>\n",
       "      <td>(ChildBks)</td>\n",
       "      <td>(CookBks)</td>\n",
       "      <td>0.4230</td>\n",
       "      <td>0.4310</td>\n",
       "      <td>0.2560</td>\n",
       "      <td>0.605201</td>\n",
       "      <td>1.404179</td>\n",
       "      <td>0.073687</td>\n",
       "      <td>1.441240</td>\n",
       "    </tr>\n",
       "    <tr>\n",
       "      <th>2</th>\n",
       "      <td>(CookBks)</td>\n",
       "      <td>(ChildBks)</td>\n",
       "      <td>0.4310</td>\n",
       "      <td>0.4230</td>\n",
       "      <td>0.2560</td>\n",
       "      <td>0.593968</td>\n",
       "      <td>1.404179</td>\n",
       "      <td>0.073687</td>\n",
       "      <td>1.421069</td>\n",
       "    </tr>\n",
       "  </tbody>\n",
       "</table>\n",
       "<p>100 rows × 9 columns</p>\n",
       "</div>"
      ],
      "text/plain": [
       "           antecedents          consequents  antecedent support  \\\n",
       "29           (CookBks)           (ItalCook)              0.4310   \n",
       "28          (ItalCook)            (CookBks)              0.1135   \n",
       "77  (ArtBks, ChildBks)            (GeogBks)              0.1625   \n",
       "80           (GeogBks)   (ArtBks, ChildBks)              0.2760   \n",
       "85            (ArtBks)  (DoItYBks, CookBks)              0.2410   \n",
       "..                 ...                  ...                 ...   \n",
       "4           (DoItYBks)           (ChildBks)              0.2820   \n",
       "12          (YouthBks)            (CookBks)              0.2475   \n",
       "13           (CookBks)           (YouthBks)              0.4310   \n",
       "3           (ChildBks)            (CookBks)              0.4230   \n",
       "2            (CookBks)           (ChildBks)              0.4310   \n",
       "\n",
       "    consequent support  support  confidence      lift  leverage  conviction  \n",
       "29              0.1135   0.1135    0.263341  2.320186  0.064582    1.203406  \n",
       "28              0.4310   0.1135    1.000000  2.320186  0.064582         inf  \n",
       "77              0.2760   0.1020    0.627692  2.274247  0.057150    1.944628  \n",
       "80              0.1625   0.1020    0.369565  2.274247  0.057150    1.328448  \n",
       "85              0.1875   0.1015    0.421162  2.246196  0.056313    1.403674  \n",
       "..                 ...      ...         ...       ...       ...         ...  \n",
       "4               0.4230   0.1840    0.652482  1.542511  0.064714    1.660347  \n",
       "12              0.4310   0.1620    0.654545  1.518667  0.055328    1.647105  \n",
       "13              0.2475   0.1620    0.375870  1.518667  0.055328    1.205678  \n",
       "3               0.4310   0.2560    0.605201  1.404179  0.073687    1.441240  \n",
       "2               0.4230   0.2560    0.593968  1.404179  0.073687    1.421069  \n",
       "\n",
       "[100 rows x 9 columns]"
      ]
     },
     "execution_count": 70,
     "metadata": {},
     "output_type": "execute_result"
    }
   ],
   "source": [
    "# Making association rules\n",
    "rules_df=association_rules(apriori_df,metric='lift', min_threshold=1).sort_values('lift',ascending=False)\n",
    "rules_df"
   ]
  },
  {
   "cell_type": "code",
   "execution_count": 71,
   "metadata": {},
   "outputs": [],
   "source": [
    "def scatter_plot(df,x,y):\n",
    "    fig=go.Figure()\n",
    "    fig.add_scatter(x=df[x],y=df[y],mode='markers')\n",
    "    fig.update_layout(xaxis=dict(linecolor='#373645',\n",
    "                                 title=x),\n",
    "                      yaxis=dict(linecolor='#373645',\n",
    "                                 title=y),\n",
    "                      plot_bgcolor='white',\n",
    "                    #   showlegend=False,\n",
    "                      autosize=False,\n",
    "                      title_text=f'<b>{x} vs {y}</b>')\n",
    "    fig.show()"
   ]
  },
  {
   "cell_type": "code",
   "execution_count": 72,
   "metadata": {},
   "outputs": [
    {
     "data": {
      "application/vnd.plotly.v1+json": {
       "config": {
        "plotlyServerURL": "https://plot.ly"
       },
       "data": [
        {
         "mode": "markers",
         "type": "scatter",
         "x": [
          0.1135,
          0.1135,
          0.102,
          0.102,
          0.1015,
          0.1015,
          0.1035,
          0.1035,
          0.1035,
          0.1035,
          0.1225,
          0.1225,
          0.102,
          0.102,
          0.1015,
          0.1015,
          0.1495,
          0.1495,
          0.1085,
          0.1085,
          0.1045,
          0.1045,
          0.1265,
          0.1265,
          0.129,
          0.129,
          0.146,
          0.146,
          0.1085,
          0.1085,
          0.1275,
          0.1275,
          0.1015,
          0.1015,
          0.1045,
          0.1045,
          0.1085,
          0.1085,
          0.1225,
          0.1225,
          0.102,
          0.102,
          0.1035,
          0.1035,
          0.129,
          0.129,
          0.1225,
          0.1225,
          0.1105,
          0.1105,
          0.1045,
          0.1045,
          0.146,
          0.146,
          0.146,
          0.146,
          0.1495,
          0.1495,
          0.1235,
          0.1235,
          0.129,
          0.129,
          0.1265,
          0.1265,
          0.1265,
          0.1265,
          0.1495,
          0.1495,
          0.1205,
          0.1205,
          0.1055,
          0.1055,
          0.1325,
          0.1325,
          0.101,
          0.101,
          0.195,
          0.195,
          0.1515,
          0.1515,
          0.1155,
          0.1155,
          0.1525,
          0.1525,
          0.1925,
          0.1925,
          0.167,
          0.167,
          0.1625,
          0.1625,
          0.165,
          0.165,
          0.1875,
          0.1875,
          0.184,
          0.184,
          0.162,
          0.162,
          0.256,
          0.256
         ],
         "y": [
          0.26334106728538287,
          1,
          0.6276923076923077,
          0.36956521739130427,
          0.42116182572614114,
          0.5413333333333333,
          0.6197604790419161,
          0.37499999999999994,
          0.42946058091286304,
          0.5376623376623376,
          0.478515625,
          0.5710955710955711,
          0.42323651452282157,
          0.523076923076923,
          0.35992907801418444,
          0.6077844311377245,
          0.583984375,
          0.5416666666666666,
          0.5786666666666667,
          0.3931159420289855,
          0.5679347826086957,
          0.37862318840579706,
          0.524896265560166,
          0.494140625,
          0.5212121212121212,
          0.50390625,
          0.5703125,
          0.5177304964539007,
          0.5636363636363636,
          0.3847517730496454,
          0.529045643153527,
          0.4619565217391304,
          0.8218623481781377,
          0.2354988399071926,
          0.5358974358974359,
          0.37056737588652483,
          0.2517401392111369,
          0.8188679245283018,
          0.28959810874704495,
          0.8032786885245902,
          0.7999999999999999,
          0.24113475177304963,
          0.24013921113689093,
          0.8117647058823528,
          0.7962962962962963,
          0.3049645390070922,
          0.8085808580858086,
          0.2842227378190255,
          0.40036231884057966,
          0.5151515151515151,
          0.7886792452830188,
          0.2470449172576832,
          0.7934782608695652,
          0.3387470997679814,
          0.34515366430260047,
          0.7786666666666666,
          0.3534278959810875,
          0.7766233766233765,
          0.512448132780083,
          0.43794326241134757,
          0.29930394431554525,
          0.7818181818181819,
          0.7784615384615384,
          0.29350348027842227,
          0.7574850299401197,
          0.2990543735224586,
          0.3468677494199536,
          0.7666666666666666,
          0.48686868686868684,
          0.43659420289855067,
          0.49184149184149184,
          0.374113475177305,
          0.4698581560283689,
          0.4800724637681159,
          0.41908713692946065,
          0.4080808080808081,
          0.4609929078014185,
          0.7065217391304347,
          0.35815602836879434,
          0.7062937062937062,
          0.4666666666666667,
          0.40957446808510645,
          0.3538283062645012,
          0.710955710955711,
          0.4466357308584687,
          0.697463768115942,
          0.3874709976798144,
          0.6929460580912864,
          0.38416075650118203,
          0.6742738589211619,
          0.6666666666666667,
          0.3900709219858156,
          0.43503480278422274,
          0.6648936170212767,
          0.43498817966903075,
          0.6524822695035462,
          0.6545454545454545,
          0.37587006960556846,
          0.6052009456264775,
          0.5939675174013921
         ]
        }
       ],
       "layout": {
        "autosize": false,
        "plot_bgcolor": "white",
        "template": {
         "data": {
          "bar": [
           {
            "error_x": {
             "color": "#2a3f5f"
            },
            "error_y": {
             "color": "#2a3f5f"
            },
            "marker": {
             "line": {
              "color": "#E5ECF6",
              "width": 0.5
             },
             "pattern": {
              "fillmode": "overlay",
              "size": 10,
              "solidity": 0.2
             }
            },
            "type": "bar"
           }
          ],
          "barpolar": [
           {
            "marker": {
             "line": {
              "color": "#E5ECF6",
              "width": 0.5
             },
             "pattern": {
              "fillmode": "overlay",
              "size": 10,
              "solidity": 0.2
             }
            },
            "type": "barpolar"
           }
          ],
          "carpet": [
           {
            "aaxis": {
             "endlinecolor": "#2a3f5f",
             "gridcolor": "white",
             "linecolor": "white",
             "minorgridcolor": "white",
             "startlinecolor": "#2a3f5f"
            },
            "baxis": {
             "endlinecolor": "#2a3f5f",
             "gridcolor": "white",
             "linecolor": "white",
             "minorgridcolor": "white",
             "startlinecolor": "#2a3f5f"
            },
            "type": "carpet"
           }
          ],
          "choropleth": [
           {
            "colorbar": {
             "outlinewidth": 0,
             "ticks": ""
            },
            "type": "choropleth"
           }
          ],
          "contour": [
           {
            "colorbar": {
             "outlinewidth": 0,
             "ticks": ""
            },
            "colorscale": [
             [
              0,
              "#0d0887"
             ],
             [
              0.1111111111111111,
              "#46039f"
             ],
             [
              0.2222222222222222,
              "#7201a8"
             ],
             [
              0.3333333333333333,
              "#9c179e"
             ],
             [
              0.4444444444444444,
              "#bd3786"
             ],
             [
              0.5555555555555556,
              "#d8576b"
             ],
             [
              0.6666666666666666,
              "#ed7953"
             ],
             [
              0.7777777777777778,
              "#fb9f3a"
             ],
             [
              0.8888888888888888,
              "#fdca26"
             ],
             [
              1,
              "#f0f921"
             ]
            ],
            "type": "contour"
           }
          ],
          "contourcarpet": [
           {
            "colorbar": {
             "outlinewidth": 0,
             "ticks": ""
            },
            "type": "contourcarpet"
           }
          ],
          "heatmap": [
           {
            "colorbar": {
             "outlinewidth": 0,
             "ticks": ""
            },
            "colorscale": [
             [
              0,
              "#0d0887"
             ],
             [
              0.1111111111111111,
              "#46039f"
             ],
             [
              0.2222222222222222,
              "#7201a8"
             ],
             [
              0.3333333333333333,
              "#9c179e"
             ],
             [
              0.4444444444444444,
              "#bd3786"
             ],
             [
              0.5555555555555556,
              "#d8576b"
             ],
             [
              0.6666666666666666,
              "#ed7953"
             ],
             [
              0.7777777777777778,
              "#fb9f3a"
             ],
             [
              0.8888888888888888,
              "#fdca26"
             ],
             [
              1,
              "#f0f921"
             ]
            ],
            "type": "heatmap"
           }
          ],
          "heatmapgl": [
           {
            "colorbar": {
             "outlinewidth": 0,
             "ticks": ""
            },
            "colorscale": [
             [
              0,
              "#0d0887"
             ],
             [
              0.1111111111111111,
              "#46039f"
             ],
             [
              0.2222222222222222,
              "#7201a8"
             ],
             [
              0.3333333333333333,
              "#9c179e"
             ],
             [
              0.4444444444444444,
              "#bd3786"
             ],
             [
              0.5555555555555556,
              "#d8576b"
             ],
             [
              0.6666666666666666,
              "#ed7953"
             ],
             [
              0.7777777777777778,
              "#fb9f3a"
             ],
             [
              0.8888888888888888,
              "#fdca26"
             ],
             [
              1,
              "#f0f921"
             ]
            ],
            "type": "heatmapgl"
           }
          ],
          "histogram": [
           {
            "marker": {
             "pattern": {
              "fillmode": "overlay",
              "size": 10,
              "solidity": 0.2
             }
            },
            "type": "histogram"
           }
          ],
          "histogram2d": [
           {
            "colorbar": {
             "outlinewidth": 0,
             "ticks": ""
            },
            "colorscale": [
             [
              0,
              "#0d0887"
             ],
             [
              0.1111111111111111,
              "#46039f"
             ],
             [
              0.2222222222222222,
              "#7201a8"
             ],
             [
              0.3333333333333333,
              "#9c179e"
             ],
             [
              0.4444444444444444,
              "#bd3786"
             ],
             [
              0.5555555555555556,
              "#d8576b"
             ],
             [
              0.6666666666666666,
              "#ed7953"
             ],
             [
              0.7777777777777778,
              "#fb9f3a"
             ],
             [
              0.8888888888888888,
              "#fdca26"
             ],
             [
              1,
              "#f0f921"
             ]
            ],
            "type": "histogram2d"
           }
          ],
          "histogram2dcontour": [
           {
            "colorbar": {
             "outlinewidth": 0,
             "ticks": ""
            },
            "colorscale": [
             [
              0,
              "#0d0887"
             ],
             [
              0.1111111111111111,
              "#46039f"
             ],
             [
              0.2222222222222222,
              "#7201a8"
             ],
             [
              0.3333333333333333,
              "#9c179e"
             ],
             [
              0.4444444444444444,
              "#bd3786"
             ],
             [
              0.5555555555555556,
              "#d8576b"
             ],
             [
              0.6666666666666666,
              "#ed7953"
             ],
             [
              0.7777777777777778,
              "#fb9f3a"
             ],
             [
              0.8888888888888888,
              "#fdca26"
             ],
             [
              1,
              "#f0f921"
             ]
            ],
            "type": "histogram2dcontour"
           }
          ],
          "mesh3d": [
           {
            "colorbar": {
             "outlinewidth": 0,
             "ticks": ""
            },
            "type": "mesh3d"
           }
          ],
          "parcoords": [
           {
            "line": {
             "colorbar": {
              "outlinewidth": 0,
              "ticks": ""
             }
            },
            "type": "parcoords"
           }
          ],
          "pie": [
           {
            "automargin": true,
            "type": "pie"
           }
          ],
          "scatter": [
           {
            "fillpattern": {
             "fillmode": "overlay",
             "size": 10,
             "solidity": 0.2
            },
            "type": "scatter"
           }
          ],
          "scatter3d": [
           {
            "line": {
             "colorbar": {
              "outlinewidth": 0,
              "ticks": ""
             }
            },
            "marker": {
             "colorbar": {
              "outlinewidth": 0,
              "ticks": ""
             }
            },
            "type": "scatter3d"
           }
          ],
          "scattercarpet": [
           {
            "marker": {
             "colorbar": {
              "outlinewidth": 0,
              "ticks": ""
             }
            },
            "type": "scattercarpet"
           }
          ],
          "scattergeo": [
           {
            "marker": {
             "colorbar": {
              "outlinewidth": 0,
              "ticks": ""
             }
            },
            "type": "scattergeo"
           }
          ],
          "scattergl": [
           {
            "marker": {
             "colorbar": {
              "outlinewidth": 0,
              "ticks": ""
             }
            },
            "type": "scattergl"
           }
          ],
          "scattermapbox": [
           {
            "marker": {
             "colorbar": {
              "outlinewidth": 0,
              "ticks": ""
             }
            },
            "type": "scattermapbox"
           }
          ],
          "scatterpolar": [
           {
            "marker": {
             "colorbar": {
              "outlinewidth": 0,
              "ticks": ""
             }
            },
            "type": "scatterpolar"
           }
          ],
          "scatterpolargl": [
           {
            "marker": {
             "colorbar": {
              "outlinewidth": 0,
              "ticks": ""
             }
            },
            "type": "scatterpolargl"
           }
          ],
          "scatterternary": [
           {
            "marker": {
             "colorbar": {
              "outlinewidth": 0,
              "ticks": ""
             }
            },
            "type": "scatterternary"
           }
          ],
          "surface": [
           {
            "colorbar": {
             "outlinewidth": 0,
             "ticks": ""
            },
            "colorscale": [
             [
              0,
              "#0d0887"
             ],
             [
              0.1111111111111111,
              "#46039f"
             ],
             [
              0.2222222222222222,
              "#7201a8"
             ],
             [
              0.3333333333333333,
              "#9c179e"
             ],
             [
              0.4444444444444444,
              "#bd3786"
             ],
             [
              0.5555555555555556,
              "#d8576b"
             ],
             [
              0.6666666666666666,
              "#ed7953"
             ],
             [
              0.7777777777777778,
              "#fb9f3a"
             ],
             [
              0.8888888888888888,
              "#fdca26"
             ],
             [
              1,
              "#f0f921"
             ]
            ],
            "type": "surface"
           }
          ],
          "table": [
           {
            "cells": {
             "fill": {
              "color": "#EBF0F8"
             },
             "line": {
              "color": "white"
             }
            },
            "header": {
             "fill": {
              "color": "#C8D4E3"
             },
             "line": {
              "color": "white"
             }
            },
            "type": "table"
           }
          ]
         },
         "layout": {
          "annotationdefaults": {
           "arrowcolor": "#2a3f5f",
           "arrowhead": 0,
           "arrowwidth": 1
          },
          "autotypenumbers": "strict",
          "coloraxis": {
           "colorbar": {
            "outlinewidth": 0,
            "ticks": ""
           }
          },
          "colorscale": {
           "diverging": [
            [
             0,
             "#8e0152"
            ],
            [
             0.1,
             "#c51b7d"
            ],
            [
             0.2,
             "#de77ae"
            ],
            [
             0.3,
             "#f1b6da"
            ],
            [
             0.4,
             "#fde0ef"
            ],
            [
             0.5,
             "#f7f7f7"
            ],
            [
             0.6,
             "#e6f5d0"
            ],
            [
             0.7,
             "#b8e186"
            ],
            [
             0.8,
             "#7fbc41"
            ],
            [
             0.9,
             "#4d9221"
            ],
            [
             1,
             "#276419"
            ]
           ],
           "sequential": [
            [
             0,
             "#0d0887"
            ],
            [
             0.1111111111111111,
             "#46039f"
            ],
            [
             0.2222222222222222,
             "#7201a8"
            ],
            [
             0.3333333333333333,
             "#9c179e"
            ],
            [
             0.4444444444444444,
             "#bd3786"
            ],
            [
             0.5555555555555556,
             "#d8576b"
            ],
            [
             0.6666666666666666,
             "#ed7953"
            ],
            [
             0.7777777777777778,
             "#fb9f3a"
            ],
            [
             0.8888888888888888,
             "#fdca26"
            ],
            [
             1,
             "#f0f921"
            ]
           ],
           "sequentialminus": [
            [
             0,
             "#0d0887"
            ],
            [
             0.1111111111111111,
             "#46039f"
            ],
            [
             0.2222222222222222,
             "#7201a8"
            ],
            [
             0.3333333333333333,
             "#9c179e"
            ],
            [
             0.4444444444444444,
             "#bd3786"
            ],
            [
             0.5555555555555556,
             "#d8576b"
            ],
            [
             0.6666666666666666,
             "#ed7953"
            ],
            [
             0.7777777777777778,
             "#fb9f3a"
            ],
            [
             0.8888888888888888,
             "#fdca26"
            ],
            [
             1,
             "#f0f921"
            ]
           ]
          },
          "colorway": [
           "#636efa",
           "#EF553B",
           "#00cc96",
           "#ab63fa",
           "#FFA15A",
           "#19d3f3",
           "#FF6692",
           "#B6E880",
           "#FF97FF",
           "#FECB52"
          ],
          "font": {
           "color": "#2a3f5f"
          },
          "geo": {
           "bgcolor": "white",
           "lakecolor": "white",
           "landcolor": "#E5ECF6",
           "showlakes": true,
           "showland": true,
           "subunitcolor": "white"
          },
          "hoverlabel": {
           "align": "left"
          },
          "hovermode": "closest",
          "mapbox": {
           "style": "light"
          },
          "paper_bgcolor": "white",
          "plot_bgcolor": "#E5ECF6",
          "polar": {
           "angularaxis": {
            "gridcolor": "white",
            "linecolor": "white",
            "ticks": ""
           },
           "bgcolor": "#E5ECF6",
           "radialaxis": {
            "gridcolor": "white",
            "linecolor": "white",
            "ticks": ""
           }
          },
          "scene": {
           "xaxis": {
            "backgroundcolor": "#E5ECF6",
            "gridcolor": "white",
            "gridwidth": 2,
            "linecolor": "white",
            "showbackground": true,
            "ticks": "",
            "zerolinecolor": "white"
           },
           "yaxis": {
            "backgroundcolor": "#E5ECF6",
            "gridcolor": "white",
            "gridwidth": 2,
            "linecolor": "white",
            "showbackground": true,
            "ticks": "",
            "zerolinecolor": "white"
           },
           "zaxis": {
            "backgroundcolor": "#E5ECF6",
            "gridcolor": "white",
            "gridwidth": 2,
            "linecolor": "white",
            "showbackground": true,
            "ticks": "",
            "zerolinecolor": "white"
           }
          },
          "shapedefaults": {
           "line": {
            "color": "#2a3f5f"
           }
          },
          "ternary": {
           "aaxis": {
            "gridcolor": "white",
            "linecolor": "white",
            "ticks": ""
           },
           "baxis": {
            "gridcolor": "white",
            "linecolor": "white",
            "ticks": ""
           },
           "bgcolor": "#E5ECF6",
           "caxis": {
            "gridcolor": "white",
            "linecolor": "white",
            "ticks": ""
           }
          },
          "title": {
           "x": 0.05
          },
          "xaxis": {
           "automargin": true,
           "gridcolor": "white",
           "linecolor": "white",
           "ticks": "",
           "title": {
            "standoff": 15
           },
           "zerolinecolor": "white",
           "zerolinewidth": 2
          },
          "yaxis": {
           "automargin": true,
           "gridcolor": "white",
           "linecolor": "white",
           "ticks": "",
           "title": {
            "standoff": 15
           },
           "zerolinecolor": "white",
           "zerolinewidth": 2
          }
         }
        },
        "title": {
         "text": "<b>support vs confidence</b>"
        },
        "xaxis": {
         "linecolor": "#373645",
         "title": {
          "text": "support"
         }
        },
        "yaxis": {
         "linecolor": "#373645",
         "title": {
          "text": "confidence"
         }
        }
       }
      }
     },
     "metadata": {},
     "output_type": "display_data"
    }
   ],
   "source": [
    "# Visualizing the obtained rules\n",
    "scatter_plot(rules_df,'support','confidence')\n"
   ]
  },
  {
   "cell_type": "code",
   "execution_count": 73,
   "metadata": {},
   "outputs": [
    {
     "data": {
      "application/vnd.plotly.v1+json": {
       "config": {
        "plotlyServerURL": "https://plot.ly"
       },
       "data": [
        {
         "mode": "markers",
         "type": "scatter",
         "x": [
          2.3201856148491884,
          2.320185614849188,
          2.274247491638796,
          2.2742474916387954,
          2.246196403872753,
          2.2461964038727524,
          2.2455089820359277,
          2.2455089820359277,
          2.2309640566901976,
          2.2309640566901976,
          2.2308420745920747,
          2.2308420745920743,
          2.1704436642195977,
          2.1704436642195977,
          2.1552639402046974,
          2.155263940204697,
          2.1158854166666665,
          2.1158854166666665,
          2.0966183574879227,
          2.0966183574879227,
          2.0577347195967235,
          2.057734719596723,
          2.050376037344398,
          2.050376037344398,
          2.0359848484848486,
          2.0359848484848486,
          2.0223847517730498,
          2.0223847517730493,
          1.9987105093488073,
          1.9987105093488073,
          1.9168320404113295,
          1.9168320404113295,
          1.90687319762909,
          1.9068731976290898,
          1.900345517366794,
          1.900345517366794,
          1.8999255789519767,
          1.8999255789519764,
          1.8990039917839012,
          1.8990039917839012,
          1.8912529550827422,
          1.8912529550827422,
          1.8834447932305172,
          1.883444793230517,
          1.8824971543647666,
          1.8824971543647666,
          1.8760576753731057,
          1.8760576753731057,
          1.8664909969257792,
          1.8664909969257792,
          1.8644899415674203,
          1.8644899415674203,
          1.8410168465651164,
          1.8410168465651162,
          1.8408195429472025,
          1.8408195429472025,
          1.8359890700316233,
          1.835989070031623,
          1.8171919602130606,
          1.8171919602130604,
          1.8139632988820924,
          1.8139632988820924,
          1.8061752632518293,
          1.8061752632518293,
          1.7907447516314887,
          1.7907447516314887,
          1.7788089713843773,
          1.7788089713843773,
          1.7640169814082856,
          1.7640169814082856,
          1.7441187653953614,
          1.7441187653953611,
          1.7023846232911914,
          1.7023846232911912,
          1.6932813613311541,
          1.693281361331154,
          1.6702641587007916,
          1.6702641587007914,
          1.6697250739803933,
          1.669725073980393,
          1.6548463356973997,
          1.6548463356973997,
          1.649549213354318,
          1.649549213354318,
          1.6182454016611183,
          1.6182454016611183,
          1.6077634758498525,
          1.6077634758498525,
          1.5940280352746143,
          1.5940280352746143,
          1.5760441292356189,
          1.5760441292356187,
          1.5426766056178114,
          1.5426766056178114,
          1.542511275422095,
          1.5425112754220949,
          1.5186669479012866,
          1.5186669479012866,
          1.4041785281356787,
          1.4041785281356787
         ],
         "y": [
          0.26334106728538287,
          1,
          0.6276923076923077,
          0.36956521739130427,
          0.42116182572614114,
          0.5413333333333333,
          0.6197604790419161,
          0.37499999999999994,
          0.42946058091286304,
          0.5376623376623376,
          0.478515625,
          0.5710955710955711,
          0.42323651452282157,
          0.523076923076923,
          0.35992907801418444,
          0.6077844311377245,
          0.583984375,
          0.5416666666666666,
          0.5786666666666667,
          0.3931159420289855,
          0.5679347826086957,
          0.37862318840579706,
          0.524896265560166,
          0.494140625,
          0.5212121212121212,
          0.50390625,
          0.5703125,
          0.5177304964539007,
          0.5636363636363636,
          0.3847517730496454,
          0.529045643153527,
          0.4619565217391304,
          0.8218623481781377,
          0.2354988399071926,
          0.5358974358974359,
          0.37056737588652483,
          0.2517401392111369,
          0.8188679245283018,
          0.28959810874704495,
          0.8032786885245902,
          0.7999999999999999,
          0.24113475177304963,
          0.24013921113689093,
          0.8117647058823528,
          0.7962962962962963,
          0.3049645390070922,
          0.8085808580858086,
          0.2842227378190255,
          0.40036231884057966,
          0.5151515151515151,
          0.7886792452830188,
          0.2470449172576832,
          0.7934782608695652,
          0.3387470997679814,
          0.34515366430260047,
          0.7786666666666666,
          0.3534278959810875,
          0.7766233766233765,
          0.512448132780083,
          0.43794326241134757,
          0.29930394431554525,
          0.7818181818181819,
          0.7784615384615384,
          0.29350348027842227,
          0.7574850299401197,
          0.2990543735224586,
          0.3468677494199536,
          0.7666666666666666,
          0.48686868686868684,
          0.43659420289855067,
          0.49184149184149184,
          0.374113475177305,
          0.4698581560283689,
          0.4800724637681159,
          0.41908713692946065,
          0.4080808080808081,
          0.4609929078014185,
          0.7065217391304347,
          0.35815602836879434,
          0.7062937062937062,
          0.4666666666666667,
          0.40957446808510645,
          0.3538283062645012,
          0.710955710955711,
          0.4466357308584687,
          0.697463768115942,
          0.3874709976798144,
          0.6929460580912864,
          0.38416075650118203,
          0.6742738589211619,
          0.6666666666666667,
          0.3900709219858156,
          0.43503480278422274,
          0.6648936170212767,
          0.43498817966903075,
          0.6524822695035462,
          0.6545454545454545,
          0.37587006960556846,
          0.6052009456264775,
          0.5939675174013921
         ]
        }
       ],
       "layout": {
        "autosize": false,
        "plot_bgcolor": "white",
        "template": {
         "data": {
          "bar": [
           {
            "error_x": {
             "color": "#2a3f5f"
            },
            "error_y": {
             "color": "#2a3f5f"
            },
            "marker": {
             "line": {
              "color": "#E5ECF6",
              "width": 0.5
             },
             "pattern": {
              "fillmode": "overlay",
              "size": 10,
              "solidity": 0.2
             }
            },
            "type": "bar"
           }
          ],
          "barpolar": [
           {
            "marker": {
             "line": {
              "color": "#E5ECF6",
              "width": 0.5
             },
             "pattern": {
              "fillmode": "overlay",
              "size": 10,
              "solidity": 0.2
             }
            },
            "type": "barpolar"
           }
          ],
          "carpet": [
           {
            "aaxis": {
             "endlinecolor": "#2a3f5f",
             "gridcolor": "white",
             "linecolor": "white",
             "minorgridcolor": "white",
             "startlinecolor": "#2a3f5f"
            },
            "baxis": {
             "endlinecolor": "#2a3f5f",
             "gridcolor": "white",
             "linecolor": "white",
             "minorgridcolor": "white",
             "startlinecolor": "#2a3f5f"
            },
            "type": "carpet"
           }
          ],
          "choropleth": [
           {
            "colorbar": {
             "outlinewidth": 0,
             "ticks": ""
            },
            "type": "choropleth"
           }
          ],
          "contour": [
           {
            "colorbar": {
             "outlinewidth": 0,
             "ticks": ""
            },
            "colorscale": [
             [
              0,
              "#0d0887"
             ],
             [
              0.1111111111111111,
              "#46039f"
             ],
             [
              0.2222222222222222,
              "#7201a8"
             ],
             [
              0.3333333333333333,
              "#9c179e"
             ],
             [
              0.4444444444444444,
              "#bd3786"
             ],
             [
              0.5555555555555556,
              "#d8576b"
             ],
             [
              0.6666666666666666,
              "#ed7953"
             ],
             [
              0.7777777777777778,
              "#fb9f3a"
             ],
             [
              0.8888888888888888,
              "#fdca26"
             ],
             [
              1,
              "#f0f921"
             ]
            ],
            "type": "contour"
           }
          ],
          "contourcarpet": [
           {
            "colorbar": {
             "outlinewidth": 0,
             "ticks": ""
            },
            "type": "contourcarpet"
           }
          ],
          "heatmap": [
           {
            "colorbar": {
             "outlinewidth": 0,
             "ticks": ""
            },
            "colorscale": [
             [
              0,
              "#0d0887"
             ],
             [
              0.1111111111111111,
              "#46039f"
             ],
             [
              0.2222222222222222,
              "#7201a8"
             ],
             [
              0.3333333333333333,
              "#9c179e"
             ],
             [
              0.4444444444444444,
              "#bd3786"
             ],
             [
              0.5555555555555556,
              "#d8576b"
             ],
             [
              0.6666666666666666,
              "#ed7953"
             ],
             [
              0.7777777777777778,
              "#fb9f3a"
             ],
             [
              0.8888888888888888,
              "#fdca26"
             ],
             [
              1,
              "#f0f921"
             ]
            ],
            "type": "heatmap"
           }
          ],
          "heatmapgl": [
           {
            "colorbar": {
             "outlinewidth": 0,
             "ticks": ""
            },
            "colorscale": [
             [
              0,
              "#0d0887"
             ],
             [
              0.1111111111111111,
              "#46039f"
             ],
             [
              0.2222222222222222,
              "#7201a8"
             ],
             [
              0.3333333333333333,
              "#9c179e"
             ],
             [
              0.4444444444444444,
              "#bd3786"
             ],
             [
              0.5555555555555556,
              "#d8576b"
             ],
             [
              0.6666666666666666,
              "#ed7953"
             ],
             [
              0.7777777777777778,
              "#fb9f3a"
             ],
             [
              0.8888888888888888,
              "#fdca26"
             ],
             [
              1,
              "#f0f921"
             ]
            ],
            "type": "heatmapgl"
           }
          ],
          "histogram": [
           {
            "marker": {
             "pattern": {
              "fillmode": "overlay",
              "size": 10,
              "solidity": 0.2
             }
            },
            "type": "histogram"
           }
          ],
          "histogram2d": [
           {
            "colorbar": {
             "outlinewidth": 0,
             "ticks": ""
            },
            "colorscale": [
             [
              0,
              "#0d0887"
             ],
             [
              0.1111111111111111,
              "#46039f"
             ],
             [
              0.2222222222222222,
              "#7201a8"
             ],
             [
              0.3333333333333333,
              "#9c179e"
             ],
             [
              0.4444444444444444,
              "#bd3786"
             ],
             [
              0.5555555555555556,
              "#d8576b"
             ],
             [
              0.6666666666666666,
              "#ed7953"
             ],
             [
              0.7777777777777778,
              "#fb9f3a"
             ],
             [
              0.8888888888888888,
              "#fdca26"
             ],
             [
              1,
              "#f0f921"
             ]
            ],
            "type": "histogram2d"
           }
          ],
          "histogram2dcontour": [
           {
            "colorbar": {
             "outlinewidth": 0,
             "ticks": ""
            },
            "colorscale": [
             [
              0,
              "#0d0887"
             ],
             [
              0.1111111111111111,
              "#46039f"
             ],
             [
              0.2222222222222222,
              "#7201a8"
             ],
             [
              0.3333333333333333,
              "#9c179e"
             ],
             [
              0.4444444444444444,
              "#bd3786"
             ],
             [
              0.5555555555555556,
              "#d8576b"
             ],
             [
              0.6666666666666666,
              "#ed7953"
             ],
             [
              0.7777777777777778,
              "#fb9f3a"
             ],
             [
              0.8888888888888888,
              "#fdca26"
             ],
             [
              1,
              "#f0f921"
             ]
            ],
            "type": "histogram2dcontour"
           }
          ],
          "mesh3d": [
           {
            "colorbar": {
             "outlinewidth": 0,
             "ticks": ""
            },
            "type": "mesh3d"
           }
          ],
          "parcoords": [
           {
            "line": {
             "colorbar": {
              "outlinewidth": 0,
              "ticks": ""
             }
            },
            "type": "parcoords"
           }
          ],
          "pie": [
           {
            "automargin": true,
            "type": "pie"
           }
          ],
          "scatter": [
           {
            "fillpattern": {
             "fillmode": "overlay",
             "size": 10,
             "solidity": 0.2
            },
            "type": "scatter"
           }
          ],
          "scatter3d": [
           {
            "line": {
             "colorbar": {
              "outlinewidth": 0,
              "ticks": ""
             }
            },
            "marker": {
             "colorbar": {
              "outlinewidth": 0,
              "ticks": ""
             }
            },
            "type": "scatter3d"
           }
          ],
          "scattercarpet": [
           {
            "marker": {
             "colorbar": {
              "outlinewidth": 0,
              "ticks": ""
             }
            },
            "type": "scattercarpet"
           }
          ],
          "scattergeo": [
           {
            "marker": {
             "colorbar": {
              "outlinewidth": 0,
              "ticks": ""
             }
            },
            "type": "scattergeo"
           }
          ],
          "scattergl": [
           {
            "marker": {
             "colorbar": {
              "outlinewidth": 0,
              "ticks": ""
             }
            },
            "type": "scattergl"
           }
          ],
          "scattermapbox": [
           {
            "marker": {
             "colorbar": {
              "outlinewidth": 0,
              "ticks": ""
             }
            },
            "type": "scattermapbox"
           }
          ],
          "scatterpolar": [
           {
            "marker": {
             "colorbar": {
              "outlinewidth": 0,
              "ticks": ""
             }
            },
            "type": "scatterpolar"
           }
          ],
          "scatterpolargl": [
           {
            "marker": {
             "colorbar": {
              "outlinewidth": 0,
              "ticks": ""
             }
            },
            "type": "scatterpolargl"
           }
          ],
          "scatterternary": [
           {
            "marker": {
             "colorbar": {
              "outlinewidth": 0,
              "ticks": ""
             }
            },
            "type": "scatterternary"
           }
          ],
          "surface": [
           {
            "colorbar": {
             "outlinewidth": 0,
             "ticks": ""
            },
            "colorscale": [
             [
              0,
              "#0d0887"
             ],
             [
              0.1111111111111111,
              "#46039f"
             ],
             [
              0.2222222222222222,
              "#7201a8"
             ],
             [
              0.3333333333333333,
              "#9c179e"
             ],
             [
              0.4444444444444444,
              "#bd3786"
             ],
             [
              0.5555555555555556,
              "#d8576b"
             ],
             [
              0.6666666666666666,
              "#ed7953"
             ],
             [
              0.7777777777777778,
              "#fb9f3a"
             ],
             [
              0.8888888888888888,
              "#fdca26"
             ],
             [
              1,
              "#f0f921"
             ]
            ],
            "type": "surface"
           }
          ],
          "table": [
           {
            "cells": {
             "fill": {
              "color": "#EBF0F8"
             },
             "line": {
              "color": "white"
             }
            },
            "header": {
             "fill": {
              "color": "#C8D4E3"
             },
             "line": {
              "color": "white"
             }
            },
            "type": "table"
           }
          ]
         },
         "layout": {
          "annotationdefaults": {
           "arrowcolor": "#2a3f5f",
           "arrowhead": 0,
           "arrowwidth": 1
          },
          "autotypenumbers": "strict",
          "coloraxis": {
           "colorbar": {
            "outlinewidth": 0,
            "ticks": ""
           }
          },
          "colorscale": {
           "diverging": [
            [
             0,
             "#8e0152"
            ],
            [
             0.1,
             "#c51b7d"
            ],
            [
             0.2,
             "#de77ae"
            ],
            [
             0.3,
             "#f1b6da"
            ],
            [
             0.4,
             "#fde0ef"
            ],
            [
             0.5,
             "#f7f7f7"
            ],
            [
             0.6,
             "#e6f5d0"
            ],
            [
             0.7,
             "#b8e186"
            ],
            [
             0.8,
             "#7fbc41"
            ],
            [
             0.9,
             "#4d9221"
            ],
            [
             1,
             "#276419"
            ]
           ],
           "sequential": [
            [
             0,
             "#0d0887"
            ],
            [
             0.1111111111111111,
             "#46039f"
            ],
            [
             0.2222222222222222,
             "#7201a8"
            ],
            [
             0.3333333333333333,
             "#9c179e"
            ],
            [
             0.4444444444444444,
             "#bd3786"
            ],
            [
             0.5555555555555556,
             "#d8576b"
            ],
            [
             0.6666666666666666,
             "#ed7953"
            ],
            [
             0.7777777777777778,
             "#fb9f3a"
            ],
            [
             0.8888888888888888,
             "#fdca26"
            ],
            [
             1,
             "#f0f921"
            ]
           ],
           "sequentialminus": [
            [
             0,
             "#0d0887"
            ],
            [
             0.1111111111111111,
             "#46039f"
            ],
            [
             0.2222222222222222,
             "#7201a8"
            ],
            [
             0.3333333333333333,
             "#9c179e"
            ],
            [
             0.4444444444444444,
             "#bd3786"
            ],
            [
             0.5555555555555556,
             "#d8576b"
            ],
            [
             0.6666666666666666,
             "#ed7953"
            ],
            [
             0.7777777777777778,
             "#fb9f3a"
            ],
            [
             0.8888888888888888,
             "#fdca26"
            ],
            [
             1,
             "#f0f921"
            ]
           ]
          },
          "colorway": [
           "#636efa",
           "#EF553B",
           "#00cc96",
           "#ab63fa",
           "#FFA15A",
           "#19d3f3",
           "#FF6692",
           "#B6E880",
           "#FF97FF",
           "#FECB52"
          ],
          "font": {
           "color": "#2a3f5f"
          },
          "geo": {
           "bgcolor": "white",
           "lakecolor": "white",
           "landcolor": "#E5ECF6",
           "showlakes": true,
           "showland": true,
           "subunitcolor": "white"
          },
          "hoverlabel": {
           "align": "left"
          },
          "hovermode": "closest",
          "mapbox": {
           "style": "light"
          },
          "paper_bgcolor": "white",
          "plot_bgcolor": "#E5ECF6",
          "polar": {
           "angularaxis": {
            "gridcolor": "white",
            "linecolor": "white",
            "ticks": ""
           },
           "bgcolor": "#E5ECF6",
           "radialaxis": {
            "gridcolor": "white",
            "linecolor": "white",
            "ticks": ""
           }
          },
          "scene": {
           "xaxis": {
            "backgroundcolor": "#E5ECF6",
            "gridcolor": "white",
            "gridwidth": 2,
            "linecolor": "white",
            "showbackground": true,
            "ticks": "",
            "zerolinecolor": "white"
           },
           "yaxis": {
            "backgroundcolor": "#E5ECF6",
            "gridcolor": "white",
            "gridwidth": 2,
            "linecolor": "white",
            "showbackground": true,
            "ticks": "",
            "zerolinecolor": "white"
           },
           "zaxis": {
            "backgroundcolor": "#E5ECF6",
            "gridcolor": "white",
            "gridwidth": 2,
            "linecolor": "white",
            "showbackground": true,
            "ticks": "",
            "zerolinecolor": "white"
           }
          },
          "shapedefaults": {
           "line": {
            "color": "#2a3f5f"
           }
          },
          "ternary": {
           "aaxis": {
            "gridcolor": "white",
            "linecolor": "white",
            "ticks": ""
           },
           "baxis": {
            "gridcolor": "white",
            "linecolor": "white",
            "ticks": ""
           },
           "bgcolor": "#E5ECF6",
           "caxis": {
            "gridcolor": "white",
            "linecolor": "white",
            "ticks": ""
           }
          },
          "title": {
           "x": 0.05
          },
          "xaxis": {
           "automargin": true,
           "gridcolor": "white",
           "linecolor": "white",
           "ticks": "",
           "title": {
            "standoff": 15
           },
           "zerolinecolor": "white",
           "zerolinewidth": 2
          },
          "yaxis": {
           "automargin": true,
           "gridcolor": "white",
           "linecolor": "white",
           "ticks": "",
           "title": {
            "standoff": 15
           },
           "zerolinecolor": "white",
           "zerolinewidth": 2
          }
         }
        },
        "title": {
         "text": "<b>lift vs confidence</b>"
        },
        "xaxis": {
         "linecolor": "#373645",
         "title": {
          "text": "lift"
         }
        },
        "yaxis": {
         "linecolor": "#373645",
         "title": {
          "text": "confidence"
         }
        }
       }
      }
     },
     "metadata": {},
     "output_type": "display_data"
    }
   ],
   "source": [
    "# Lift vs confidence\n",
    "scatter_plot(rules_df,'lift','confidence')"
   ]
  },
  {
   "cell_type": "code",
   "execution_count": 74,
   "metadata": {},
   "outputs": [
    {
     "data": {
      "text/html": [
       "<style type=\"text/css\">\n",
       "#T_4da9d_row0_col0, #T_4da9d_row0_col2, #T_4da9d_row0_col3, #T_4da9d_row0_col4, #T_4da9d_row0_col7, #T_4da9d_row0_col8, #T_4da9d_row0_col9, #T_4da9d_row0_col10, #T_4da9d_row0_col11, #T_4da9d_row0_col13, #T_4da9d_row0_col18, #T_4da9d_row0_col20, #T_4da9d_row0_col21, #T_4da9d_row5_col1, #T_4da9d_row5_col5, #T_4da9d_row5_col6, #T_4da9d_row5_col9, #T_4da9d_row5_col14, #T_4da9d_row5_col15, #T_4da9d_row5_col16, #T_4da9d_row5_col17, #T_4da9d_row5_col19, #T_4da9d_row9_col12 {\n",
       "  background-color: #f7fcf5;\n",
       "  color: #000000;\n",
       "}\n",
       "#T_4da9d_row0_col1, #T_4da9d_row0_col5, #T_4da9d_row1_col0, #T_4da9d_row1_col1, #T_4da9d_row1_col5, #T_4da9d_row1_col7, #T_4da9d_row1_col20, #T_4da9d_row1_col21, #T_4da9d_row2_col0, #T_4da9d_row2_col1, #T_4da9d_row2_col5, #T_4da9d_row2_col7, #T_4da9d_row2_col20, #T_4da9d_row2_col21, #T_4da9d_row3_col0, #T_4da9d_row3_col1, #T_4da9d_row3_col5, #T_4da9d_row3_col7, #T_4da9d_row3_col20, #T_4da9d_row3_col21, #T_4da9d_row4_col0, #T_4da9d_row4_col1, #T_4da9d_row4_col5, #T_4da9d_row4_col7, #T_4da9d_row4_col20, #T_4da9d_row4_col21, #T_4da9d_row5_col0, #T_4da9d_row5_col7, #T_4da9d_row5_col20, #T_4da9d_row5_col21, #T_4da9d_row6_col0, #T_4da9d_row6_col1, #T_4da9d_row6_col5, #T_4da9d_row6_col7, #T_4da9d_row6_col20, #T_4da9d_row6_col21, #T_4da9d_row7_col0, #T_4da9d_row7_col1, #T_4da9d_row7_col5, #T_4da9d_row7_col7, #T_4da9d_row7_col20, #T_4da9d_row7_col21, #T_4da9d_row8_col0, #T_4da9d_row8_col1, #T_4da9d_row8_col5, #T_4da9d_row8_col7, #T_4da9d_row8_col20, #T_4da9d_row8_col21, #T_4da9d_row9_col0, #T_4da9d_row9_col1, #T_4da9d_row9_col5, #T_4da9d_row9_col7, #T_4da9d_row9_col20, #T_4da9d_row9_col21, #T_4da9d_row10_col0, #T_4da9d_row10_col1, #T_4da9d_row10_col5, #T_4da9d_row10_col7, #T_4da9d_row10_col20, #T_4da9d_row10_col21, #T_4da9d_row11_col0, #T_4da9d_row11_col1, #T_4da9d_row11_col5, #T_4da9d_row11_col7, #T_4da9d_row11_col20, #T_4da9d_row11_col21, #T_4da9d_row12_col0, #T_4da9d_row12_col1, #T_4da9d_row12_col5, #T_4da9d_row12_col7, #T_4da9d_row12_col20, #T_4da9d_row12_col21, #T_4da9d_row13_col0, #T_4da9d_row13_col1, #T_4da9d_row13_col5, #T_4da9d_row13_col7, #T_4da9d_row13_col20, #T_4da9d_row13_col21, #T_4da9d_row14_col0, #T_4da9d_row14_col1, #T_4da9d_row14_col5, #T_4da9d_row14_col7, #T_4da9d_row14_col20, #T_4da9d_row14_col21, #T_4da9d_row15_col0, #T_4da9d_row15_col1, #T_4da9d_row15_col5, #T_4da9d_row15_col7, #T_4da9d_row15_col20, #T_4da9d_row15_col21, #T_4da9d_row16_col0, #T_4da9d_row16_col1, #T_4da9d_row16_col5, #T_4da9d_row16_col7, #T_4da9d_row16_col20, #T_4da9d_row16_col21, #T_4da9d_row17_col0, #T_4da9d_row17_col1, #T_4da9d_row17_col5, #T_4da9d_row17_col7, #T_4da9d_row17_col20, #T_4da9d_row17_col21, #T_4da9d_row18_col0, #T_4da9d_row18_col1, #T_4da9d_row18_col5, #T_4da9d_row18_col7, #T_4da9d_row18_col20, #T_4da9d_row18_col21, #T_4da9d_row19_col0, #T_4da9d_row19_col1, #T_4da9d_row19_col5, #T_4da9d_row19_col7, #T_4da9d_row19_col20, #T_4da9d_row19_col21, #T_4da9d_row20_col0, #T_4da9d_row20_col1, #T_4da9d_row20_col5, #T_4da9d_row20_col7, #T_4da9d_row20_col20, #T_4da9d_row20_col21, #T_4da9d_row21_col0, #T_4da9d_row21_col1, #T_4da9d_row21_col5, #T_4da9d_row21_col7, #T_4da9d_row21_col20, #T_4da9d_row21_col21 {\n",
       "  background-color: #f7fcf5;\n",
       "  color: #000000;\n",
       "  background-color: #000000;\n",
       "}\n",
       "#T_4da9d_row0_col6, #T_4da9d_row2_col10, #T_4da9d_row2_col16, #T_4da9d_row2_col18, #T_4da9d_row4_col4, #T_4da9d_row5_col3, #T_4da9d_row12_col12, #T_4da9d_row13_col8, #T_4da9d_row13_col13, #T_4da9d_row15_col9, #T_4da9d_row16_col15, #T_4da9d_row17_col11, #T_4da9d_row17_col14, #T_4da9d_row17_col17, #T_4da9d_row18_col2, #T_4da9d_row19_col19 {\n",
       "  background-color: #00441b;\n",
       "  color: #f1f1f1;\n",
       "}\n",
       "#T_4da9d_row0_col12, #T_4da9d_row0_col14, #T_4da9d_row0_col16, #T_4da9d_row0_col17, #T_4da9d_row0_col19, #T_4da9d_row1_col2, #T_4da9d_row1_col3, #T_4da9d_row1_col6, #T_4da9d_row1_col8, #T_4da9d_row1_col9, #T_4da9d_row1_col10, #T_4da9d_row1_col11, #T_4da9d_row1_col12, #T_4da9d_row1_col13, #T_4da9d_row1_col14, #T_4da9d_row1_col15, #T_4da9d_row1_col16, #T_4da9d_row1_col17, #T_4da9d_row1_col18, #T_4da9d_row1_col19, #T_4da9d_row2_col2, #T_4da9d_row2_col3, #T_4da9d_row2_col6, #T_4da9d_row2_col11, #T_4da9d_row2_col14, #T_4da9d_row3_col2, #T_4da9d_row3_col3, #T_4da9d_row3_col6, #T_4da9d_row3_col8, #T_4da9d_row3_col9, #T_4da9d_row3_col10, #T_4da9d_row3_col11, #T_4da9d_row3_col12, #T_4da9d_row3_col13, #T_4da9d_row3_col14, #T_4da9d_row3_col15, #T_4da9d_row3_col16, #T_4da9d_row3_col17, #T_4da9d_row3_col18, #T_4da9d_row4_col2, #T_4da9d_row4_col3, #T_4da9d_row4_col6, #T_4da9d_row4_col8, #T_4da9d_row4_col9, #T_4da9d_row4_col10, #T_4da9d_row4_col11, #T_4da9d_row4_col12, #T_4da9d_row4_col13, #T_4da9d_row4_col14, #T_4da9d_row4_col15, #T_4da9d_row4_col16, #T_4da9d_row4_col17, #T_4da9d_row4_col18, #T_4da9d_row4_col19, #T_4da9d_row5_col4, #T_4da9d_row5_col10, #T_4da9d_row5_col11, #T_4da9d_row5_col12, #T_4da9d_row5_col18, #T_4da9d_row6_col2, #T_4da9d_row6_col3, #T_4da9d_row6_col6, #T_4da9d_row6_col8, #T_4da9d_row6_col9, #T_4da9d_row6_col10, #T_4da9d_row6_col11, #T_4da9d_row6_col12, #T_4da9d_row6_col13, #T_4da9d_row6_col14, #T_4da9d_row6_col15, #T_4da9d_row6_col16, #T_4da9d_row6_col17, #T_4da9d_row6_col18, #T_4da9d_row7_col2, #T_4da9d_row7_col3, #T_4da9d_row7_col4, #T_4da9d_row7_col6, #T_4da9d_row7_col8, #T_4da9d_row7_col9, #T_4da9d_row7_col10, #T_4da9d_row7_col11, #T_4da9d_row7_col12, #T_4da9d_row7_col13, #T_4da9d_row7_col14, #T_4da9d_row7_col15, #T_4da9d_row7_col16, #T_4da9d_row7_col17, #T_4da9d_row7_col18, #T_4da9d_row8_col3, #T_4da9d_row8_col6, #T_4da9d_row8_col8, #T_4da9d_row8_col10, #T_4da9d_row8_col11, #T_4da9d_row8_col13, #T_4da9d_row8_col14, #T_4da9d_row8_col16, #T_4da9d_row8_col17, #T_4da9d_row8_col18, #T_4da9d_row9_col3, #T_4da9d_row9_col6, #T_4da9d_row9_col9, #T_4da9d_row9_col10, #T_4da9d_row9_col17, #T_4da9d_row9_col18, #T_4da9d_row10_col3, #T_4da9d_row10_col4, #T_4da9d_row10_col6, #T_4da9d_row10_col8, #T_4da9d_row10_col9, #T_4da9d_row10_col10, #T_4da9d_row10_col11, #T_4da9d_row10_col12, #T_4da9d_row10_col13, #T_4da9d_row10_col14, #T_4da9d_row10_col15, #T_4da9d_row10_col16, #T_4da9d_row10_col17, #T_4da9d_row10_col18, #T_4da9d_row11_col2, #T_4da9d_row11_col3, #T_4da9d_row11_col4, #T_4da9d_row11_col6, #T_4da9d_row11_col8, #T_4da9d_row11_col10, #T_4da9d_row11_col11, #T_4da9d_row11_col12, #T_4da9d_row11_col13, #T_4da9d_row11_col14, #T_4da9d_row11_col16, #T_4da9d_row11_col17, #T_4da9d_row11_col18, #T_4da9d_row12_col3, #T_4da9d_row12_col6, #T_4da9d_row12_col8, #T_4da9d_row12_col10, #T_4da9d_row12_col11, #T_4da9d_row12_col13, #T_4da9d_row12_col14, #T_4da9d_row12_col15, #T_4da9d_row12_col16, #T_4da9d_row12_col17, #T_4da9d_row12_col18, #T_4da9d_row13_col3, #T_4da9d_row13_col4, #T_4da9d_row13_col6, #T_4da9d_row13_col10, #T_4da9d_row13_col11, #T_4da9d_row13_col12, #T_4da9d_row13_col14, #T_4da9d_row13_col16, #T_4da9d_row13_col17, #T_4da9d_row13_col18, #T_4da9d_row13_col19, #T_4da9d_row14_col2, #T_4da9d_row14_col3, #T_4da9d_row14_col6, #T_4da9d_row14_col8, #T_4da9d_row14_col10, #T_4da9d_row14_col11, #T_4da9d_row14_col12, #T_4da9d_row14_col13, #T_4da9d_row14_col14, #T_4da9d_row14_col16, #T_4da9d_row14_col17, #T_4da9d_row14_col18, #T_4da9d_row14_col19, #T_4da9d_row15_col3, #T_4da9d_row15_col6, #T_4da9d_row15_col8, #T_4da9d_row15_col10, #T_4da9d_row15_col11, #T_4da9d_row15_col12, #T_4da9d_row15_col13, #T_4da9d_row15_col14, #T_4da9d_row15_col15, #T_4da9d_row15_col16, #T_4da9d_row15_col17, #T_4da9d_row15_col18, #T_4da9d_row15_col19, #T_4da9d_row16_col3, #T_4da9d_row16_col6, #T_4da9d_row16_col8, #T_4da9d_row16_col9, #T_4da9d_row16_col10, #T_4da9d_row16_col11, #T_4da9d_row16_col12, #T_4da9d_row16_col13, #T_4da9d_row16_col14, #T_4da9d_row16_col16, #T_4da9d_row16_col17, #T_4da9d_row16_col18, #T_4da9d_row16_col19, #T_4da9d_row17_col3, #T_4da9d_row17_col6, #T_4da9d_row17_col10, #T_4da9d_row17_col13, #T_4da9d_row17_col15, #T_4da9d_row17_col16, #T_4da9d_row17_col18, #T_4da9d_row18_col3, #T_4da9d_row18_col4, #T_4da9d_row18_col6, #T_4da9d_row18_col8, #T_4da9d_row18_col9, #T_4da9d_row18_col10, #T_4da9d_row18_col11, #T_4da9d_row18_col12, #T_4da9d_row18_col13, #T_4da9d_row18_col14, #T_4da9d_row18_col15, #T_4da9d_row18_col16, #T_4da9d_row18_col17, #T_4da9d_row18_col18, #T_4da9d_row19_col2, #T_4da9d_row19_col3, #T_4da9d_row19_col4, #T_4da9d_row19_col6, #T_4da9d_row19_col8, #T_4da9d_row19_col9, #T_4da9d_row19_col10, #T_4da9d_row19_col11, #T_4da9d_row19_col12, #T_4da9d_row19_col13, #T_4da9d_row19_col14, #T_4da9d_row19_col15, #T_4da9d_row19_col16, #T_4da9d_row19_col17, #T_4da9d_row19_col18, #T_4da9d_row20_col2, #T_4da9d_row20_col3, #T_4da9d_row20_col4, #T_4da9d_row20_col6, #T_4da9d_row20_col8, #T_4da9d_row20_col9, #T_4da9d_row20_col10, #T_4da9d_row20_col11, #T_4da9d_row20_col12, #T_4da9d_row20_col13, #T_4da9d_row20_col14, #T_4da9d_row20_col15, #T_4da9d_row20_col16, #T_4da9d_row20_col17, #T_4da9d_row20_col18, #T_4da9d_row21_col2, #T_4da9d_row21_col3, #T_4da9d_row21_col4, #T_4da9d_row21_col6, #T_4da9d_row21_col8, #T_4da9d_row21_col9, #T_4da9d_row21_col10, #T_4da9d_row21_col11, #T_4da9d_row21_col12, #T_4da9d_row21_col13, #T_4da9d_row21_col14, #T_4da9d_row21_col15, #T_4da9d_row21_col16, #T_4da9d_row21_col17, #T_4da9d_row21_col18 {\n",
       "  background-color: #000000;\n",
       "  color: #f1f1f1;\n",
       "  background-color: #000000;\n",
       "}\n",
       "#T_4da9d_row0_col15 {\n",
       "  background-color: #f4fbf2;\n",
       "  color: #000000;\n",
       "}\n",
       "#T_4da9d_row1_col4 {\n",
       "  background-color: #004e1f;\n",
       "  color: #f1f1f1;\n",
       "}\n",
       "#T_4da9d_row2_col4, #T_4da9d_row12_col4 {\n",
       "  background-color: #65bd6f;\n",
       "  color: #f1f1f1;\n",
       "}\n",
       "#T_4da9d_row2_col8 {\n",
       "  background-color: #7dc87e;\n",
       "  color: #000000;\n",
       "}\n",
       "#T_4da9d_row2_col9 {\n",
       "  background-color: #c4e8bd;\n",
       "  color: #000000;\n",
       "}\n",
       "#T_4da9d_row2_col12, #T_4da9d_row17_col9, #T_4da9d_row21_col19 {\n",
       "  background-color: #87cd86;\n",
       "  color: #000000;\n",
       "}\n",
       "#T_4da9d_row2_col13 {\n",
       "  background-color: #a2d99c;\n",
       "  color: #000000;\n",
       "}\n",
       "#T_4da9d_row2_col15 {\n",
       "  background-color: #76c578;\n",
       "  color: #000000;\n",
       "}\n",
       "#T_4da9d_row2_col17 {\n",
       "  background-color: #3fa95c;\n",
       "  color: #f1f1f1;\n",
       "}\n",
       "#T_4da9d_row2_col19 {\n",
       "  background-color: #cbebc5;\n",
       "  color: #000000;\n",
       "}\n",
       "#T_4da9d_row3_col4 {\n",
       "  background-color: #00491d;\n",
       "  color: #f1f1f1;\n",
       "}\n",
       "#T_4da9d_row3_col19 {\n",
       "  background-color: #6bc072;\n",
       "  color: #000000;\n",
       "}\n",
       "#T_4da9d_row5_col2 {\n",
       "  background-color: #ecf8e8;\n",
       "  color: #000000;\n",
       "}\n",
       "#T_4da9d_row5_col8 {\n",
       "  background-color: #e7f6e3;\n",
       "  color: #000000;\n",
       "}\n",
       "#T_4da9d_row5_col13 {\n",
       "  background-color: #f2faf0;\n",
       "  color: #000000;\n",
       "}\n",
       "#T_4da9d_row6_col4 {\n",
       "  background-color: #005a24;\n",
       "  color: #f1f1f1;\n",
       "}\n",
       "#T_4da9d_row6_col19 {\n",
       "  background-color: #63bc6e;\n",
       "  color: #f1f1f1;\n",
       "}\n",
       "#T_4da9d_row7_col19 {\n",
       "  background-color: #60ba6c;\n",
       "  color: #f1f1f1;\n",
       "}\n",
       "#T_4da9d_row8_col2, #T_4da9d_row17_col19 {\n",
       "  background-color: #ceecc8;\n",
       "  color: #000000;\n",
       "}\n",
       "#T_4da9d_row8_col4 {\n",
       "  background-color: #aadda4;\n",
       "  color: #000000;\n",
       "}\n",
       "#T_4da9d_row8_col9 {\n",
       "  background-color: #d8f0d2;\n",
       "  color: #000000;\n",
       "}\n",
       "#T_4da9d_row8_col12 {\n",
       "  background-color: #eef8ea;\n",
       "  color: #000000;\n",
       "}\n",
       "#T_4da9d_row8_col15, #T_4da9d_row9_col19 {\n",
       "  background-color: #dff3da;\n",
       "  color: #000000;\n",
       "}\n",
       "#T_4da9d_row8_col19 {\n",
       "  background-color: #e5f5e1;\n",
       "  color: #000000;\n",
       "}\n",
       "#T_4da9d_row9_col2 {\n",
       "  background-color: #e5f5e0;\n",
       "  color: #000000;\n",
       "}\n",
       "#T_4da9d_row9_col4 {\n",
       "  background-color: #bee5b8;\n",
       "  color: #000000;\n",
       "}\n",
       "#T_4da9d_row9_col8 {\n",
       "  background-color: #c3e7bc;\n",
       "  color: #000000;\n",
       "}\n",
       "#T_4da9d_row9_col11 {\n",
       "  background-color: #b5e1ae;\n",
       "  color: #000000;\n",
       "}\n",
       "#T_4da9d_row9_col13 {\n",
       "  background-color: #dcf2d7;\n",
       "  color: #000000;\n",
       "}\n",
       "#T_4da9d_row9_col14 {\n",
       "  background-color: #94d390;\n",
       "  color: #000000;\n",
       "}\n",
       "#T_4da9d_row9_col15 {\n",
       "  background-color: #abdda5;\n",
       "  color: #000000;\n",
       "}\n",
       "#T_4da9d_row9_col16 {\n",
       "  background-color: #147e3a;\n",
       "  color: #f1f1f1;\n",
       "}\n",
       "#T_4da9d_row10_col2 {\n",
       "  background-color: #369f54;\n",
       "  color: #f1f1f1;\n",
       "}\n",
       "#T_4da9d_row10_col19 {\n",
       "  background-color: #7cc87c;\n",
       "  color: #000000;\n",
       "}\n",
       "#T_4da9d_row11_col9 {\n",
       "  background-color: #52b365;\n",
       "  color: #f1f1f1;\n",
       "}\n",
       "#T_4da9d_row11_col15 {\n",
       "  background-color: #00692a;\n",
       "  color: #f1f1f1;\n",
       "}\n",
       "#T_4da9d_row11_col19 {\n",
       "  background-color: #95d391;\n",
       "  color: #000000;\n",
       "}\n",
       "#T_4da9d_row12_col2 {\n",
       "  background-color: #a0d99b;\n",
       "  color: #000000;\n",
       "}\n",
       "#T_4da9d_row12_col9 {\n",
       "  background-color: #afdfa8;\n",
       "  color: #000000;\n",
       "}\n",
       "#T_4da9d_row12_col19 {\n",
       "  background-color: #c2e7bb;\n",
       "  color: #000000;\n",
       "}\n",
       "#T_4da9d_row13_col2 {\n",
       "  background-color: #208843;\n",
       "  color: #f1f1f1;\n",
       "}\n",
       "#T_4da9d_row13_col9 {\n",
       "  background-color: #19833e;\n",
       "  color: #f1f1f1;\n",
       "}\n",
       "#T_4da9d_row13_col15 {\n",
       "  background-color: #2f974e;\n",
       "  color: #f1f1f1;\n",
       "}\n",
       "#T_4da9d_row14_col4 {\n",
       "  background-color: #006d2c;\n",
       "  color: #f1f1f1;\n",
       "}\n",
       "#T_4da9d_row14_col9 {\n",
       "  background-color: #248c46;\n",
       "  color: #f1f1f1;\n",
       "}\n",
       "#T_4da9d_row14_col15 {\n",
       "  background-color: #004a1e;\n",
       "  color: #f1f1f1;\n",
       "}\n",
       "#T_4da9d_row15_col2 {\n",
       "  background-color: #005221;\n",
       "  color: #f1f1f1;\n",
       "}\n",
       "#T_4da9d_row15_col4 {\n",
       "  background-color: #1a843f;\n",
       "  color: #f1f1f1;\n",
       "}\n",
       "#T_4da9d_row16_col2 {\n",
       "  background-color: #289049;\n",
       "  color: #f1f1f1;\n",
       "}\n",
       "#T_4da9d_row16_col4 {\n",
       "  background-color: #006b2b;\n",
       "  color: #f1f1f1;\n",
       "}\n",
       "#T_4da9d_row17_col2 {\n",
       "  background-color: #84cc83;\n",
       "  color: #000000;\n",
       "}\n",
       "#T_4da9d_row17_col4 {\n",
       "  background-color: #9ed798;\n",
       "  color: #000000;\n",
       "}\n",
       "#T_4da9d_row17_col8 {\n",
       "  background-color: #acdea6;\n",
       "  color: #000000;\n",
       "}\n",
       "#T_4da9d_row17_col12 {\n",
       "  background-color: #e3f4de;\n",
       "  color: #000000;\n",
       "}\n",
       "#T_4da9d_row18_col19 {\n",
       "  background-color: #8ace88;\n",
       "  color: #000000;\n",
       "}\n",
       "#T_4da9d_row20_col19 {\n",
       "  background-color: #6ec173;\n",
       "  color: #000000;\n",
       "}\n",
       "</style>\n",
       "<table id=\"T_4da9d\">\n",
       "  <thead>\n",
       "    <tr>\n",
       "      <th class=\"index_name level0\" >consequents</th>\n",
       "      <th id=\"T_4da9d_level0_col0\" class=\"col_heading level0 col0\" >frozenset({'ItalCook'})</th>\n",
       "      <th id=\"T_4da9d_level0_col1\" class=\"col_heading level0 col1\" >frozenset({'YouthBks', 'CookBks'})</th>\n",
       "      <th id=\"T_4da9d_level0_col2\" class=\"col_heading level0 col2\" >frozenset({'GeogBks'})</th>\n",
       "      <th id=\"T_4da9d_level0_col3\" class=\"col_heading level0 col3\" >frozenset({'ArtBks', 'GeogBks'})</th>\n",
       "      <th id=\"T_4da9d_level0_col4\" class=\"col_heading level0 col4\" >frozenset({'ChildBks'})</th>\n",
       "      <th id=\"T_4da9d_level0_col5\" class=\"col_heading level0 col5\" >frozenset({'RefBks', 'CookBks'})</th>\n",
       "      <th id=\"T_4da9d_level0_col6\" class=\"col_heading level0 col6\" >frozenset({'GeogBks', 'DoItYBks'})</th>\n",
       "      <th id=\"T_4da9d_level0_col7\" class=\"col_heading level0 col7\" >frozenset({'ArtBks', 'DoItYBks'})</th>\n",
       "      <th id=\"T_4da9d_level0_col8\" class=\"col_heading level0 col8\" >frozenset({'YouthBks'})</th>\n",
       "      <th id=\"T_4da9d_level0_col9\" class=\"col_heading level0 col9\" >frozenset({'DoItYBks'})</th>\n",
       "      <th id=\"T_4da9d_level0_col10\" class=\"col_heading level0 col10\" >frozenset({'DoItYBks', 'ChildBks'})</th>\n",
       "      <th id=\"T_4da9d_level0_col11\" class=\"col_heading level0 col11\" >frozenset({'GeogBks', 'ChildBks'})</th>\n",
       "      <th id=\"T_4da9d_level0_col12\" class=\"col_heading level0 col12\" >frozenset({'CookBks', 'ChildBks'})</th>\n",
       "      <th id=\"T_4da9d_level0_col13\" class=\"col_heading level0 col13\" >frozenset({'RefBks'})</th>\n",
       "      <th id=\"T_4da9d_level0_col14\" class=\"col_heading level0 col14\" >frozenset({'GeogBks', 'CookBks'})</th>\n",
       "      <th id=\"T_4da9d_level0_col15\" class=\"col_heading level0 col15\" >frozenset({'ArtBks'})</th>\n",
       "      <th id=\"T_4da9d_level0_col16\" class=\"col_heading level0 col16\" >frozenset({'ArtBks', 'CookBks'})</th>\n",
       "      <th id=\"T_4da9d_level0_col17\" class=\"col_heading level0 col17\" >frozenset({'DoItYBks', 'CookBks'})</th>\n",
       "      <th id=\"T_4da9d_level0_col18\" class=\"col_heading level0 col18\" >frozenset({'ArtBks', 'ChildBks'})</th>\n",
       "      <th id=\"T_4da9d_level0_col19\" class=\"col_heading level0 col19\" >frozenset({'CookBks'})</th>\n",
       "      <th id=\"T_4da9d_level0_col20\" class=\"col_heading level0 col20\" >frozenset({'RefBks', 'ChildBks'})</th>\n",
       "      <th id=\"T_4da9d_level0_col21\" class=\"col_heading level0 col21\" >frozenset({'YouthBks', 'ChildBks'})</th>\n",
       "    </tr>\n",
       "    <tr>\n",
       "      <th class=\"index_name level0\" >antecedents</th>\n",
       "      <th class=\"blank col0\" >&nbsp;</th>\n",
       "      <th class=\"blank col1\" >&nbsp;</th>\n",
       "      <th class=\"blank col2\" >&nbsp;</th>\n",
       "      <th class=\"blank col3\" >&nbsp;</th>\n",
       "      <th class=\"blank col4\" >&nbsp;</th>\n",
       "      <th class=\"blank col5\" >&nbsp;</th>\n",
       "      <th class=\"blank col6\" >&nbsp;</th>\n",
       "      <th class=\"blank col7\" >&nbsp;</th>\n",
       "      <th class=\"blank col8\" >&nbsp;</th>\n",
       "      <th class=\"blank col9\" >&nbsp;</th>\n",
       "      <th class=\"blank col10\" >&nbsp;</th>\n",
       "      <th class=\"blank col11\" >&nbsp;</th>\n",
       "      <th class=\"blank col12\" >&nbsp;</th>\n",
       "      <th class=\"blank col13\" >&nbsp;</th>\n",
       "      <th class=\"blank col14\" >&nbsp;</th>\n",
       "      <th class=\"blank col15\" >&nbsp;</th>\n",
       "      <th class=\"blank col16\" >&nbsp;</th>\n",
       "      <th class=\"blank col17\" >&nbsp;</th>\n",
       "      <th class=\"blank col18\" >&nbsp;</th>\n",
       "      <th class=\"blank col19\" >&nbsp;</th>\n",
       "      <th class=\"blank col20\" >&nbsp;</th>\n",
       "      <th class=\"blank col21\" >&nbsp;</th>\n",
       "    </tr>\n",
       "  </thead>\n",
       "  <tbody>\n",
       "    <tr>\n",
       "      <th id=\"T_4da9d_level0_row0\" class=\"row_heading level0 row0\" >frozenset({'CookBks'})</th>\n",
       "      <td id=\"T_4da9d_row0_col0\" class=\"data row0 col0\" >2.32</td>\n",
       "      <td id=\"T_4da9d_row0_col1\" class=\"data row0 col1\" >nan</td>\n",
       "      <td id=\"T_4da9d_row0_col2\" class=\"data row0 col2\" >1.62</td>\n",
       "      <td id=\"T_4da9d_row0_col3\" class=\"data row0 col3\" >1.88</td>\n",
       "      <td id=\"T_4da9d_row0_col4\" class=\"data row0 col4\" >1.40</td>\n",
       "      <td id=\"T_4da9d_row0_col5\" class=\"data row0 col5\" >nan</td>\n",
       "      <td id=\"T_4da9d_row0_col6\" class=\"data row0 col6\" >1.90</td>\n",
       "      <td id=\"T_4da9d_row0_col7\" class=\"data row0 col7\" >1.91</td>\n",
       "      <td id=\"T_4da9d_row0_col8\" class=\"data row0 col8\" >1.52</td>\n",
       "      <td id=\"T_4da9d_row0_col9\" class=\"data row0 col9\" >1.54</td>\n",
       "      <td id=\"T_4da9d_row0_col10\" class=\"data row0 col10\" >1.84</td>\n",
       "      <td id=\"T_4da9d_row0_col11\" class=\"data row0 col11\" >1.78</td>\n",
       "      <td id=\"T_4da9d_row0_col12\" class=\"data row0 col12\" >nan</td>\n",
       "      <td id=\"T_4da9d_row0_col13\" class=\"data row0 col13\" >1.65</td>\n",
       "      <td id=\"T_4da9d_row0_col14\" class=\"data row0 col14\" >nan</td>\n",
       "      <td id=\"T_4da9d_row0_col15\" class=\"data row0 col15\" >1.61</td>\n",
       "      <td id=\"T_4da9d_row0_col16\" class=\"data row0 col16\" >nan</td>\n",
       "      <td id=\"T_4da9d_row0_col17\" class=\"data row0 col17\" >nan</td>\n",
       "      <td id=\"T_4da9d_row0_col18\" class=\"data row0 col18\" >1.81</td>\n",
       "      <td id=\"T_4da9d_row0_col19\" class=\"data row0 col19\" >nan</td>\n",
       "      <td id=\"T_4da9d_row0_col20\" class=\"data row0 col20\" >1.88</td>\n",
       "      <td id=\"T_4da9d_row0_col21\" class=\"data row0 col21\" >1.81</td>\n",
       "    </tr>\n",
       "    <tr>\n",
       "      <th id=\"T_4da9d_level0_row1\" class=\"row_heading level0 row1\" >frozenset({'YouthBks', 'CookBks'})</th>\n",
       "      <td id=\"T_4da9d_row1_col0\" class=\"data row1 col0\" >nan</td>\n",
       "      <td id=\"T_4da9d_row1_col1\" class=\"data row1 col1\" >nan</td>\n",
       "      <td id=\"T_4da9d_row1_col2\" class=\"data row1 col2\" >nan</td>\n",
       "      <td id=\"T_4da9d_row1_col3\" class=\"data row1 col3\" >nan</td>\n",
       "      <td id=\"T_4da9d_row1_col4\" class=\"data row1 col4\" >1.88</td>\n",
       "      <td id=\"T_4da9d_row1_col5\" class=\"data row1 col5\" >nan</td>\n",
       "      <td id=\"T_4da9d_row1_col6\" class=\"data row1 col6\" >nan</td>\n",
       "      <td id=\"T_4da9d_row1_col7\" class=\"data row1 col7\" >nan</td>\n",
       "      <td id=\"T_4da9d_row1_col8\" class=\"data row1 col8\" >nan</td>\n",
       "      <td id=\"T_4da9d_row1_col9\" class=\"data row1 col9\" >nan</td>\n",
       "      <td id=\"T_4da9d_row1_col10\" class=\"data row1 col10\" >nan</td>\n",
       "      <td id=\"T_4da9d_row1_col11\" class=\"data row1 col11\" >nan</td>\n",
       "      <td id=\"T_4da9d_row1_col12\" class=\"data row1 col12\" >nan</td>\n",
       "      <td id=\"T_4da9d_row1_col13\" class=\"data row1 col13\" >nan</td>\n",
       "      <td id=\"T_4da9d_row1_col14\" class=\"data row1 col14\" >nan</td>\n",
       "      <td id=\"T_4da9d_row1_col15\" class=\"data row1 col15\" >nan</td>\n",
       "      <td id=\"T_4da9d_row1_col16\" class=\"data row1 col16\" >nan</td>\n",
       "      <td id=\"T_4da9d_row1_col17\" class=\"data row1 col17\" >nan</td>\n",
       "      <td id=\"T_4da9d_row1_col18\" class=\"data row1 col18\" >nan</td>\n",
       "      <td id=\"T_4da9d_row1_col19\" class=\"data row1 col19\" >nan</td>\n",
       "      <td id=\"T_4da9d_row1_col20\" class=\"data row1 col20\" >nan</td>\n",
       "      <td id=\"T_4da9d_row1_col21\" class=\"data row1 col21\" >nan</td>\n",
       "    </tr>\n",
       "    <tr>\n",
       "      <th id=\"T_4da9d_level0_row2\" class=\"row_heading level0 row2\" >frozenset({'GeogBks'})</th>\n",
       "      <td id=\"T_4da9d_row2_col0\" class=\"data row2 col0\" >nan</td>\n",
       "      <td id=\"T_4da9d_row2_col1\" class=\"data row2 col1\" >nan</td>\n",
       "      <td id=\"T_4da9d_row2_col2\" class=\"data row2 col2\" >nan</td>\n",
       "      <td id=\"T_4da9d_row2_col3\" class=\"data row2 col3\" >nan</td>\n",
       "      <td id=\"T_4da9d_row2_col4\" class=\"data row2 col4\" >1.67</td>\n",
       "      <td id=\"T_4da9d_row2_col5\" class=\"data row2 col5\" >nan</td>\n",
       "      <td id=\"T_4da9d_row2_col6\" class=\"data row2 col6\" >nan</td>\n",
       "      <td id=\"T_4da9d_row2_col7\" class=\"data row2 col7\" >nan</td>\n",
       "      <td id=\"T_4da9d_row2_col8\" class=\"data row2 col8\" >1.76</td>\n",
       "      <td id=\"T_4da9d_row2_col9\" class=\"data row2 col9\" >1.70</td>\n",
       "      <td id=\"T_4da9d_row2_col10\" class=\"data row2 col10\" >2.06</td>\n",
       "      <td id=\"T_4da9d_row2_col11\" class=\"data row2 col11\" >nan</td>\n",
       "      <td id=\"T_4da9d_row2_col12\" class=\"data row2 col12\" >2.12</td>\n",
       "      <td id=\"T_4da9d_row2_col13\" class=\"data row2 col13\" >1.87</td>\n",
       "      <td id=\"T_4da9d_row2_col14\" class=\"data row2 col14\" >nan</td>\n",
       "      <td id=\"T_4da9d_row2_col15\" class=\"data row2 col15\" >1.92</td>\n",
       "      <td id=\"T_4da9d_row2_col16\" class=\"data row2 col16\" >2.25</td>\n",
       "      <td id=\"T_4da9d_row2_col17\" class=\"data row2 col17\" >2.10</td>\n",
       "      <td id=\"T_4da9d_row2_col18\" class=\"data row2 col18\" >2.27</td>\n",
       "      <td id=\"T_4da9d_row2_col19\" class=\"data row2 col19\" >1.62</td>\n",
       "      <td id=\"T_4da9d_row2_col20\" class=\"data row2 col20\" >nan</td>\n",
       "      <td id=\"T_4da9d_row2_col21\" class=\"data row2 col21\" >nan</td>\n",
       "    </tr>\n",
       "    <tr>\n",
       "      <th id=\"T_4da9d_level0_row3\" class=\"row_heading level0 row3\" >frozenset({'ArtBks', 'GeogBks'})</th>\n",
       "      <td id=\"T_4da9d_row3_col0\" class=\"data row3 col0\" >nan</td>\n",
       "      <td id=\"T_4da9d_row3_col1\" class=\"data row3 col1\" >nan</td>\n",
       "      <td id=\"T_4da9d_row3_col2\" class=\"data row3 col2\" >nan</td>\n",
       "      <td id=\"T_4da9d_row3_col3\" class=\"data row3 col3\" >nan</td>\n",
       "      <td id=\"T_4da9d_row3_col4\" class=\"data row3 col4\" >1.89</td>\n",
       "      <td id=\"T_4da9d_row3_col5\" class=\"data row3 col5\" >nan</td>\n",
       "      <td id=\"T_4da9d_row3_col6\" class=\"data row3 col6\" >nan</td>\n",
       "      <td id=\"T_4da9d_row3_col7\" class=\"data row3 col7\" >nan</td>\n",
       "      <td id=\"T_4da9d_row3_col8\" class=\"data row3 col8\" >nan</td>\n",
       "      <td id=\"T_4da9d_row3_col9\" class=\"data row3 col9\" >nan</td>\n",
       "      <td id=\"T_4da9d_row3_col10\" class=\"data row3 col10\" >nan</td>\n",
       "      <td id=\"T_4da9d_row3_col11\" class=\"data row3 col11\" >nan</td>\n",
       "      <td id=\"T_4da9d_row3_col12\" class=\"data row3 col12\" >nan</td>\n",
       "      <td id=\"T_4da9d_row3_col13\" class=\"data row3 col13\" >nan</td>\n",
       "      <td id=\"T_4da9d_row3_col14\" class=\"data row3 col14\" >nan</td>\n",
       "      <td id=\"T_4da9d_row3_col15\" class=\"data row3 col15\" >nan</td>\n",
       "      <td id=\"T_4da9d_row3_col16\" class=\"data row3 col16\" >nan</td>\n",
       "      <td id=\"T_4da9d_row3_col17\" class=\"data row3 col17\" >nan</td>\n",
       "      <td id=\"T_4da9d_row3_col18\" class=\"data row3 col18\" >nan</td>\n",
       "      <td id=\"T_4da9d_row3_col19\" class=\"data row3 col19\" >1.88</td>\n",
       "      <td id=\"T_4da9d_row3_col20\" class=\"data row3 col20\" >nan</td>\n",
       "      <td id=\"T_4da9d_row3_col21\" class=\"data row3 col21\" >nan</td>\n",
       "    </tr>\n",
       "    <tr>\n",
       "      <th id=\"T_4da9d_level0_row4\" class=\"row_heading level0 row4\" >frozenset({'RefBks', 'CookBks'})</th>\n",
       "      <td id=\"T_4da9d_row4_col0\" class=\"data row4 col0\" >nan</td>\n",
       "      <td id=\"T_4da9d_row4_col1\" class=\"data row4 col1\" >nan</td>\n",
       "      <td id=\"T_4da9d_row4_col2\" class=\"data row4 col2\" >nan</td>\n",
       "      <td id=\"T_4da9d_row4_col3\" class=\"data row4 col3\" >nan</td>\n",
       "      <td id=\"T_4da9d_row4_col4\" class=\"data row4 col4\" >1.90</td>\n",
       "      <td id=\"T_4da9d_row4_col5\" class=\"data row4 col5\" >nan</td>\n",
       "      <td id=\"T_4da9d_row4_col6\" class=\"data row4 col6\" >nan</td>\n",
       "      <td id=\"T_4da9d_row4_col7\" class=\"data row4 col7\" >nan</td>\n",
       "      <td id=\"T_4da9d_row4_col8\" class=\"data row4 col8\" >nan</td>\n",
       "      <td id=\"T_4da9d_row4_col9\" class=\"data row4 col9\" >nan</td>\n",
       "      <td id=\"T_4da9d_row4_col10\" class=\"data row4 col10\" >nan</td>\n",
       "      <td id=\"T_4da9d_row4_col11\" class=\"data row4 col11\" >nan</td>\n",
       "      <td id=\"T_4da9d_row4_col12\" class=\"data row4 col12\" >nan</td>\n",
       "      <td id=\"T_4da9d_row4_col13\" class=\"data row4 col13\" >nan</td>\n",
       "      <td id=\"T_4da9d_row4_col14\" class=\"data row4 col14\" >nan</td>\n",
       "      <td id=\"T_4da9d_row4_col15\" class=\"data row4 col15\" >nan</td>\n",
       "      <td id=\"T_4da9d_row4_col16\" class=\"data row4 col16\" >nan</td>\n",
       "      <td id=\"T_4da9d_row4_col17\" class=\"data row4 col17\" >nan</td>\n",
       "      <td id=\"T_4da9d_row4_col18\" class=\"data row4 col18\" >nan</td>\n",
       "      <td id=\"T_4da9d_row4_col19\" class=\"data row4 col19\" >nan</td>\n",
       "      <td id=\"T_4da9d_row4_col20\" class=\"data row4 col20\" >nan</td>\n",
       "      <td id=\"T_4da9d_row4_col21\" class=\"data row4 col21\" >nan</td>\n",
       "    </tr>\n",
       "    <tr>\n",
       "      <th id=\"T_4da9d_level0_row5\" class=\"row_heading level0 row5\" >frozenset({'ChildBks'})</th>\n",
       "      <td id=\"T_4da9d_row5_col0\" class=\"data row5 col0\" >nan</td>\n",
       "      <td id=\"T_4da9d_row5_col1\" class=\"data row5 col1\" >1.88</td>\n",
       "      <td id=\"T_4da9d_row5_col2\" class=\"data row5 col2\" >1.67</td>\n",
       "      <td id=\"T_4da9d_row5_col3\" class=\"data row5 col3\" >1.89</td>\n",
       "      <td id=\"T_4da9d_row5_col4\" class=\"data row5 col4\" >nan</td>\n",
       "      <td id=\"T_4da9d_row5_col5\" class=\"data row5 col5\" >1.90</td>\n",
       "      <td id=\"T_4da9d_row5_col6\" class=\"data row5 col6\" >1.86</td>\n",
       "      <td id=\"T_4da9d_row5_col7\" class=\"data row5 col7\" >nan</td>\n",
       "      <td id=\"T_4da9d_row5_col8\" class=\"data row5 col8\" >1.58</td>\n",
       "      <td id=\"T_4da9d_row5_col9\" class=\"data row5 col9\" >1.54</td>\n",
       "      <td id=\"T_4da9d_row5_col10\" class=\"data row5 col10\" >nan</td>\n",
       "      <td id=\"T_4da9d_row5_col11\" class=\"data row5 col11\" >nan</td>\n",
       "      <td id=\"T_4da9d_row5_col12\" class=\"data row5 col12\" >nan</td>\n",
       "      <td id=\"T_4da9d_row5_col13\" class=\"data row5 col13\" >1.67</td>\n",
       "      <td id=\"T_4da9d_row5_col14\" class=\"data row5 col14\" >1.84</td>\n",
       "      <td id=\"T_4da9d_row5_col15\" class=\"data row5 col15\" >1.59</td>\n",
       "      <td id=\"T_4da9d_row5_col16\" class=\"data row5 col16\" >1.79</td>\n",
       "      <td id=\"T_4da9d_row5_col17\" class=\"data row5 col17\" >1.84</td>\n",
       "      <td id=\"T_4da9d_row5_col18\" class=\"data row5 col18\" >nan</td>\n",
       "      <td id=\"T_4da9d_row5_col19\" class=\"data row5 col19\" >1.40</td>\n",
       "      <td id=\"T_4da9d_row5_col20\" class=\"data row5 col20\" >nan</td>\n",
       "      <td id=\"T_4da9d_row5_col21\" class=\"data row5 col21\" >nan</td>\n",
       "    </tr>\n",
       "    <tr>\n",
       "      <th id=\"T_4da9d_level0_row6\" class=\"row_heading level0 row6\" >frozenset({'GeogBks', 'DoItYBks'})</th>\n",
       "      <td id=\"T_4da9d_row6_col0\" class=\"data row6 col0\" >nan</td>\n",
       "      <td id=\"T_4da9d_row6_col1\" class=\"data row6 col1\" >nan</td>\n",
       "      <td id=\"T_4da9d_row6_col2\" class=\"data row6 col2\" >nan</td>\n",
       "      <td id=\"T_4da9d_row6_col3\" class=\"data row6 col3\" >nan</td>\n",
       "      <td id=\"T_4da9d_row6_col4\" class=\"data row6 col4\" >1.86</td>\n",
       "      <td id=\"T_4da9d_row6_col5\" class=\"data row6 col5\" >nan</td>\n",
       "      <td id=\"T_4da9d_row6_col6\" class=\"data row6 col6\" >nan</td>\n",
       "      <td id=\"T_4da9d_row6_col7\" class=\"data row6 col7\" >nan</td>\n",
       "      <td id=\"T_4da9d_row6_col8\" class=\"data row6 col8\" >nan</td>\n",
       "      <td id=\"T_4da9d_row6_col9\" class=\"data row6 col9\" >nan</td>\n",
       "      <td id=\"T_4da9d_row6_col10\" class=\"data row6 col10\" >nan</td>\n",
       "      <td id=\"T_4da9d_row6_col11\" class=\"data row6 col11\" >nan</td>\n",
       "      <td id=\"T_4da9d_row6_col12\" class=\"data row6 col12\" >nan</td>\n",
       "      <td id=\"T_4da9d_row6_col13\" class=\"data row6 col13\" >nan</td>\n",
       "      <td id=\"T_4da9d_row6_col14\" class=\"data row6 col14\" >nan</td>\n",
       "      <td id=\"T_4da9d_row6_col15\" class=\"data row6 col15\" >nan</td>\n",
       "      <td id=\"T_4da9d_row6_col16\" class=\"data row6 col16\" >nan</td>\n",
       "      <td id=\"T_4da9d_row6_col17\" class=\"data row6 col17\" >nan</td>\n",
       "      <td id=\"T_4da9d_row6_col18\" class=\"data row6 col18\" >nan</td>\n",
       "      <td id=\"T_4da9d_row6_col19\" class=\"data row6 col19\" >1.90</td>\n",
       "      <td id=\"T_4da9d_row6_col20\" class=\"data row6 col20\" >nan</td>\n",
       "      <td id=\"T_4da9d_row6_col21\" class=\"data row6 col21\" >nan</td>\n",
       "    </tr>\n",
       "    <tr>\n",
       "      <th id=\"T_4da9d_level0_row7\" class=\"row_heading level0 row7\" >frozenset({'ArtBks', 'DoItYBks'})</th>\n",
       "      <td id=\"T_4da9d_row7_col0\" class=\"data row7 col0\" >nan</td>\n",
       "      <td id=\"T_4da9d_row7_col1\" class=\"data row7 col1\" >nan</td>\n",
       "      <td id=\"T_4da9d_row7_col2\" class=\"data row7 col2\" >nan</td>\n",
       "      <td id=\"T_4da9d_row7_col3\" class=\"data row7 col3\" >nan</td>\n",
       "      <td id=\"T_4da9d_row7_col4\" class=\"data row7 col4\" >nan</td>\n",
       "      <td id=\"T_4da9d_row7_col5\" class=\"data row7 col5\" >nan</td>\n",
       "      <td id=\"T_4da9d_row7_col6\" class=\"data row7 col6\" >nan</td>\n",
       "      <td id=\"T_4da9d_row7_col7\" class=\"data row7 col7\" >nan</td>\n",
       "      <td id=\"T_4da9d_row7_col8\" class=\"data row7 col8\" >nan</td>\n",
       "      <td id=\"T_4da9d_row7_col9\" class=\"data row7 col9\" >nan</td>\n",
       "      <td id=\"T_4da9d_row7_col10\" class=\"data row7 col10\" >nan</td>\n",
       "      <td id=\"T_4da9d_row7_col11\" class=\"data row7 col11\" >nan</td>\n",
       "      <td id=\"T_4da9d_row7_col12\" class=\"data row7 col12\" >nan</td>\n",
       "      <td id=\"T_4da9d_row7_col13\" class=\"data row7 col13\" >nan</td>\n",
       "      <td id=\"T_4da9d_row7_col14\" class=\"data row7 col14\" >nan</td>\n",
       "      <td id=\"T_4da9d_row7_col15\" class=\"data row7 col15\" >nan</td>\n",
       "      <td id=\"T_4da9d_row7_col16\" class=\"data row7 col16\" >nan</td>\n",
       "      <td id=\"T_4da9d_row7_col17\" class=\"data row7 col17\" >nan</td>\n",
       "      <td id=\"T_4da9d_row7_col18\" class=\"data row7 col18\" >nan</td>\n",
       "      <td id=\"T_4da9d_row7_col19\" class=\"data row7 col19\" >1.91</td>\n",
       "      <td id=\"T_4da9d_row7_col20\" class=\"data row7 col20\" >nan</td>\n",
       "      <td id=\"T_4da9d_row7_col21\" class=\"data row7 col21\" >nan</td>\n",
       "    </tr>\n",
       "    <tr>\n",
       "      <th id=\"T_4da9d_level0_row8\" class=\"row_heading level0 row8\" >frozenset({'YouthBks'})</th>\n",
       "      <td id=\"T_4da9d_row8_col0\" class=\"data row8 col0\" >nan</td>\n",
       "      <td id=\"T_4da9d_row8_col1\" class=\"data row8 col1\" >nan</td>\n",
       "      <td id=\"T_4da9d_row8_col2\" class=\"data row8 col2\" >1.76</td>\n",
       "      <td id=\"T_4da9d_row8_col3\" class=\"data row8 col3\" >nan</td>\n",
       "      <td id=\"T_4da9d_row8_col4\" class=\"data row8 col4\" >1.58</td>\n",
       "      <td id=\"T_4da9d_row8_col5\" class=\"data row8 col5\" >nan</td>\n",
       "      <td id=\"T_4da9d_row8_col6\" class=\"data row8 col6\" >nan</td>\n",
       "      <td id=\"T_4da9d_row8_col7\" class=\"data row8 col7\" >nan</td>\n",
       "      <td id=\"T_4da9d_row8_col8\" class=\"data row8 col8\" >nan</td>\n",
       "      <td id=\"T_4da9d_row8_col9\" class=\"data row8 col9\" >1.65</td>\n",
       "      <td id=\"T_4da9d_row8_col10\" class=\"data row8 col10\" >nan</td>\n",
       "      <td id=\"T_4da9d_row8_col11\" class=\"data row8 col11\" >nan</td>\n",
       "      <td id=\"T_4da9d_row8_col12\" class=\"data row8 col12\" >2.04</td>\n",
       "      <td id=\"T_4da9d_row8_col13\" class=\"data row8 col13\" >nan</td>\n",
       "      <td id=\"T_4da9d_row8_col14\" class=\"data row8 col14\" >nan</td>\n",
       "      <td id=\"T_4da9d_row8_col15\" class=\"data row8 col15\" >1.69</td>\n",
       "      <td id=\"T_4da9d_row8_col16\" class=\"data row8 col16\" >nan</td>\n",
       "      <td id=\"T_4da9d_row8_col17\" class=\"data row8 col17\" >nan</td>\n",
       "      <td id=\"T_4da9d_row8_col18\" class=\"data row8 col18\" >nan</td>\n",
       "      <td id=\"T_4da9d_row8_col19\" class=\"data row8 col19\" >1.52</td>\n",
       "      <td id=\"T_4da9d_row8_col20\" class=\"data row8 col20\" >nan</td>\n",
       "      <td id=\"T_4da9d_row8_col21\" class=\"data row8 col21\" >nan</td>\n",
       "    </tr>\n",
       "    <tr>\n",
       "      <th id=\"T_4da9d_level0_row9\" class=\"row_heading level0 row9\" >frozenset({'DoItYBks'})</th>\n",
       "      <td id=\"T_4da9d_row9_col0\" class=\"data row9 col0\" >nan</td>\n",
       "      <td id=\"T_4da9d_row9_col1\" class=\"data row9 col1\" >nan</td>\n",
       "      <td id=\"T_4da9d_row9_col2\" class=\"data row9 col2\" >1.70</td>\n",
       "      <td id=\"T_4da9d_row9_col3\" class=\"data row9 col3\" >nan</td>\n",
       "      <td id=\"T_4da9d_row9_col4\" class=\"data row9 col4\" >1.54</td>\n",
       "      <td id=\"T_4da9d_row9_col5\" class=\"data row9 col5\" >nan</td>\n",
       "      <td id=\"T_4da9d_row9_col6\" class=\"data row9 col6\" >nan</td>\n",
       "      <td id=\"T_4da9d_row9_col7\" class=\"data row9 col7\" >nan</td>\n",
       "      <td id=\"T_4da9d_row9_col8\" class=\"data row9 col8\" >1.65</td>\n",
       "      <td id=\"T_4da9d_row9_col9\" class=\"data row9 col9\" >nan</td>\n",
       "      <td id=\"T_4da9d_row9_col10\" class=\"data row9 col10\" >nan</td>\n",
       "      <td id=\"T_4da9d_row9_col11\" class=\"data row9 col11\" >1.90</td>\n",
       "      <td id=\"T_4da9d_row9_col12\" class=\"data row9 col12\" >2.02</td>\n",
       "      <td id=\"T_4da9d_row9_col13\" class=\"data row9 col13\" >1.74</td>\n",
       "      <td id=\"T_4da9d_row9_col14\" class=\"data row9 col14\" >2.00</td>\n",
       "      <td id=\"T_4da9d_row9_col15\" class=\"data row9 col15\" >1.82</td>\n",
       "      <td id=\"T_4da9d_row9_col16\" class=\"data row9 col16\" >2.16</td>\n",
       "      <td id=\"T_4da9d_row9_col17\" class=\"data row9 col17\" >nan</td>\n",
       "      <td id=\"T_4da9d_row9_col18\" class=\"data row9 col18\" >nan</td>\n",
       "      <td id=\"T_4da9d_row9_col19\" class=\"data row9 col19\" >1.54</td>\n",
       "      <td id=\"T_4da9d_row9_col20\" class=\"data row9 col20\" >nan</td>\n",
       "      <td id=\"T_4da9d_row9_col21\" class=\"data row9 col21\" >nan</td>\n",
       "    </tr>\n",
       "    <tr>\n",
       "      <th id=\"T_4da9d_level0_row10\" class=\"row_heading level0 row10\" >frozenset({'DoItYBks', 'ChildBks'})</th>\n",
       "      <td id=\"T_4da9d_row10_col0\" class=\"data row10 col0\" >nan</td>\n",
       "      <td id=\"T_4da9d_row10_col1\" class=\"data row10 col1\" >nan</td>\n",
       "      <td id=\"T_4da9d_row10_col2\" class=\"data row10 col2\" >2.06</td>\n",
       "      <td id=\"T_4da9d_row10_col3\" class=\"data row10 col3\" >nan</td>\n",
       "      <td id=\"T_4da9d_row10_col4\" class=\"data row10 col4\" >nan</td>\n",
       "      <td id=\"T_4da9d_row10_col5\" class=\"data row10 col5\" >nan</td>\n",
       "      <td id=\"T_4da9d_row10_col6\" class=\"data row10 col6\" >nan</td>\n",
       "      <td id=\"T_4da9d_row10_col7\" class=\"data row10 col7\" >nan</td>\n",
       "      <td id=\"T_4da9d_row10_col8\" class=\"data row10 col8\" >nan</td>\n",
       "      <td id=\"T_4da9d_row10_col9\" class=\"data row10 col9\" >nan</td>\n",
       "      <td id=\"T_4da9d_row10_col10\" class=\"data row10 col10\" >nan</td>\n",
       "      <td id=\"T_4da9d_row10_col11\" class=\"data row10 col11\" >nan</td>\n",
       "      <td id=\"T_4da9d_row10_col12\" class=\"data row10 col12\" >nan</td>\n",
       "      <td id=\"T_4da9d_row10_col13\" class=\"data row10 col13\" >nan</td>\n",
       "      <td id=\"T_4da9d_row10_col14\" class=\"data row10 col14\" >nan</td>\n",
       "      <td id=\"T_4da9d_row10_col15\" class=\"data row10 col15\" >nan</td>\n",
       "      <td id=\"T_4da9d_row10_col16\" class=\"data row10 col16\" >nan</td>\n",
       "      <td id=\"T_4da9d_row10_col17\" class=\"data row10 col17\" >nan</td>\n",
       "      <td id=\"T_4da9d_row10_col18\" class=\"data row10 col18\" >nan</td>\n",
       "      <td id=\"T_4da9d_row10_col19\" class=\"data row10 col19\" >1.84</td>\n",
       "      <td id=\"T_4da9d_row10_col20\" class=\"data row10 col20\" >nan</td>\n",
       "      <td id=\"T_4da9d_row10_col21\" class=\"data row10 col21\" >nan</td>\n",
       "    </tr>\n",
       "    <tr>\n",
       "      <th id=\"T_4da9d_level0_row11\" class=\"row_heading level0 row11\" >frozenset({'GeogBks', 'ChildBks'})</th>\n",
       "      <td id=\"T_4da9d_row11_col0\" class=\"data row11 col0\" >nan</td>\n",
       "      <td id=\"T_4da9d_row11_col1\" class=\"data row11 col1\" >nan</td>\n",
       "      <td id=\"T_4da9d_row11_col2\" class=\"data row11 col2\" >nan</td>\n",
       "      <td id=\"T_4da9d_row11_col3\" class=\"data row11 col3\" >nan</td>\n",
       "      <td id=\"T_4da9d_row11_col4\" class=\"data row11 col4\" >nan</td>\n",
       "      <td id=\"T_4da9d_row11_col5\" class=\"data row11 col5\" >nan</td>\n",
       "      <td id=\"T_4da9d_row11_col6\" class=\"data row11 col6\" >nan</td>\n",
       "      <td id=\"T_4da9d_row11_col7\" class=\"data row11 col7\" >nan</td>\n",
       "      <td id=\"T_4da9d_row11_col8\" class=\"data row11 col8\" >nan</td>\n",
       "      <td id=\"T_4da9d_row11_col9\" class=\"data row11 col9\" >1.90</td>\n",
       "      <td id=\"T_4da9d_row11_col10\" class=\"data row11 col10\" >nan</td>\n",
       "      <td id=\"T_4da9d_row11_col11\" class=\"data row11 col11\" >nan</td>\n",
       "      <td id=\"T_4da9d_row11_col12\" class=\"data row11 col12\" >nan</td>\n",
       "      <td id=\"T_4da9d_row11_col13\" class=\"data row11 col13\" >nan</td>\n",
       "      <td id=\"T_4da9d_row11_col14\" class=\"data row11 col14\" >nan</td>\n",
       "      <td id=\"T_4da9d_row11_col15\" class=\"data row11 col15\" >2.17</td>\n",
       "      <td id=\"T_4da9d_row11_col16\" class=\"data row11 col16\" >nan</td>\n",
       "      <td id=\"T_4da9d_row11_col17\" class=\"data row11 col17\" >nan</td>\n",
       "      <td id=\"T_4da9d_row11_col18\" class=\"data row11 col18\" >nan</td>\n",
       "      <td id=\"T_4da9d_row11_col19\" class=\"data row11 col19\" >1.78</td>\n",
       "      <td id=\"T_4da9d_row11_col20\" class=\"data row11 col20\" >nan</td>\n",
       "      <td id=\"T_4da9d_row11_col21\" class=\"data row11 col21\" >nan</td>\n",
       "    </tr>\n",
       "    <tr>\n",
       "      <th id=\"T_4da9d_level0_row12\" class=\"row_heading level0 row12\" >frozenset({'RefBks'})</th>\n",
       "      <td id=\"T_4da9d_row12_col0\" class=\"data row12 col0\" >nan</td>\n",
       "      <td id=\"T_4da9d_row12_col1\" class=\"data row12 col1\" >nan</td>\n",
       "      <td id=\"T_4da9d_row12_col2\" class=\"data row12 col2\" >1.87</td>\n",
       "      <td id=\"T_4da9d_row12_col3\" class=\"data row12 col3\" >nan</td>\n",
       "      <td id=\"T_4da9d_row12_col4\" class=\"data row12 col4\" >1.67</td>\n",
       "      <td id=\"T_4da9d_row12_col5\" class=\"data row12 col5\" >nan</td>\n",
       "      <td id=\"T_4da9d_row12_col6\" class=\"data row12 col6\" >nan</td>\n",
       "      <td id=\"T_4da9d_row12_col7\" class=\"data row12 col7\" >nan</td>\n",
       "      <td id=\"T_4da9d_row12_col8\" class=\"data row12 col8\" >nan</td>\n",
       "      <td id=\"T_4da9d_row12_col9\" class=\"data row12 col9\" >1.74</td>\n",
       "      <td id=\"T_4da9d_row12_col10\" class=\"data row12 col10\" >nan</td>\n",
       "      <td id=\"T_4da9d_row12_col11\" class=\"data row12 col11\" >nan</td>\n",
       "      <td id=\"T_4da9d_row12_col12\" class=\"data row12 col12\" >2.23</td>\n",
       "      <td id=\"T_4da9d_row12_col13\" class=\"data row12 col13\" >nan</td>\n",
       "      <td id=\"T_4da9d_row12_col14\" class=\"data row12 col14\" >nan</td>\n",
       "      <td id=\"T_4da9d_row12_col15\" class=\"data row12 col15\" >nan</td>\n",
       "      <td id=\"T_4da9d_row12_col16\" class=\"data row12 col16\" >nan</td>\n",
       "      <td id=\"T_4da9d_row12_col17\" class=\"data row12 col17\" >nan</td>\n",
       "      <td id=\"T_4da9d_row12_col18\" class=\"data row12 col18\" >nan</td>\n",
       "      <td id=\"T_4da9d_row12_col19\" class=\"data row12 col19\" >1.65</td>\n",
       "      <td id=\"T_4da9d_row12_col20\" class=\"data row12 col20\" >nan</td>\n",
       "      <td id=\"T_4da9d_row12_col21\" class=\"data row12 col21\" >nan</td>\n",
       "    </tr>\n",
       "    <tr>\n",
       "      <th id=\"T_4da9d_level0_row13\" class=\"row_heading level0 row13\" >frozenset({'CookBks', 'ChildBks'})</th>\n",
       "      <td id=\"T_4da9d_row13_col0\" class=\"data row13 col0\" >nan</td>\n",
       "      <td id=\"T_4da9d_row13_col1\" class=\"data row13 col1\" >nan</td>\n",
       "      <td id=\"T_4da9d_row13_col2\" class=\"data row13 col2\" >2.12</td>\n",
       "      <td id=\"T_4da9d_row13_col3\" class=\"data row13 col3\" >nan</td>\n",
       "      <td id=\"T_4da9d_row13_col4\" class=\"data row13 col4\" >nan</td>\n",
       "      <td id=\"T_4da9d_row13_col5\" class=\"data row13 col5\" >nan</td>\n",
       "      <td id=\"T_4da9d_row13_col6\" class=\"data row13 col6\" >nan</td>\n",
       "      <td id=\"T_4da9d_row13_col7\" class=\"data row13 col7\" >nan</td>\n",
       "      <td id=\"T_4da9d_row13_col8\" class=\"data row13 col8\" >2.04</td>\n",
       "      <td id=\"T_4da9d_row13_col9\" class=\"data row13 col9\" >2.02</td>\n",
       "      <td id=\"T_4da9d_row13_col10\" class=\"data row13 col10\" >nan</td>\n",
       "      <td id=\"T_4da9d_row13_col11\" class=\"data row13 col11\" >nan</td>\n",
       "      <td id=\"T_4da9d_row13_col12\" class=\"data row13 col12\" >nan</td>\n",
       "      <td id=\"T_4da9d_row13_col13\" class=\"data row13 col13\" >2.23</td>\n",
       "      <td id=\"T_4da9d_row13_col14\" class=\"data row13 col14\" >nan</td>\n",
       "      <td id=\"T_4da9d_row13_col15\" class=\"data row13 col15\" >2.05</td>\n",
       "      <td id=\"T_4da9d_row13_col16\" class=\"data row13 col16\" >nan</td>\n",
       "      <td id=\"T_4da9d_row13_col17\" class=\"data row13 col17\" >nan</td>\n",
       "      <td id=\"T_4da9d_row13_col18\" class=\"data row13 col18\" >nan</td>\n",
       "      <td id=\"T_4da9d_row13_col19\" class=\"data row13 col19\" >nan</td>\n",
       "      <td id=\"T_4da9d_row13_col20\" class=\"data row13 col20\" >nan</td>\n",
       "      <td id=\"T_4da9d_row13_col21\" class=\"data row13 col21\" >nan</td>\n",
       "    </tr>\n",
       "    <tr>\n",
       "      <th id=\"T_4da9d_level0_row14\" class=\"row_heading level0 row14\" >frozenset({'GeogBks', 'CookBks'})</th>\n",
       "      <td id=\"T_4da9d_row14_col0\" class=\"data row14 col0\" >nan</td>\n",
       "      <td id=\"T_4da9d_row14_col1\" class=\"data row14 col1\" >nan</td>\n",
       "      <td id=\"T_4da9d_row14_col2\" class=\"data row14 col2\" >nan</td>\n",
       "      <td id=\"T_4da9d_row14_col3\" class=\"data row14 col3\" >nan</td>\n",
       "      <td id=\"T_4da9d_row14_col4\" class=\"data row14 col4\" >1.84</td>\n",
       "      <td id=\"T_4da9d_row14_col5\" class=\"data row14 col5\" >nan</td>\n",
       "      <td id=\"T_4da9d_row14_col6\" class=\"data row14 col6\" >nan</td>\n",
       "      <td id=\"T_4da9d_row14_col7\" class=\"data row14 col7\" >nan</td>\n",
       "      <td id=\"T_4da9d_row14_col8\" class=\"data row14 col8\" >nan</td>\n",
       "      <td id=\"T_4da9d_row14_col9\" class=\"data row14 col9\" >2.00</td>\n",
       "      <td id=\"T_4da9d_row14_col10\" class=\"data row14 col10\" >nan</td>\n",
       "      <td id=\"T_4da9d_row14_col11\" class=\"data row14 col11\" >nan</td>\n",
       "      <td id=\"T_4da9d_row14_col12\" class=\"data row14 col12\" >nan</td>\n",
       "      <td id=\"T_4da9d_row14_col13\" class=\"data row14 col13\" >nan</td>\n",
       "      <td id=\"T_4da9d_row14_col14\" class=\"data row14 col14\" >nan</td>\n",
       "      <td id=\"T_4da9d_row14_col15\" class=\"data row14 col15\" >2.23</td>\n",
       "      <td id=\"T_4da9d_row14_col16\" class=\"data row14 col16\" >nan</td>\n",
       "      <td id=\"T_4da9d_row14_col17\" class=\"data row14 col17\" >nan</td>\n",
       "      <td id=\"T_4da9d_row14_col18\" class=\"data row14 col18\" >nan</td>\n",
       "      <td id=\"T_4da9d_row14_col19\" class=\"data row14 col19\" >nan</td>\n",
       "      <td id=\"T_4da9d_row14_col20\" class=\"data row14 col20\" >nan</td>\n",
       "      <td id=\"T_4da9d_row14_col21\" class=\"data row14 col21\" >nan</td>\n",
       "    </tr>\n",
       "    <tr>\n",
       "      <th id=\"T_4da9d_level0_row15\" class=\"row_heading level0 row15\" >frozenset({'ArtBks', 'CookBks'})</th>\n",
       "      <td id=\"T_4da9d_row15_col0\" class=\"data row15 col0\" >nan</td>\n",
       "      <td id=\"T_4da9d_row15_col1\" class=\"data row15 col1\" >nan</td>\n",
       "      <td id=\"T_4da9d_row15_col2\" class=\"data row15 col2\" >2.25</td>\n",
       "      <td id=\"T_4da9d_row15_col3\" class=\"data row15 col3\" >nan</td>\n",
       "      <td id=\"T_4da9d_row15_col4\" class=\"data row15 col4\" >1.79</td>\n",
       "      <td id=\"T_4da9d_row15_col5\" class=\"data row15 col5\" >nan</td>\n",
       "      <td id=\"T_4da9d_row15_col6\" class=\"data row15 col6\" >nan</td>\n",
       "      <td id=\"T_4da9d_row15_col7\" class=\"data row15 col7\" >nan</td>\n",
       "      <td id=\"T_4da9d_row15_col8\" class=\"data row15 col8\" >nan</td>\n",
       "      <td id=\"T_4da9d_row15_col9\" class=\"data row15 col9\" >2.16</td>\n",
       "      <td id=\"T_4da9d_row15_col10\" class=\"data row15 col10\" >nan</td>\n",
       "      <td id=\"T_4da9d_row15_col11\" class=\"data row15 col11\" >nan</td>\n",
       "      <td id=\"T_4da9d_row15_col12\" class=\"data row15 col12\" >nan</td>\n",
       "      <td id=\"T_4da9d_row15_col13\" class=\"data row15 col13\" >nan</td>\n",
       "      <td id=\"T_4da9d_row15_col14\" class=\"data row15 col14\" >nan</td>\n",
       "      <td id=\"T_4da9d_row15_col15\" class=\"data row15 col15\" >nan</td>\n",
       "      <td id=\"T_4da9d_row15_col16\" class=\"data row15 col16\" >nan</td>\n",
       "      <td id=\"T_4da9d_row15_col17\" class=\"data row15 col17\" >nan</td>\n",
       "      <td id=\"T_4da9d_row15_col18\" class=\"data row15 col18\" >nan</td>\n",
       "      <td id=\"T_4da9d_row15_col19\" class=\"data row15 col19\" >nan</td>\n",
       "      <td id=\"T_4da9d_row15_col20\" class=\"data row15 col20\" >nan</td>\n",
       "      <td id=\"T_4da9d_row15_col21\" class=\"data row15 col21\" >nan</td>\n",
       "    </tr>\n",
       "    <tr>\n",
       "      <th id=\"T_4da9d_level0_row16\" class=\"row_heading level0 row16\" >frozenset({'DoItYBks', 'CookBks'})</th>\n",
       "      <td id=\"T_4da9d_row16_col0\" class=\"data row16 col0\" >nan</td>\n",
       "      <td id=\"T_4da9d_row16_col1\" class=\"data row16 col1\" >nan</td>\n",
       "      <td id=\"T_4da9d_row16_col2\" class=\"data row16 col2\" >2.10</td>\n",
       "      <td id=\"T_4da9d_row16_col3\" class=\"data row16 col3\" >nan</td>\n",
       "      <td id=\"T_4da9d_row16_col4\" class=\"data row16 col4\" >1.84</td>\n",
       "      <td id=\"T_4da9d_row16_col5\" class=\"data row16 col5\" >nan</td>\n",
       "      <td id=\"T_4da9d_row16_col6\" class=\"data row16 col6\" >nan</td>\n",
       "      <td id=\"T_4da9d_row16_col7\" class=\"data row16 col7\" >nan</td>\n",
       "      <td id=\"T_4da9d_row16_col8\" class=\"data row16 col8\" >nan</td>\n",
       "      <td id=\"T_4da9d_row16_col9\" class=\"data row16 col9\" >nan</td>\n",
       "      <td id=\"T_4da9d_row16_col10\" class=\"data row16 col10\" >nan</td>\n",
       "      <td id=\"T_4da9d_row16_col11\" class=\"data row16 col11\" >nan</td>\n",
       "      <td id=\"T_4da9d_row16_col12\" class=\"data row16 col12\" >nan</td>\n",
       "      <td id=\"T_4da9d_row16_col13\" class=\"data row16 col13\" >nan</td>\n",
       "      <td id=\"T_4da9d_row16_col14\" class=\"data row16 col14\" >nan</td>\n",
       "      <td id=\"T_4da9d_row16_col15\" class=\"data row16 col15\" >2.25</td>\n",
       "      <td id=\"T_4da9d_row16_col16\" class=\"data row16 col16\" >nan</td>\n",
       "      <td id=\"T_4da9d_row16_col17\" class=\"data row16 col17\" >nan</td>\n",
       "      <td id=\"T_4da9d_row16_col18\" class=\"data row16 col18\" >nan</td>\n",
       "      <td id=\"T_4da9d_row16_col19\" class=\"data row16 col19\" >nan</td>\n",
       "      <td id=\"T_4da9d_row16_col20\" class=\"data row16 col20\" >nan</td>\n",
       "      <td id=\"T_4da9d_row16_col21\" class=\"data row16 col21\" >nan</td>\n",
       "    </tr>\n",
       "    <tr>\n",
       "      <th id=\"T_4da9d_level0_row17\" class=\"row_heading level0 row17\" >frozenset({'ArtBks'})</th>\n",
       "      <td id=\"T_4da9d_row17_col0\" class=\"data row17 col0\" >nan</td>\n",
       "      <td id=\"T_4da9d_row17_col1\" class=\"data row17 col1\" >nan</td>\n",
       "      <td id=\"T_4da9d_row17_col2\" class=\"data row17 col2\" >1.92</td>\n",
       "      <td id=\"T_4da9d_row17_col3\" class=\"data row17 col3\" >nan</td>\n",
       "      <td id=\"T_4da9d_row17_col4\" class=\"data row17 col4\" >1.59</td>\n",
       "      <td id=\"T_4da9d_row17_col5\" class=\"data row17 col5\" >nan</td>\n",
       "      <td id=\"T_4da9d_row17_col6\" class=\"data row17 col6\" >nan</td>\n",
       "      <td id=\"T_4da9d_row17_col7\" class=\"data row17 col7\" >nan</td>\n",
       "      <td id=\"T_4da9d_row17_col8\" class=\"data row17 col8\" >1.69</td>\n",
       "      <td id=\"T_4da9d_row17_col9\" class=\"data row17 col9\" >1.82</td>\n",
       "      <td id=\"T_4da9d_row17_col10\" class=\"data row17 col10\" >nan</td>\n",
       "      <td id=\"T_4da9d_row17_col11\" class=\"data row17 col11\" >2.17</td>\n",
       "      <td id=\"T_4da9d_row17_col12\" class=\"data row17 col12\" >2.05</td>\n",
       "      <td id=\"T_4da9d_row17_col13\" class=\"data row17 col13\" >nan</td>\n",
       "      <td id=\"T_4da9d_row17_col14\" class=\"data row17 col14\" >2.23</td>\n",
       "      <td id=\"T_4da9d_row17_col15\" class=\"data row17 col15\" >nan</td>\n",
       "      <td id=\"T_4da9d_row17_col16\" class=\"data row17 col16\" >nan</td>\n",
       "      <td id=\"T_4da9d_row17_col17\" class=\"data row17 col17\" >2.25</td>\n",
       "      <td id=\"T_4da9d_row17_col18\" class=\"data row17 col18\" >nan</td>\n",
       "      <td id=\"T_4da9d_row17_col19\" class=\"data row17 col19\" >1.61</td>\n",
       "      <td id=\"T_4da9d_row17_col20\" class=\"data row17 col20\" >nan</td>\n",
       "      <td id=\"T_4da9d_row17_col21\" class=\"data row17 col21\" >nan</td>\n",
       "    </tr>\n",
       "    <tr>\n",
       "      <th id=\"T_4da9d_level0_row18\" class=\"row_heading level0 row18\" >frozenset({'ArtBks', 'ChildBks'})</th>\n",
       "      <td id=\"T_4da9d_row18_col0\" class=\"data row18 col0\" >nan</td>\n",
       "      <td id=\"T_4da9d_row18_col1\" class=\"data row18 col1\" >nan</td>\n",
       "      <td id=\"T_4da9d_row18_col2\" class=\"data row18 col2\" >2.27</td>\n",
       "      <td id=\"T_4da9d_row18_col3\" class=\"data row18 col3\" >nan</td>\n",
       "      <td id=\"T_4da9d_row18_col4\" class=\"data row18 col4\" >nan</td>\n",
       "      <td id=\"T_4da9d_row18_col5\" class=\"data row18 col5\" >nan</td>\n",
       "      <td id=\"T_4da9d_row18_col6\" class=\"data row18 col6\" >nan</td>\n",
       "      <td id=\"T_4da9d_row18_col7\" class=\"data row18 col7\" >nan</td>\n",
       "      <td id=\"T_4da9d_row18_col8\" class=\"data row18 col8\" >nan</td>\n",
       "      <td id=\"T_4da9d_row18_col9\" class=\"data row18 col9\" >nan</td>\n",
       "      <td id=\"T_4da9d_row18_col10\" class=\"data row18 col10\" >nan</td>\n",
       "      <td id=\"T_4da9d_row18_col11\" class=\"data row18 col11\" >nan</td>\n",
       "      <td id=\"T_4da9d_row18_col12\" class=\"data row18 col12\" >nan</td>\n",
       "      <td id=\"T_4da9d_row18_col13\" class=\"data row18 col13\" >nan</td>\n",
       "      <td id=\"T_4da9d_row18_col14\" class=\"data row18 col14\" >nan</td>\n",
       "      <td id=\"T_4da9d_row18_col15\" class=\"data row18 col15\" >nan</td>\n",
       "      <td id=\"T_4da9d_row18_col16\" class=\"data row18 col16\" >nan</td>\n",
       "      <td id=\"T_4da9d_row18_col17\" class=\"data row18 col17\" >nan</td>\n",
       "      <td id=\"T_4da9d_row18_col18\" class=\"data row18 col18\" >nan</td>\n",
       "      <td id=\"T_4da9d_row18_col19\" class=\"data row18 col19\" >1.81</td>\n",
       "      <td id=\"T_4da9d_row18_col20\" class=\"data row18 col20\" >nan</td>\n",
       "      <td id=\"T_4da9d_row18_col21\" class=\"data row18 col21\" >nan</td>\n",
       "    </tr>\n",
       "    <tr>\n",
       "      <th id=\"T_4da9d_level0_row19\" class=\"row_heading level0 row19\" >frozenset({'ItalCook'})</th>\n",
       "      <td id=\"T_4da9d_row19_col0\" class=\"data row19 col0\" >nan</td>\n",
       "      <td id=\"T_4da9d_row19_col1\" class=\"data row19 col1\" >nan</td>\n",
       "      <td id=\"T_4da9d_row19_col2\" class=\"data row19 col2\" >nan</td>\n",
       "      <td id=\"T_4da9d_row19_col3\" class=\"data row19 col3\" >nan</td>\n",
       "      <td id=\"T_4da9d_row19_col4\" class=\"data row19 col4\" >nan</td>\n",
       "      <td id=\"T_4da9d_row19_col5\" class=\"data row19 col5\" >nan</td>\n",
       "      <td id=\"T_4da9d_row19_col6\" class=\"data row19 col6\" >nan</td>\n",
       "      <td id=\"T_4da9d_row19_col7\" class=\"data row19 col7\" >nan</td>\n",
       "      <td id=\"T_4da9d_row19_col8\" class=\"data row19 col8\" >nan</td>\n",
       "      <td id=\"T_4da9d_row19_col9\" class=\"data row19 col9\" >nan</td>\n",
       "      <td id=\"T_4da9d_row19_col10\" class=\"data row19 col10\" >nan</td>\n",
       "      <td id=\"T_4da9d_row19_col11\" class=\"data row19 col11\" >nan</td>\n",
       "      <td id=\"T_4da9d_row19_col12\" class=\"data row19 col12\" >nan</td>\n",
       "      <td id=\"T_4da9d_row19_col13\" class=\"data row19 col13\" >nan</td>\n",
       "      <td id=\"T_4da9d_row19_col14\" class=\"data row19 col14\" >nan</td>\n",
       "      <td id=\"T_4da9d_row19_col15\" class=\"data row19 col15\" >nan</td>\n",
       "      <td id=\"T_4da9d_row19_col16\" class=\"data row19 col16\" >nan</td>\n",
       "      <td id=\"T_4da9d_row19_col17\" class=\"data row19 col17\" >nan</td>\n",
       "      <td id=\"T_4da9d_row19_col18\" class=\"data row19 col18\" >nan</td>\n",
       "      <td id=\"T_4da9d_row19_col19\" class=\"data row19 col19\" >2.32</td>\n",
       "      <td id=\"T_4da9d_row19_col20\" class=\"data row19 col20\" >nan</td>\n",
       "      <td id=\"T_4da9d_row19_col21\" class=\"data row19 col21\" >nan</td>\n",
       "    </tr>\n",
       "    <tr>\n",
       "      <th id=\"T_4da9d_level0_row20\" class=\"row_heading level0 row20\" >frozenset({'RefBks', 'ChildBks'})</th>\n",
       "      <td id=\"T_4da9d_row20_col0\" class=\"data row20 col0\" >nan</td>\n",
       "      <td id=\"T_4da9d_row20_col1\" class=\"data row20 col1\" >nan</td>\n",
       "      <td id=\"T_4da9d_row20_col2\" class=\"data row20 col2\" >nan</td>\n",
       "      <td id=\"T_4da9d_row20_col3\" class=\"data row20 col3\" >nan</td>\n",
       "      <td id=\"T_4da9d_row20_col4\" class=\"data row20 col4\" >nan</td>\n",
       "      <td id=\"T_4da9d_row20_col5\" class=\"data row20 col5\" >nan</td>\n",
       "      <td id=\"T_4da9d_row20_col6\" class=\"data row20 col6\" >nan</td>\n",
       "      <td id=\"T_4da9d_row20_col7\" class=\"data row20 col7\" >nan</td>\n",
       "      <td id=\"T_4da9d_row20_col8\" class=\"data row20 col8\" >nan</td>\n",
       "      <td id=\"T_4da9d_row20_col9\" class=\"data row20 col9\" >nan</td>\n",
       "      <td id=\"T_4da9d_row20_col10\" class=\"data row20 col10\" >nan</td>\n",
       "      <td id=\"T_4da9d_row20_col11\" class=\"data row20 col11\" >nan</td>\n",
       "      <td id=\"T_4da9d_row20_col12\" class=\"data row20 col12\" >nan</td>\n",
       "      <td id=\"T_4da9d_row20_col13\" class=\"data row20 col13\" >nan</td>\n",
       "      <td id=\"T_4da9d_row20_col14\" class=\"data row20 col14\" >nan</td>\n",
       "      <td id=\"T_4da9d_row20_col15\" class=\"data row20 col15\" >nan</td>\n",
       "      <td id=\"T_4da9d_row20_col16\" class=\"data row20 col16\" >nan</td>\n",
       "      <td id=\"T_4da9d_row20_col17\" class=\"data row20 col17\" >nan</td>\n",
       "      <td id=\"T_4da9d_row20_col18\" class=\"data row20 col18\" >nan</td>\n",
       "      <td id=\"T_4da9d_row20_col19\" class=\"data row20 col19\" >1.88</td>\n",
       "      <td id=\"T_4da9d_row20_col20\" class=\"data row20 col20\" >nan</td>\n",
       "      <td id=\"T_4da9d_row20_col21\" class=\"data row20 col21\" >nan</td>\n",
       "    </tr>\n",
       "    <tr>\n",
       "      <th id=\"T_4da9d_level0_row21\" class=\"row_heading level0 row21\" >frozenset({'YouthBks', 'ChildBks'})</th>\n",
       "      <td id=\"T_4da9d_row21_col0\" class=\"data row21 col0\" >nan</td>\n",
       "      <td id=\"T_4da9d_row21_col1\" class=\"data row21 col1\" >nan</td>\n",
       "      <td id=\"T_4da9d_row21_col2\" class=\"data row21 col2\" >nan</td>\n",
       "      <td id=\"T_4da9d_row21_col3\" class=\"data row21 col3\" >nan</td>\n",
       "      <td id=\"T_4da9d_row21_col4\" class=\"data row21 col4\" >nan</td>\n",
       "      <td id=\"T_4da9d_row21_col5\" class=\"data row21 col5\" >nan</td>\n",
       "      <td id=\"T_4da9d_row21_col6\" class=\"data row21 col6\" >nan</td>\n",
       "      <td id=\"T_4da9d_row21_col7\" class=\"data row21 col7\" >nan</td>\n",
       "      <td id=\"T_4da9d_row21_col8\" class=\"data row21 col8\" >nan</td>\n",
       "      <td id=\"T_4da9d_row21_col9\" class=\"data row21 col9\" >nan</td>\n",
       "      <td id=\"T_4da9d_row21_col10\" class=\"data row21 col10\" >nan</td>\n",
       "      <td id=\"T_4da9d_row21_col11\" class=\"data row21 col11\" >nan</td>\n",
       "      <td id=\"T_4da9d_row21_col12\" class=\"data row21 col12\" >nan</td>\n",
       "      <td id=\"T_4da9d_row21_col13\" class=\"data row21 col13\" >nan</td>\n",
       "      <td id=\"T_4da9d_row21_col14\" class=\"data row21 col14\" >nan</td>\n",
       "      <td id=\"T_4da9d_row21_col15\" class=\"data row21 col15\" >nan</td>\n",
       "      <td id=\"T_4da9d_row21_col16\" class=\"data row21 col16\" >nan</td>\n",
       "      <td id=\"T_4da9d_row21_col17\" class=\"data row21 col17\" >nan</td>\n",
       "      <td id=\"T_4da9d_row21_col18\" class=\"data row21 col18\" >nan</td>\n",
       "      <td id=\"T_4da9d_row21_col19\" class=\"data row21 col19\" >1.81</td>\n",
       "      <td id=\"T_4da9d_row21_col20\" class=\"data row21 col20\" >nan</td>\n",
       "      <td id=\"T_4da9d_row21_col21\" class=\"data row21 col21\" >nan</td>\n",
       "    </tr>\n",
       "  </tbody>\n",
       "</table>\n"
      ],
      "text/plain": [
       "<pandas.io.formats.style.Styler at 0x7fcd50e7a170>"
      ]
     },
     "execution_count": 74,
     "metadata": {},
     "output_type": "execute_result"
    }
   ],
   "source": [
    "rules_df.pivot('antecedents','consequents','lift').style.background_gradient(cmap='Greens').set_precision(2).highlight_null('#000000')"
   ]
  },
  {
   "cell_type": "code",
   "execution_count": 75,
   "metadata": {},
   "outputs": [],
   "source": [
    "# To check with different support and confidence, will make a function for it\n",
    "\n",
    "def give_my_rules(df,support,confidence):\n",
    "    apriori_df=apriori(df.astype('bool'),min_support=support,use_colnames=True) \n",
    "\n",
    "    print('-'*20,'\\nApriori df\\n','-'*20)   \n",
    "    print(apriori_df.to_string())\n",
    "    \n",
    "    rules_df=association_rules(apriori_df, min_threshold=confidence).sort_values('lift',ascending=False)\n",
    "    \n",
    "    print('-'*20,'\\nAssociation df\\n','-'*20)\n",
    "    print(rules_df.to_string())\n",
    "\n",
    "    scatter_plot(rules_df,'support','confidence')\n",
    "    scatter_plot(rules_df,'lift','confidence')\n",
    "    return rules_df.pivot('antecedents','consequents','lift').style.background_gradient(cmap='Greens').set_precision(2).highlight_null('#000000')"
   ]
  },
  {
   "cell_type": "code",
   "execution_count": 76,
   "metadata": {},
   "outputs": [
    {
     "name": "stdout",
     "output_type": "stream",
     "text": [
      "-------------------- \n",
      "Apriori df\n",
      " --------------------\n",
      "    support                       itemsets\n",
      "0    0.4230                     (ChildBks)\n",
      "1    0.2475                     (YouthBks)\n",
      "2    0.4310                      (CookBks)\n",
      "3    0.2820                     (DoItYBks)\n",
      "4    0.2145                       (RefBks)\n",
      "5    0.2410                       (ArtBks)\n",
      "6    0.2760                      (GeogBks)\n",
      "7    0.1135                     (ItalCook)\n",
      "8    0.1085                     (Florence)\n",
      "9    0.1650           (YouthBks, ChildBks)\n",
      "10   0.2560            (CookBks, ChildBks)\n",
      "11   0.1840           (DoItYBks, ChildBks)\n",
      "12   0.1515             (RefBks, ChildBks)\n",
      "13   0.1625             (ArtBks, ChildBks)\n",
      "14   0.1950            (GeogBks, ChildBks)\n",
      "15   0.1620            (YouthBks, CookBks)\n",
      "16   0.1155           (YouthBks, DoItYBks)\n",
      "17   0.1010             (YouthBks, ArtBks)\n",
      "18   0.1205            (YouthBks, GeogBks)\n",
      "19   0.1875            (DoItYBks, CookBks)\n",
      "20   0.1525              (RefBks, CookBks)\n",
      "21   0.1670              (ArtBks, CookBks)\n",
      "22   0.1925             (GeogBks, CookBks)\n",
      "23   0.1135            (ItalCook, CookBks)\n",
      "24   0.1055             (RefBks, DoItYBks)\n",
      "25   0.1235             (ArtBks, DoItYBks)\n",
      "26   0.1325            (GeogBks, DoItYBks)\n",
      "27   0.1105              (RefBks, GeogBks)\n",
      "28   0.1275              (ArtBks, GeogBks)\n",
      "29   0.1290  (YouthBks, CookBks, ChildBks)\n",
      "30   0.1460  (DoItYBks, CookBks, ChildBks)\n",
      "31   0.1225    (RefBks, CookBks, ChildBks)\n",
      "32   0.1265    (ArtBks, CookBks, ChildBks)\n",
      "33   0.1495   (GeogBks, CookBks, ChildBks)\n",
      "34   0.1045  (GeogBks, DoItYBks, ChildBks)\n",
      "35   0.1020    (ArtBks, GeogBks, ChildBks)\n",
      "36   0.1015    (ArtBks, DoItYBks, CookBks)\n",
      "37   0.1085   (GeogBks, DoItYBks, CookBks)\n",
      "38   0.1035     (ArtBks, GeogBks, CookBks)\n",
      "-------------------- \n",
      "Association df\n",
      " --------------------\n",
      "             antecedents           consequents  antecedent support  consequent support  support  confidence      lift  leverage  conviction\n",
      "29             (CookBks)            (ItalCook)              0.4310              0.1135   0.1135    0.263341  2.320186  0.064582    1.203406\n",
      "28            (ItalCook)             (CookBks)              0.1135              0.4310   0.1135    1.000000  2.320186  0.064582         inf\n",
      "77    (ArtBks, ChildBks)             (GeogBks)              0.1625              0.2760   0.1020    0.627692  2.274247  0.057150    1.944628\n",
      "80             (GeogBks)    (ArtBks, ChildBks)              0.2760              0.1625   0.1020    0.369565  2.274247  0.057150    1.328448\n",
      "85              (ArtBks)   (DoItYBks, CookBks)              0.2410              0.1875   0.1015    0.421162  2.246196  0.056313    1.403674\n",
      "84   (DoItYBks, CookBks)              (ArtBks)              0.1875              0.2410   0.1015    0.541333  2.246196  0.056313    1.654797\n",
      "95     (ArtBks, CookBks)             (GeogBks)              0.1670              0.2760   0.1035    0.619760  2.245509  0.057408    1.904063\n",
      "98             (GeogBks)     (ArtBks, CookBks)              0.2760              0.1670   0.1035    0.375000  2.245509  0.057408    1.332800\n",
      "97              (ArtBks)    (GeogBks, CookBks)              0.2410              0.1925   0.1035    0.429461  2.230964  0.057107    1.415327\n",
      "96    (GeogBks, CookBks)              (ArtBks)              0.1925              0.2410   0.1035    0.537662  2.230964  0.057107    1.641657\n",
      "54   (CookBks, ChildBks)              (RefBks)              0.2560              0.2145   0.1225    0.478516  2.230842  0.067588    1.506277\n",
      "55              (RefBks)   (CookBks, ChildBks)              0.2145              0.2560   0.1225    0.571096  2.230842  0.067588    1.734652\n",
      "79              (ArtBks)   (GeogBks, ChildBks)              0.2410              0.1950   0.1020    0.423237  2.170444  0.055005    1.395719\n",
      "78   (GeogBks, ChildBks)              (ArtBks)              0.1950              0.2410   0.1020    0.523077  2.170444  0.055005    1.591452\n",
      "86            (DoItYBks)     (ArtBks, CookBks)              0.2820              0.1670   0.1015    0.359929  2.155264  0.054406    1.301418\n",
      "83     (ArtBks, CookBks)            (DoItYBks)              0.1670              0.2820   0.1015    0.607784  2.155264  0.054406    1.830626\n",
      "66   (CookBks, ChildBks)             (GeogBks)              0.2560              0.2760   0.1495    0.583984  2.115885  0.078844    1.740319\n",
      "67             (GeogBks)   (CookBks, ChildBks)              0.2760              0.2560   0.1495    0.541667  2.115885  0.078844    1.623273\n",
      "90   (DoItYBks, CookBks)             (GeogBks)              0.1875              0.2760   0.1085    0.578667  2.096618  0.056750    1.718354\n",
      "91             (GeogBks)   (DoItYBks, CookBks)              0.2760              0.1875   0.1085    0.393116  2.096618  0.056750    1.338806\n",
      "72  (DoItYBks, ChildBks)             (GeogBks)              0.1840              0.2760   0.1045    0.567935  2.057735  0.053716    1.675673\n",
      "73             (GeogBks)  (DoItYBks, ChildBks)              0.2760              0.1840   0.1045    0.378623  2.057735  0.053716    1.313213\n",
      "61              (ArtBks)   (CookBks, ChildBks)              0.2410              0.2560   0.1265    0.524896  2.050376  0.064804    1.565974\n",
      "60   (CookBks, ChildBks)              (ArtBks)              0.2560              0.2410   0.1265    0.494141  2.050376  0.064804    1.500417\n",
      "43            (YouthBks)   (CookBks, ChildBks)              0.2475              0.2560   0.1290    0.521212  2.035985  0.065640    1.553924\n",
      "42   (CookBks, ChildBks)            (YouthBks)              0.2560              0.2475   0.1290    0.503906  2.035985  0.065640    1.516850\n",
      "48   (CookBks, ChildBks)            (DoItYBks)              0.2560              0.2820   0.1460    0.570312  2.022385  0.073808    1.670982\n",
      "49            (DoItYBks)   (CookBks, ChildBks)              0.2820              0.2560   0.1460    0.517730  2.022385  0.073808    1.542706\n",
      "89    (GeogBks, CookBks)            (DoItYBks)              0.1925              0.2820   0.1085    0.563636  1.998711  0.054215    1.645417\n",
      "92            (DoItYBks)    (GeogBks, CookBks)              0.2820              0.1925   0.1085    0.384752  1.998711  0.054215    1.312478\n",
      "38              (ArtBks)             (GeogBks)              0.2410              0.2760   0.1275    0.529046  1.916832  0.060984    1.537304\n",
      "39             (GeogBks)              (ArtBks)              0.2760              0.2410   0.1275    0.461957  1.916832  0.060984    1.410667\n",
      "82    (ArtBks, DoItYBks)             (CookBks)              0.1235              0.4310   0.1015    0.821862  1.906873  0.048272    3.194159\n",
      "87             (CookBks)    (ArtBks, DoItYBks)              0.4310              0.1235   0.1015    0.235499  1.906873  0.048272    1.146499\n",
      "71   (GeogBks, ChildBks)            (DoItYBks)              0.1950              0.2820   0.1045    0.535897  1.900346  0.049510    1.547072\n",
      "74            (DoItYBks)   (GeogBks, ChildBks)              0.2820              0.1950   0.1045    0.370567  1.900346  0.049510    1.278930\n",
      "93             (CookBks)   (GeogBks, DoItYBks)              0.4310              0.1325   0.1085    0.251740  1.899926  0.051392    1.159357\n",
      "88   (GeogBks, DoItYBks)             (CookBks)              0.1325              0.4310   0.1085    0.818868  1.899926  0.051392    3.141354\n",
      "57            (ChildBks)     (RefBks, CookBks)              0.4230              0.1525   0.1225    0.289598  1.899004  0.057993    1.192987\n",
      "52     (RefBks, CookBks)            (ChildBks)              0.1525              0.4230   0.1225    0.803279  1.899004  0.057993    2.933083\n",
      "76     (ArtBks, GeogBks)            (ChildBks)              0.1275              0.4230   0.1020    0.800000  1.891253  0.048067    2.885000\n",
      "81            (ChildBks)     (ArtBks, GeogBks)              0.4230              0.1275   0.1020    0.241135  1.891253  0.048067    1.149743\n",
      "99             (CookBks)     (ArtBks, GeogBks)              0.4310              0.1275   0.1035    0.240139  1.883445  0.048547    1.148237\n",
      "94     (ArtBks, GeogBks)             (CookBks)              0.1275              0.4310   0.1035    0.811765  1.883445  0.048547    3.022812\n",
      "40   (YouthBks, CookBks)            (ChildBks)              0.1620              0.4230   0.1290    0.796296  1.882497  0.060474    2.832545\n",
      "45            (ChildBks)   (YouthBks, CookBks)              0.4230              0.1620   0.1290    0.304965  1.882497  0.060474    1.205694\n",
      "53    (RefBks, ChildBks)             (CookBks)              0.1515              0.4310   0.1225    0.808581  1.876058  0.057204    2.972534\n",
      "56             (CookBks)    (RefBks, ChildBks)              0.4310              0.1515   0.1225    0.284223  1.876058  0.057204    1.185425\n",
      "37             (GeogBks)              (RefBks)              0.2760              0.2145   0.1105    0.400362  1.866491  0.051298    1.309958\n",
      "36              (RefBks)             (GeogBks)              0.2145              0.2760   0.1105    0.515152  1.866491  0.051298    1.493250\n",
      "70   (GeogBks, DoItYBks)            (ChildBks)              0.1325              0.4230   0.1045    0.788679  1.864490  0.048452    2.730446\n",
      "75            (ChildBks)   (GeogBks, DoItYBks)              0.4230              0.1325   0.1045    0.247045  1.864490  0.048452    1.152127\n",
      "47  (DoItYBks, ChildBks)             (CookBks)              0.1840              0.4310   0.1460    0.793478  1.841017  0.066696    2.755158\n",
      "50             (CookBks)  (DoItYBks, ChildBks)              0.4310              0.1840   0.1460    0.338747  1.841017  0.066696    1.234021\n",
      "51            (ChildBks)   (DoItYBks, CookBks)              0.4230              0.1875   0.1460    0.345154  1.840820  0.066687    1.240749\n",
      "46   (DoItYBks, CookBks)            (ChildBks)              0.1875              0.4230   0.1460    0.778667  1.840820  0.066687    2.606928\n",
      "69            (ChildBks)    (GeogBks, CookBks)              0.4230              0.1925   0.1495    0.353428  1.835989  0.068072    1.248894\n",
      "64    (GeogBks, CookBks)            (ChildBks)              0.1925              0.4230   0.1495    0.776623  1.835989  0.068072    2.583081\n",
      "32              (ArtBks)            (DoItYBks)              0.2410              0.2820   0.1235    0.512448  1.817192  0.055538    1.472664\n",
      "33            (DoItYBks)              (ArtBks)              0.2820              0.2410   0.1235    0.437943  1.817192  0.055538    1.350397\n",
      "44             (CookBks)  (YouthBks, ChildBks)              0.4310              0.1650   0.1290    0.299304  1.813963  0.057885    1.191672\n",
      "41  (YouthBks, ChildBks)             (CookBks)              0.1650              0.4310   0.1290    0.781818  1.813963  0.057885    2.607917\n",
      "59    (ArtBks, ChildBks)             (CookBks)              0.1625              0.4310   0.1265    0.778462  1.806175  0.056462    2.568403\n",
      "62             (CookBks)    (ArtBks, ChildBks)              0.4310              0.1625   0.1265    0.293503  1.806175  0.056462    1.185427\n",
      "58     (ArtBks, CookBks)            (ChildBks)              0.1670              0.4230   0.1265    0.757485  1.790745  0.055859    2.379235\n",
      "63            (ChildBks)     (ArtBks, CookBks)              0.4230              0.1670   0.1265    0.299054  1.790745  0.055859    1.188395\n",
      "68             (CookBks)   (GeogBks, ChildBks)              0.4310              0.1950   0.1495    0.346868  1.778809  0.065455    1.232522\n",
      "65   (GeogBks, ChildBks)             (CookBks)              0.1950              0.4310   0.1495    0.766667  1.778809  0.065455    2.438571\n",
      "18            (YouthBks)             (GeogBks)              0.2475              0.2760   0.1205    0.486869  1.764017  0.052190    1.410945\n",
      "19             (GeogBks)            (YouthBks)              0.2760              0.2475   0.1205    0.436594  1.764017  0.052190    1.335627\n",
      "30              (RefBks)            (DoItYBks)              0.2145              0.2820   0.1055    0.491841  1.744119  0.045011    1.412945\n",
      "31            (DoItYBks)              (RefBks)              0.2820              0.2145   0.1055    0.374113  1.744119  0.045011    1.255020\n",
      "35            (DoItYBks)             (GeogBks)              0.2820              0.2760   0.1325    0.469858  1.702385  0.054668    1.365672\n",
      "34             (GeogBks)            (DoItYBks)              0.2760              0.2820   0.1325    0.480072  1.702385  0.054668    1.380962\n",
      "17              (ArtBks)            (YouthBks)              0.2410              0.2475   0.1010    0.419087  1.693281  0.041353    1.295375\n",
      "16            (YouthBks)              (ArtBks)              0.2475              0.2410   0.1010    0.408081  1.693281  0.041353    1.282270\n",
      "11            (ChildBks)             (GeogBks)              0.4230              0.2760   0.1950    0.460993  1.670264  0.078252    1.343211\n",
      "10             (GeogBks)            (ChildBks)              0.2760              0.4230   0.1950    0.706522  1.670264  0.078252    1.966074\n",
      "7             (ChildBks)              (RefBks)              0.4230              0.2145   0.1515    0.358156  1.669725  0.060767    1.223818\n",
      "6               (RefBks)            (ChildBks)              0.2145              0.4230   0.1515    0.706294  1.669725  0.060767    1.964548\n",
      "14            (YouthBks)            (DoItYBks)              0.2475              0.2820   0.1155    0.466667  1.654846  0.045705    1.346250\n",
      "15            (DoItYBks)            (YouthBks)              0.2820              0.2475   0.1155    0.409574  1.654846  0.045705    1.274505\n",
      "23             (CookBks)              (RefBks)              0.4310              0.2145   0.1525    0.353828  1.649549  0.060050    1.215621\n",
      "22              (RefBks)             (CookBks)              0.2145              0.4310   0.1525    0.710956  1.649549  0.060050    1.968556\n",
      "27             (CookBks)             (GeogBks)              0.4310              0.2760   0.1925    0.446636  1.618245  0.073544    1.308361\n",
      "26             (GeogBks)             (CookBks)              0.2760              0.4310   0.1925    0.697464  1.618245  0.073544    1.880766\n",
      "25             (CookBks)              (ArtBks)              0.4310              0.2410   0.1670    0.387471  1.607763  0.063129    1.239125\n",
      "24              (ArtBks)             (CookBks)              0.2410              0.4310   0.1670    0.692946  1.607763  0.063129    1.853095\n",
      "9             (ChildBks)              (ArtBks)              0.4230              0.2410   0.1625    0.384161  1.594028  0.060557    1.232464\n",
      "8               (ArtBks)            (ChildBks)              0.2410              0.4230   0.1625    0.674274  1.594028  0.060557    1.771427\n",
      "0             (YouthBks)            (ChildBks)              0.2475              0.4230   0.1650    0.666667  1.576044  0.060308    1.731000\n",
      "1             (ChildBks)            (YouthBks)              0.4230              0.2475   0.1650    0.390071  1.576044  0.060308    1.233750\n",
      "21             (CookBks)            (DoItYBks)              0.4310              0.2820   0.1875    0.435035  1.542677  0.065958    1.270875\n",
      "20            (DoItYBks)             (CookBks)              0.2820              0.4310   0.1875    0.664894  1.542677  0.065958    1.697968\n",
      "5             (ChildBks)            (DoItYBks)              0.4230              0.2820   0.1840    0.434988  1.542511  0.064714    1.270770\n",
      "4             (DoItYBks)            (ChildBks)              0.2820              0.4230   0.1840    0.652482  1.542511  0.064714    1.660347\n",
      "12            (YouthBks)             (CookBks)              0.2475              0.4310   0.1620    0.654545  1.518667  0.055328    1.647105\n",
      "13             (CookBks)            (YouthBks)              0.4310              0.2475   0.1620    0.375870  1.518667  0.055328    1.205678\n",
      "3             (ChildBks)             (CookBks)              0.4230              0.4310   0.2560    0.605201  1.404179  0.073687    1.441240\n",
      "2              (CookBks)            (ChildBks)              0.4310              0.4230   0.2560    0.593968  1.404179  0.073687    1.421069\n"
     ]
    },
    {
     "data": {
      "application/vnd.plotly.v1+json": {
       "config": {
        "plotlyServerURL": "https://plot.ly"
       },
       "data": [
        {
         "mode": "markers",
         "type": "scatter",
         "x": [
          0.1135,
          0.1135,
          0.102,
          0.102,
          0.1015,
          0.1015,
          0.1035,
          0.1035,
          0.1035,
          0.1035,
          0.1225,
          0.1225,
          0.102,
          0.102,
          0.1015,
          0.1015,
          0.1495,
          0.1495,
          0.1085,
          0.1085,
          0.1045,
          0.1045,
          0.1265,
          0.1265,
          0.129,
          0.129,
          0.146,
          0.146,
          0.1085,
          0.1085,
          0.1275,
          0.1275,
          0.1015,
          0.1015,
          0.1045,
          0.1045,
          0.1085,
          0.1085,
          0.1225,
          0.1225,
          0.102,
          0.102,
          0.1035,
          0.1035,
          0.129,
          0.129,
          0.1225,
          0.1225,
          0.1105,
          0.1105,
          0.1045,
          0.1045,
          0.146,
          0.146,
          0.146,
          0.146,
          0.1495,
          0.1495,
          0.1235,
          0.1235,
          0.129,
          0.129,
          0.1265,
          0.1265,
          0.1265,
          0.1265,
          0.1495,
          0.1495,
          0.1205,
          0.1205,
          0.1055,
          0.1055,
          0.1325,
          0.1325,
          0.101,
          0.101,
          0.195,
          0.195,
          0.1515,
          0.1515,
          0.1155,
          0.1155,
          0.1525,
          0.1525,
          0.1925,
          0.1925,
          0.167,
          0.167,
          0.1625,
          0.1625,
          0.165,
          0.165,
          0.1875,
          0.1875,
          0.184,
          0.184,
          0.162,
          0.162,
          0.256,
          0.256
         ],
         "y": [
          0.26334106728538287,
          1,
          0.6276923076923077,
          0.36956521739130427,
          0.42116182572614114,
          0.5413333333333333,
          0.6197604790419161,
          0.37499999999999994,
          0.42946058091286304,
          0.5376623376623376,
          0.478515625,
          0.5710955710955711,
          0.42323651452282157,
          0.523076923076923,
          0.35992907801418444,
          0.6077844311377245,
          0.583984375,
          0.5416666666666666,
          0.5786666666666667,
          0.3931159420289855,
          0.5679347826086957,
          0.37862318840579706,
          0.524896265560166,
          0.494140625,
          0.5212121212121212,
          0.50390625,
          0.5703125,
          0.5177304964539007,
          0.5636363636363636,
          0.3847517730496454,
          0.529045643153527,
          0.4619565217391304,
          0.8218623481781377,
          0.2354988399071926,
          0.5358974358974359,
          0.37056737588652483,
          0.2517401392111369,
          0.8188679245283018,
          0.28959810874704495,
          0.8032786885245902,
          0.7999999999999999,
          0.24113475177304963,
          0.24013921113689093,
          0.8117647058823528,
          0.7962962962962963,
          0.3049645390070922,
          0.8085808580858086,
          0.2842227378190255,
          0.40036231884057966,
          0.5151515151515151,
          0.7886792452830188,
          0.2470449172576832,
          0.7934782608695652,
          0.3387470997679814,
          0.34515366430260047,
          0.7786666666666666,
          0.3534278959810875,
          0.7766233766233765,
          0.512448132780083,
          0.43794326241134757,
          0.29930394431554525,
          0.7818181818181819,
          0.7784615384615384,
          0.29350348027842227,
          0.7574850299401197,
          0.2990543735224586,
          0.3468677494199536,
          0.7666666666666666,
          0.48686868686868684,
          0.43659420289855067,
          0.49184149184149184,
          0.374113475177305,
          0.4698581560283689,
          0.4800724637681159,
          0.41908713692946065,
          0.4080808080808081,
          0.4609929078014185,
          0.7065217391304347,
          0.35815602836879434,
          0.7062937062937062,
          0.4666666666666667,
          0.40957446808510645,
          0.3538283062645012,
          0.710955710955711,
          0.4466357308584687,
          0.697463768115942,
          0.3874709976798144,
          0.6929460580912864,
          0.38416075650118203,
          0.6742738589211619,
          0.6666666666666667,
          0.3900709219858156,
          0.43503480278422274,
          0.6648936170212767,
          0.43498817966903075,
          0.6524822695035462,
          0.6545454545454545,
          0.37587006960556846,
          0.6052009456264775,
          0.5939675174013921
         ]
        }
       ],
       "layout": {
        "autosize": false,
        "plot_bgcolor": "white",
        "template": {
         "data": {
          "bar": [
           {
            "error_x": {
             "color": "#2a3f5f"
            },
            "error_y": {
             "color": "#2a3f5f"
            },
            "marker": {
             "line": {
              "color": "#E5ECF6",
              "width": 0.5
             },
             "pattern": {
              "fillmode": "overlay",
              "size": 10,
              "solidity": 0.2
             }
            },
            "type": "bar"
           }
          ],
          "barpolar": [
           {
            "marker": {
             "line": {
              "color": "#E5ECF6",
              "width": 0.5
             },
             "pattern": {
              "fillmode": "overlay",
              "size": 10,
              "solidity": 0.2
             }
            },
            "type": "barpolar"
           }
          ],
          "carpet": [
           {
            "aaxis": {
             "endlinecolor": "#2a3f5f",
             "gridcolor": "white",
             "linecolor": "white",
             "minorgridcolor": "white",
             "startlinecolor": "#2a3f5f"
            },
            "baxis": {
             "endlinecolor": "#2a3f5f",
             "gridcolor": "white",
             "linecolor": "white",
             "minorgridcolor": "white",
             "startlinecolor": "#2a3f5f"
            },
            "type": "carpet"
           }
          ],
          "choropleth": [
           {
            "colorbar": {
             "outlinewidth": 0,
             "ticks": ""
            },
            "type": "choropleth"
           }
          ],
          "contour": [
           {
            "colorbar": {
             "outlinewidth": 0,
             "ticks": ""
            },
            "colorscale": [
             [
              0,
              "#0d0887"
             ],
             [
              0.1111111111111111,
              "#46039f"
             ],
             [
              0.2222222222222222,
              "#7201a8"
             ],
             [
              0.3333333333333333,
              "#9c179e"
             ],
             [
              0.4444444444444444,
              "#bd3786"
             ],
             [
              0.5555555555555556,
              "#d8576b"
             ],
             [
              0.6666666666666666,
              "#ed7953"
             ],
             [
              0.7777777777777778,
              "#fb9f3a"
             ],
             [
              0.8888888888888888,
              "#fdca26"
             ],
             [
              1,
              "#f0f921"
             ]
            ],
            "type": "contour"
           }
          ],
          "contourcarpet": [
           {
            "colorbar": {
             "outlinewidth": 0,
             "ticks": ""
            },
            "type": "contourcarpet"
           }
          ],
          "heatmap": [
           {
            "colorbar": {
             "outlinewidth": 0,
             "ticks": ""
            },
            "colorscale": [
             [
              0,
              "#0d0887"
             ],
             [
              0.1111111111111111,
              "#46039f"
             ],
             [
              0.2222222222222222,
              "#7201a8"
             ],
             [
              0.3333333333333333,
              "#9c179e"
             ],
             [
              0.4444444444444444,
              "#bd3786"
             ],
             [
              0.5555555555555556,
              "#d8576b"
             ],
             [
              0.6666666666666666,
              "#ed7953"
             ],
             [
              0.7777777777777778,
              "#fb9f3a"
             ],
             [
              0.8888888888888888,
              "#fdca26"
             ],
             [
              1,
              "#f0f921"
             ]
            ],
            "type": "heatmap"
           }
          ],
          "heatmapgl": [
           {
            "colorbar": {
             "outlinewidth": 0,
             "ticks": ""
            },
            "colorscale": [
             [
              0,
              "#0d0887"
             ],
             [
              0.1111111111111111,
              "#46039f"
             ],
             [
              0.2222222222222222,
              "#7201a8"
             ],
             [
              0.3333333333333333,
              "#9c179e"
             ],
             [
              0.4444444444444444,
              "#bd3786"
             ],
             [
              0.5555555555555556,
              "#d8576b"
             ],
             [
              0.6666666666666666,
              "#ed7953"
             ],
             [
              0.7777777777777778,
              "#fb9f3a"
             ],
             [
              0.8888888888888888,
              "#fdca26"
             ],
             [
              1,
              "#f0f921"
             ]
            ],
            "type": "heatmapgl"
           }
          ],
          "histogram": [
           {
            "marker": {
             "pattern": {
              "fillmode": "overlay",
              "size": 10,
              "solidity": 0.2
             }
            },
            "type": "histogram"
           }
          ],
          "histogram2d": [
           {
            "colorbar": {
             "outlinewidth": 0,
             "ticks": ""
            },
            "colorscale": [
             [
              0,
              "#0d0887"
             ],
             [
              0.1111111111111111,
              "#46039f"
             ],
             [
              0.2222222222222222,
              "#7201a8"
             ],
             [
              0.3333333333333333,
              "#9c179e"
             ],
             [
              0.4444444444444444,
              "#bd3786"
             ],
             [
              0.5555555555555556,
              "#d8576b"
             ],
             [
              0.6666666666666666,
              "#ed7953"
             ],
             [
              0.7777777777777778,
              "#fb9f3a"
             ],
             [
              0.8888888888888888,
              "#fdca26"
             ],
             [
              1,
              "#f0f921"
             ]
            ],
            "type": "histogram2d"
           }
          ],
          "histogram2dcontour": [
           {
            "colorbar": {
             "outlinewidth": 0,
             "ticks": ""
            },
            "colorscale": [
             [
              0,
              "#0d0887"
             ],
             [
              0.1111111111111111,
              "#46039f"
             ],
             [
              0.2222222222222222,
              "#7201a8"
             ],
             [
              0.3333333333333333,
              "#9c179e"
             ],
             [
              0.4444444444444444,
              "#bd3786"
             ],
             [
              0.5555555555555556,
              "#d8576b"
             ],
             [
              0.6666666666666666,
              "#ed7953"
             ],
             [
              0.7777777777777778,
              "#fb9f3a"
             ],
             [
              0.8888888888888888,
              "#fdca26"
             ],
             [
              1,
              "#f0f921"
             ]
            ],
            "type": "histogram2dcontour"
           }
          ],
          "mesh3d": [
           {
            "colorbar": {
             "outlinewidth": 0,
             "ticks": ""
            },
            "type": "mesh3d"
           }
          ],
          "parcoords": [
           {
            "line": {
             "colorbar": {
              "outlinewidth": 0,
              "ticks": ""
             }
            },
            "type": "parcoords"
           }
          ],
          "pie": [
           {
            "automargin": true,
            "type": "pie"
           }
          ],
          "scatter": [
           {
            "fillpattern": {
             "fillmode": "overlay",
             "size": 10,
             "solidity": 0.2
            },
            "type": "scatter"
           }
          ],
          "scatter3d": [
           {
            "line": {
             "colorbar": {
              "outlinewidth": 0,
              "ticks": ""
             }
            },
            "marker": {
             "colorbar": {
              "outlinewidth": 0,
              "ticks": ""
             }
            },
            "type": "scatter3d"
           }
          ],
          "scattercarpet": [
           {
            "marker": {
             "colorbar": {
              "outlinewidth": 0,
              "ticks": ""
             }
            },
            "type": "scattercarpet"
           }
          ],
          "scattergeo": [
           {
            "marker": {
             "colorbar": {
              "outlinewidth": 0,
              "ticks": ""
             }
            },
            "type": "scattergeo"
           }
          ],
          "scattergl": [
           {
            "marker": {
             "colorbar": {
              "outlinewidth": 0,
              "ticks": ""
             }
            },
            "type": "scattergl"
           }
          ],
          "scattermapbox": [
           {
            "marker": {
             "colorbar": {
              "outlinewidth": 0,
              "ticks": ""
             }
            },
            "type": "scattermapbox"
           }
          ],
          "scatterpolar": [
           {
            "marker": {
             "colorbar": {
              "outlinewidth": 0,
              "ticks": ""
             }
            },
            "type": "scatterpolar"
           }
          ],
          "scatterpolargl": [
           {
            "marker": {
             "colorbar": {
              "outlinewidth": 0,
              "ticks": ""
             }
            },
            "type": "scatterpolargl"
           }
          ],
          "scatterternary": [
           {
            "marker": {
             "colorbar": {
              "outlinewidth": 0,
              "ticks": ""
             }
            },
            "type": "scatterternary"
           }
          ],
          "surface": [
           {
            "colorbar": {
             "outlinewidth": 0,
             "ticks": ""
            },
            "colorscale": [
             [
              0,
              "#0d0887"
             ],
             [
              0.1111111111111111,
              "#46039f"
             ],
             [
              0.2222222222222222,
              "#7201a8"
             ],
             [
              0.3333333333333333,
              "#9c179e"
             ],
             [
              0.4444444444444444,
              "#bd3786"
             ],
             [
              0.5555555555555556,
              "#d8576b"
             ],
             [
              0.6666666666666666,
              "#ed7953"
             ],
             [
              0.7777777777777778,
              "#fb9f3a"
             ],
             [
              0.8888888888888888,
              "#fdca26"
             ],
             [
              1,
              "#f0f921"
             ]
            ],
            "type": "surface"
           }
          ],
          "table": [
           {
            "cells": {
             "fill": {
              "color": "#EBF0F8"
             },
             "line": {
              "color": "white"
             }
            },
            "header": {
             "fill": {
              "color": "#C8D4E3"
             },
             "line": {
              "color": "white"
             }
            },
            "type": "table"
           }
          ]
         },
         "layout": {
          "annotationdefaults": {
           "arrowcolor": "#2a3f5f",
           "arrowhead": 0,
           "arrowwidth": 1
          },
          "autotypenumbers": "strict",
          "coloraxis": {
           "colorbar": {
            "outlinewidth": 0,
            "ticks": ""
           }
          },
          "colorscale": {
           "diverging": [
            [
             0,
             "#8e0152"
            ],
            [
             0.1,
             "#c51b7d"
            ],
            [
             0.2,
             "#de77ae"
            ],
            [
             0.3,
             "#f1b6da"
            ],
            [
             0.4,
             "#fde0ef"
            ],
            [
             0.5,
             "#f7f7f7"
            ],
            [
             0.6,
             "#e6f5d0"
            ],
            [
             0.7,
             "#b8e186"
            ],
            [
             0.8,
             "#7fbc41"
            ],
            [
             0.9,
             "#4d9221"
            ],
            [
             1,
             "#276419"
            ]
           ],
           "sequential": [
            [
             0,
             "#0d0887"
            ],
            [
             0.1111111111111111,
             "#46039f"
            ],
            [
             0.2222222222222222,
             "#7201a8"
            ],
            [
             0.3333333333333333,
             "#9c179e"
            ],
            [
             0.4444444444444444,
             "#bd3786"
            ],
            [
             0.5555555555555556,
             "#d8576b"
            ],
            [
             0.6666666666666666,
             "#ed7953"
            ],
            [
             0.7777777777777778,
             "#fb9f3a"
            ],
            [
             0.8888888888888888,
             "#fdca26"
            ],
            [
             1,
             "#f0f921"
            ]
           ],
           "sequentialminus": [
            [
             0,
             "#0d0887"
            ],
            [
             0.1111111111111111,
             "#46039f"
            ],
            [
             0.2222222222222222,
             "#7201a8"
            ],
            [
             0.3333333333333333,
             "#9c179e"
            ],
            [
             0.4444444444444444,
             "#bd3786"
            ],
            [
             0.5555555555555556,
             "#d8576b"
            ],
            [
             0.6666666666666666,
             "#ed7953"
            ],
            [
             0.7777777777777778,
             "#fb9f3a"
            ],
            [
             0.8888888888888888,
             "#fdca26"
            ],
            [
             1,
             "#f0f921"
            ]
           ]
          },
          "colorway": [
           "#636efa",
           "#EF553B",
           "#00cc96",
           "#ab63fa",
           "#FFA15A",
           "#19d3f3",
           "#FF6692",
           "#B6E880",
           "#FF97FF",
           "#FECB52"
          ],
          "font": {
           "color": "#2a3f5f"
          },
          "geo": {
           "bgcolor": "white",
           "lakecolor": "white",
           "landcolor": "#E5ECF6",
           "showlakes": true,
           "showland": true,
           "subunitcolor": "white"
          },
          "hoverlabel": {
           "align": "left"
          },
          "hovermode": "closest",
          "mapbox": {
           "style": "light"
          },
          "paper_bgcolor": "white",
          "plot_bgcolor": "#E5ECF6",
          "polar": {
           "angularaxis": {
            "gridcolor": "white",
            "linecolor": "white",
            "ticks": ""
           },
           "bgcolor": "#E5ECF6",
           "radialaxis": {
            "gridcolor": "white",
            "linecolor": "white",
            "ticks": ""
           }
          },
          "scene": {
           "xaxis": {
            "backgroundcolor": "#E5ECF6",
            "gridcolor": "white",
            "gridwidth": 2,
            "linecolor": "white",
            "showbackground": true,
            "ticks": "",
            "zerolinecolor": "white"
           },
           "yaxis": {
            "backgroundcolor": "#E5ECF6",
            "gridcolor": "white",
            "gridwidth": 2,
            "linecolor": "white",
            "showbackground": true,
            "ticks": "",
            "zerolinecolor": "white"
           },
           "zaxis": {
            "backgroundcolor": "#E5ECF6",
            "gridcolor": "white",
            "gridwidth": 2,
            "linecolor": "white",
            "showbackground": true,
            "ticks": "",
            "zerolinecolor": "white"
           }
          },
          "shapedefaults": {
           "line": {
            "color": "#2a3f5f"
           }
          },
          "ternary": {
           "aaxis": {
            "gridcolor": "white",
            "linecolor": "white",
            "ticks": ""
           },
           "baxis": {
            "gridcolor": "white",
            "linecolor": "white",
            "ticks": ""
           },
           "bgcolor": "#E5ECF6",
           "caxis": {
            "gridcolor": "white",
            "linecolor": "white",
            "ticks": ""
           }
          },
          "title": {
           "x": 0.05
          },
          "xaxis": {
           "automargin": true,
           "gridcolor": "white",
           "linecolor": "white",
           "ticks": "",
           "title": {
            "standoff": 15
           },
           "zerolinecolor": "white",
           "zerolinewidth": 2
          },
          "yaxis": {
           "automargin": true,
           "gridcolor": "white",
           "linecolor": "white",
           "ticks": "",
           "title": {
            "standoff": 15
           },
           "zerolinecolor": "white",
           "zerolinewidth": 2
          }
         }
        },
        "title": {
         "text": "<b>support vs confidence</b>"
        },
        "xaxis": {
         "linecolor": "#373645",
         "title": {
          "text": "support"
         }
        },
        "yaxis": {
         "linecolor": "#373645",
         "title": {
          "text": "confidence"
         }
        }
       }
      }
     },
     "metadata": {},
     "output_type": "display_data"
    },
    {
     "data": {
      "application/vnd.plotly.v1+json": {
       "config": {
        "plotlyServerURL": "https://plot.ly"
       },
       "data": [
        {
         "mode": "markers",
         "type": "scatter",
         "x": [
          2.3201856148491884,
          2.320185614849188,
          2.274247491638796,
          2.2742474916387954,
          2.246196403872753,
          2.2461964038727524,
          2.2455089820359277,
          2.2455089820359277,
          2.2309640566901976,
          2.2309640566901976,
          2.2308420745920747,
          2.2308420745920743,
          2.1704436642195977,
          2.1704436642195977,
          2.1552639402046974,
          2.155263940204697,
          2.1158854166666665,
          2.1158854166666665,
          2.0966183574879227,
          2.0966183574879227,
          2.0577347195967235,
          2.057734719596723,
          2.050376037344398,
          2.050376037344398,
          2.0359848484848486,
          2.0359848484848486,
          2.0223847517730498,
          2.0223847517730493,
          1.9987105093488073,
          1.9987105093488073,
          1.9168320404113295,
          1.9168320404113295,
          1.90687319762909,
          1.9068731976290898,
          1.900345517366794,
          1.900345517366794,
          1.8999255789519767,
          1.8999255789519764,
          1.8990039917839012,
          1.8990039917839012,
          1.8912529550827422,
          1.8912529550827422,
          1.8834447932305172,
          1.883444793230517,
          1.8824971543647666,
          1.8824971543647666,
          1.8760576753731057,
          1.8760576753731057,
          1.8664909969257792,
          1.8664909969257792,
          1.8644899415674203,
          1.8644899415674203,
          1.8410168465651164,
          1.8410168465651162,
          1.8408195429472025,
          1.8408195429472025,
          1.8359890700316233,
          1.835989070031623,
          1.8171919602130606,
          1.8171919602130604,
          1.8139632988820924,
          1.8139632988820924,
          1.8061752632518293,
          1.8061752632518293,
          1.7907447516314887,
          1.7907447516314887,
          1.7788089713843773,
          1.7788089713843773,
          1.7640169814082856,
          1.7640169814082856,
          1.7441187653953614,
          1.7441187653953611,
          1.7023846232911914,
          1.7023846232911912,
          1.6932813613311541,
          1.693281361331154,
          1.6702641587007916,
          1.6702641587007914,
          1.6697250739803933,
          1.669725073980393,
          1.6548463356973997,
          1.6548463356973997,
          1.649549213354318,
          1.649549213354318,
          1.6182454016611183,
          1.6182454016611183,
          1.6077634758498525,
          1.6077634758498525,
          1.5940280352746143,
          1.5940280352746143,
          1.5760441292356189,
          1.5760441292356187,
          1.5426766056178114,
          1.5426766056178114,
          1.542511275422095,
          1.5425112754220949,
          1.5186669479012866,
          1.5186669479012866,
          1.4041785281356787,
          1.4041785281356787
         ],
         "y": [
          0.26334106728538287,
          1,
          0.6276923076923077,
          0.36956521739130427,
          0.42116182572614114,
          0.5413333333333333,
          0.6197604790419161,
          0.37499999999999994,
          0.42946058091286304,
          0.5376623376623376,
          0.478515625,
          0.5710955710955711,
          0.42323651452282157,
          0.523076923076923,
          0.35992907801418444,
          0.6077844311377245,
          0.583984375,
          0.5416666666666666,
          0.5786666666666667,
          0.3931159420289855,
          0.5679347826086957,
          0.37862318840579706,
          0.524896265560166,
          0.494140625,
          0.5212121212121212,
          0.50390625,
          0.5703125,
          0.5177304964539007,
          0.5636363636363636,
          0.3847517730496454,
          0.529045643153527,
          0.4619565217391304,
          0.8218623481781377,
          0.2354988399071926,
          0.5358974358974359,
          0.37056737588652483,
          0.2517401392111369,
          0.8188679245283018,
          0.28959810874704495,
          0.8032786885245902,
          0.7999999999999999,
          0.24113475177304963,
          0.24013921113689093,
          0.8117647058823528,
          0.7962962962962963,
          0.3049645390070922,
          0.8085808580858086,
          0.2842227378190255,
          0.40036231884057966,
          0.5151515151515151,
          0.7886792452830188,
          0.2470449172576832,
          0.7934782608695652,
          0.3387470997679814,
          0.34515366430260047,
          0.7786666666666666,
          0.3534278959810875,
          0.7766233766233765,
          0.512448132780083,
          0.43794326241134757,
          0.29930394431554525,
          0.7818181818181819,
          0.7784615384615384,
          0.29350348027842227,
          0.7574850299401197,
          0.2990543735224586,
          0.3468677494199536,
          0.7666666666666666,
          0.48686868686868684,
          0.43659420289855067,
          0.49184149184149184,
          0.374113475177305,
          0.4698581560283689,
          0.4800724637681159,
          0.41908713692946065,
          0.4080808080808081,
          0.4609929078014185,
          0.7065217391304347,
          0.35815602836879434,
          0.7062937062937062,
          0.4666666666666667,
          0.40957446808510645,
          0.3538283062645012,
          0.710955710955711,
          0.4466357308584687,
          0.697463768115942,
          0.3874709976798144,
          0.6929460580912864,
          0.38416075650118203,
          0.6742738589211619,
          0.6666666666666667,
          0.3900709219858156,
          0.43503480278422274,
          0.6648936170212767,
          0.43498817966903075,
          0.6524822695035462,
          0.6545454545454545,
          0.37587006960556846,
          0.6052009456264775,
          0.5939675174013921
         ]
        }
       ],
       "layout": {
        "autosize": false,
        "plot_bgcolor": "white",
        "template": {
         "data": {
          "bar": [
           {
            "error_x": {
             "color": "#2a3f5f"
            },
            "error_y": {
             "color": "#2a3f5f"
            },
            "marker": {
             "line": {
              "color": "#E5ECF6",
              "width": 0.5
             },
             "pattern": {
              "fillmode": "overlay",
              "size": 10,
              "solidity": 0.2
             }
            },
            "type": "bar"
           }
          ],
          "barpolar": [
           {
            "marker": {
             "line": {
              "color": "#E5ECF6",
              "width": 0.5
             },
             "pattern": {
              "fillmode": "overlay",
              "size": 10,
              "solidity": 0.2
             }
            },
            "type": "barpolar"
           }
          ],
          "carpet": [
           {
            "aaxis": {
             "endlinecolor": "#2a3f5f",
             "gridcolor": "white",
             "linecolor": "white",
             "minorgridcolor": "white",
             "startlinecolor": "#2a3f5f"
            },
            "baxis": {
             "endlinecolor": "#2a3f5f",
             "gridcolor": "white",
             "linecolor": "white",
             "minorgridcolor": "white",
             "startlinecolor": "#2a3f5f"
            },
            "type": "carpet"
           }
          ],
          "choropleth": [
           {
            "colorbar": {
             "outlinewidth": 0,
             "ticks": ""
            },
            "type": "choropleth"
           }
          ],
          "contour": [
           {
            "colorbar": {
             "outlinewidth": 0,
             "ticks": ""
            },
            "colorscale": [
             [
              0,
              "#0d0887"
             ],
             [
              0.1111111111111111,
              "#46039f"
             ],
             [
              0.2222222222222222,
              "#7201a8"
             ],
             [
              0.3333333333333333,
              "#9c179e"
             ],
             [
              0.4444444444444444,
              "#bd3786"
             ],
             [
              0.5555555555555556,
              "#d8576b"
             ],
             [
              0.6666666666666666,
              "#ed7953"
             ],
             [
              0.7777777777777778,
              "#fb9f3a"
             ],
             [
              0.8888888888888888,
              "#fdca26"
             ],
             [
              1,
              "#f0f921"
             ]
            ],
            "type": "contour"
           }
          ],
          "contourcarpet": [
           {
            "colorbar": {
             "outlinewidth": 0,
             "ticks": ""
            },
            "type": "contourcarpet"
           }
          ],
          "heatmap": [
           {
            "colorbar": {
             "outlinewidth": 0,
             "ticks": ""
            },
            "colorscale": [
             [
              0,
              "#0d0887"
             ],
             [
              0.1111111111111111,
              "#46039f"
             ],
             [
              0.2222222222222222,
              "#7201a8"
             ],
             [
              0.3333333333333333,
              "#9c179e"
             ],
             [
              0.4444444444444444,
              "#bd3786"
             ],
             [
              0.5555555555555556,
              "#d8576b"
             ],
             [
              0.6666666666666666,
              "#ed7953"
             ],
             [
              0.7777777777777778,
              "#fb9f3a"
             ],
             [
              0.8888888888888888,
              "#fdca26"
             ],
             [
              1,
              "#f0f921"
             ]
            ],
            "type": "heatmap"
           }
          ],
          "heatmapgl": [
           {
            "colorbar": {
             "outlinewidth": 0,
             "ticks": ""
            },
            "colorscale": [
             [
              0,
              "#0d0887"
             ],
             [
              0.1111111111111111,
              "#46039f"
             ],
             [
              0.2222222222222222,
              "#7201a8"
             ],
             [
              0.3333333333333333,
              "#9c179e"
             ],
             [
              0.4444444444444444,
              "#bd3786"
             ],
             [
              0.5555555555555556,
              "#d8576b"
             ],
             [
              0.6666666666666666,
              "#ed7953"
             ],
             [
              0.7777777777777778,
              "#fb9f3a"
             ],
             [
              0.8888888888888888,
              "#fdca26"
             ],
             [
              1,
              "#f0f921"
             ]
            ],
            "type": "heatmapgl"
           }
          ],
          "histogram": [
           {
            "marker": {
             "pattern": {
              "fillmode": "overlay",
              "size": 10,
              "solidity": 0.2
             }
            },
            "type": "histogram"
           }
          ],
          "histogram2d": [
           {
            "colorbar": {
             "outlinewidth": 0,
             "ticks": ""
            },
            "colorscale": [
             [
              0,
              "#0d0887"
             ],
             [
              0.1111111111111111,
              "#46039f"
             ],
             [
              0.2222222222222222,
              "#7201a8"
             ],
             [
              0.3333333333333333,
              "#9c179e"
             ],
             [
              0.4444444444444444,
              "#bd3786"
             ],
             [
              0.5555555555555556,
              "#d8576b"
             ],
             [
              0.6666666666666666,
              "#ed7953"
             ],
             [
              0.7777777777777778,
              "#fb9f3a"
             ],
             [
              0.8888888888888888,
              "#fdca26"
             ],
             [
              1,
              "#f0f921"
             ]
            ],
            "type": "histogram2d"
           }
          ],
          "histogram2dcontour": [
           {
            "colorbar": {
             "outlinewidth": 0,
             "ticks": ""
            },
            "colorscale": [
             [
              0,
              "#0d0887"
             ],
             [
              0.1111111111111111,
              "#46039f"
             ],
             [
              0.2222222222222222,
              "#7201a8"
             ],
             [
              0.3333333333333333,
              "#9c179e"
             ],
             [
              0.4444444444444444,
              "#bd3786"
             ],
             [
              0.5555555555555556,
              "#d8576b"
             ],
             [
              0.6666666666666666,
              "#ed7953"
             ],
             [
              0.7777777777777778,
              "#fb9f3a"
             ],
             [
              0.8888888888888888,
              "#fdca26"
             ],
             [
              1,
              "#f0f921"
             ]
            ],
            "type": "histogram2dcontour"
           }
          ],
          "mesh3d": [
           {
            "colorbar": {
             "outlinewidth": 0,
             "ticks": ""
            },
            "type": "mesh3d"
           }
          ],
          "parcoords": [
           {
            "line": {
             "colorbar": {
              "outlinewidth": 0,
              "ticks": ""
             }
            },
            "type": "parcoords"
           }
          ],
          "pie": [
           {
            "automargin": true,
            "type": "pie"
           }
          ],
          "scatter": [
           {
            "fillpattern": {
             "fillmode": "overlay",
             "size": 10,
             "solidity": 0.2
            },
            "type": "scatter"
           }
          ],
          "scatter3d": [
           {
            "line": {
             "colorbar": {
              "outlinewidth": 0,
              "ticks": ""
             }
            },
            "marker": {
             "colorbar": {
              "outlinewidth": 0,
              "ticks": ""
             }
            },
            "type": "scatter3d"
           }
          ],
          "scattercarpet": [
           {
            "marker": {
             "colorbar": {
              "outlinewidth": 0,
              "ticks": ""
             }
            },
            "type": "scattercarpet"
           }
          ],
          "scattergeo": [
           {
            "marker": {
             "colorbar": {
              "outlinewidth": 0,
              "ticks": ""
             }
            },
            "type": "scattergeo"
           }
          ],
          "scattergl": [
           {
            "marker": {
             "colorbar": {
              "outlinewidth": 0,
              "ticks": ""
             }
            },
            "type": "scattergl"
           }
          ],
          "scattermapbox": [
           {
            "marker": {
             "colorbar": {
              "outlinewidth": 0,
              "ticks": ""
             }
            },
            "type": "scattermapbox"
           }
          ],
          "scatterpolar": [
           {
            "marker": {
             "colorbar": {
              "outlinewidth": 0,
              "ticks": ""
             }
            },
            "type": "scatterpolar"
           }
          ],
          "scatterpolargl": [
           {
            "marker": {
             "colorbar": {
              "outlinewidth": 0,
              "ticks": ""
             }
            },
            "type": "scatterpolargl"
           }
          ],
          "scatterternary": [
           {
            "marker": {
             "colorbar": {
              "outlinewidth": 0,
              "ticks": ""
             }
            },
            "type": "scatterternary"
           }
          ],
          "surface": [
           {
            "colorbar": {
             "outlinewidth": 0,
             "ticks": ""
            },
            "colorscale": [
             [
              0,
              "#0d0887"
             ],
             [
              0.1111111111111111,
              "#46039f"
             ],
             [
              0.2222222222222222,
              "#7201a8"
             ],
             [
              0.3333333333333333,
              "#9c179e"
             ],
             [
              0.4444444444444444,
              "#bd3786"
             ],
             [
              0.5555555555555556,
              "#d8576b"
             ],
             [
              0.6666666666666666,
              "#ed7953"
             ],
             [
              0.7777777777777778,
              "#fb9f3a"
             ],
             [
              0.8888888888888888,
              "#fdca26"
             ],
             [
              1,
              "#f0f921"
             ]
            ],
            "type": "surface"
           }
          ],
          "table": [
           {
            "cells": {
             "fill": {
              "color": "#EBF0F8"
             },
             "line": {
              "color": "white"
             }
            },
            "header": {
             "fill": {
              "color": "#C8D4E3"
             },
             "line": {
              "color": "white"
             }
            },
            "type": "table"
           }
          ]
         },
         "layout": {
          "annotationdefaults": {
           "arrowcolor": "#2a3f5f",
           "arrowhead": 0,
           "arrowwidth": 1
          },
          "autotypenumbers": "strict",
          "coloraxis": {
           "colorbar": {
            "outlinewidth": 0,
            "ticks": ""
           }
          },
          "colorscale": {
           "diverging": [
            [
             0,
             "#8e0152"
            ],
            [
             0.1,
             "#c51b7d"
            ],
            [
             0.2,
             "#de77ae"
            ],
            [
             0.3,
             "#f1b6da"
            ],
            [
             0.4,
             "#fde0ef"
            ],
            [
             0.5,
             "#f7f7f7"
            ],
            [
             0.6,
             "#e6f5d0"
            ],
            [
             0.7,
             "#b8e186"
            ],
            [
             0.8,
             "#7fbc41"
            ],
            [
             0.9,
             "#4d9221"
            ],
            [
             1,
             "#276419"
            ]
           ],
           "sequential": [
            [
             0,
             "#0d0887"
            ],
            [
             0.1111111111111111,
             "#46039f"
            ],
            [
             0.2222222222222222,
             "#7201a8"
            ],
            [
             0.3333333333333333,
             "#9c179e"
            ],
            [
             0.4444444444444444,
             "#bd3786"
            ],
            [
             0.5555555555555556,
             "#d8576b"
            ],
            [
             0.6666666666666666,
             "#ed7953"
            ],
            [
             0.7777777777777778,
             "#fb9f3a"
            ],
            [
             0.8888888888888888,
             "#fdca26"
            ],
            [
             1,
             "#f0f921"
            ]
           ],
           "sequentialminus": [
            [
             0,
             "#0d0887"
            ],
            [
             0.1111111111111111,
             "#46039f"
            ],
            [
             0.2222222222222222,
             "#7201a8"
            ],
            [
             0.3333333333333333,
             "#9c179e"
            ],
            [
             0.4444444444444444,
             "#bd3786"
            ],
            [
             0.5555555555555556,
             "#d8576b"
            ],
            [
             0.6666666666666666,
             "#ed7953"
            ],
            [
             0.7777777777777778,
             "#fb9f3a"
            ],
            [
             0.8888888888888888,
             "#fdca26"
            ],
            [
             1,
             "#f0f921"
            ]
           ]
          },
          "colorway": [
           "#636efa",
           "#EF553B",
           "#00cc96",
           "#ab63fa",
           "#FFA15A",
           "#19d3f3",
           "#FF6692",
           "#B6E880",
           "#FF97FF",
           "#FECB52"
          ],
          "font": {
           "color": "#2a3f5f"
          },
          "geo": {
           "bgcolor": "white",
           "lakecolor": "white",
           "landcolor": "#E5ECF6",
           "showlakes": true,
           "showland": true,
           "subunitcolor": "white"
          },
          "hoverlabel": {
           "align": "left"
          },
          "hovermode": "closest",
          "mapbox": {
           "style": "light"
          },
          "paper_bgcolor": "white",
          "plot_bgcolor": "#E5ECF6",
          "polar": {
           "angularaxis": {
            "gridcolor": "white",
            "linecolor": "white",
            "ticks": ""
           },
           "bgcolor": "#E5ECF6",
           "radialaxis": {
            "gridcolor": "white",
            "linecolor": "white",
            "ticks": ""
           }
          },
          "scene": {
           "xaxis": {
            "backgroundcolor": "#E5ECF6",
            "gridcolor": "white",
            "gridwidth": 2,
            "linecolor": "white",
            "showbackground": true,
            "ticks": "",
            "zerolinecolor": "white"
           },
           "yaxis": {
            "backgroundcolor": "#E5ECF6",
            "gridcolor": "white",
            "gridwidth": 2,
            "linecolor": "white",
            "showbackground": true,
            "ticks": "",
            "zerolinecolor": "white"
           },
           "zaxis": {
            "backgroundcolor": "#E5ECF6",
            "gridcolor": "white",
            "gridwidth": 2,
            "linecolor": "white",
            "showbackground": true,
            "ticks": "",
            "zerolinecolor": "white"
           }
          },
          "shapedefaults": {
           "line": {
            "color": "#2a3f5f"
           }
          },
          "ternary": {
           "aaxis": {
            "gridcolor": "white",
            "linecolor": "white",
            "ticks": ""
           },
           "baxis": {
            "gridcolor": "white",
            "linecolor": "white",
            "ticks": ""
           },
           "bgcolor": "#E5ECF6",
           "caxis": {
            "gridcolor": "white",
            "linecolor": "white",
            "ticks": ""
           }
          },
          "title": {
           "x": 0.05
          },
          "xaxis": {
           "automargin": true,
           "gridcolor": "white",
           "linecolor": "white",
           "ticks": "",
           "title": {
            "standoff": 15
           },
           "zerolinecolor": "white",
           "zerolinewidth": 2
          },
          "yaxis": {
           "automargin": true,
           "gridcolor": "white",
           "linecolor": "white",
           "ticks": "",
           "title": {
            "standoff": 15
           },
           "zerolinecolor": "white",
           "zerolinewidth": 2
          }
         }
        },
        "title": {
         "text": "<b>lift vs confidence</b>"
        },
        "xaxis": {
         "linecolor": "#373645",
         "title": {
          "text": "lift"
         }
        },
        "yaxis": {
         "linecolor": "#373645",
         "title": {
          "text": "confidence"
         }
        }
       }
      }
     },
     "metadata": {},
     "output_type": "display_data"
    },
    {
     "data": {
      "text/html": [
       "<style type=\"text/css\">\n",
       "#T_a107a_row0_col0, #T_a107a_row0_col2, #T_a107a_row0_col3, #T_a107a_row0_col4, #T_a107a_row0_col7, #T_a107a_row0_col8, #T_a107a_row0_col9, #T_a107a_row0_col10, #T_a107a_row0_col11, #T_a107a_row0_col13, #T_a107a_row0_col18, #T_a107a_row0_col20, #T_a107a_row0_col21, #T_a107a_row5_col1, #T_a107a_row5_col5, #T_a107a_row5_col6, #T_a107a_row5_col9, #T_a107a_row5_col14, #T_a107a_row5_col15, #T_a107a_row5_col16, #T_a107a_row5_col17, #T_a107a_row5_col19, #T_a107a_row9_col12 {\n",
       "  background-color: #f7fcf5;\n",
       "  color: #000000;\n",
       "}\n",
       "#T_a107a_row0_col1, #T_a107a_row0_col5, #T_a107a_row1_col0, #T_a107a_row1_col1, #T_a107a_row1_col5, #T_a107a_row1_col7, #T_a107a_row1_col20, #T_a107a_row1_col21, #T_a107a_row2_col0, #T_a107a_row2_col1, #T_a107a_row2_col5, #T_a107a_row2_col7, #T_a107a_row2_col20, #T_a107a_row2_col21, #T_a107a_row3_col0, #T_a107a_row3_col1, #T_a107a_row3_col5, #T_a107a_row3_col7, #T_a107a_row3_col20, #T_a107a_row3_col21, #T_a107a_row4_col0, #T_a107a_row4_col1, #T_a107a_row4_col5, #T_a107a_row4_col7, #T_a107a_row4_col20, #T_a107a_row4_col21, #T_a107a_row5_col0, #T_a107a_row5_col7, #T_a107a_row5_col20, #T_a107a_row5_col21, #T_a107a_row6_col0, #T_a107a_row6_col1, #T_a107a_row6_col5, #T_a107a_row6_col7, #T_a107a_row6_col20, #T_a107a_row6_col21, #T_a107a_row7_col0, #T_a107a_row7_col1, #T_a107a_row7_col5, #T_a107a_row7_col7, #T_a107a_row7_col20, #T_a107a_row7_col21, #T_a107a_row8_col0, #T_a107a_row8_col1, #T_a107a_row8_col5, #T_a107a_row8_col7, #T_a107a_row8_col20, #T_a107a_row8_col21, #T_a107a_row9_col0, #T_a107a_row9_col1, #T_a107a_row9_col5, #T_a107a_row9_col7, #T_a107a_row9_col20, #T_a107a_row9_col21, #T_a107a_row10_col0, #T_a107a_row10_col1, #T_a107a_row10_col5, #T_a107a_row10_col7, #T_a107a_row10_col20, #T_a107a_row10_col21, #T_a107a_row11_col0, #T_a107a_row11_col1, #T_a107a_row11_col5, #T_a107a_row11_col7, #T_a107a_row11_col20, #T_a107a_row11_col21, #T_a107a_row12_col0, #T_a107a_row12_col1, #T_a107a_row12_col5, #T_a107a_row12_col7, #T_a107a_row12_col20, #T_a107a_row12_col21, #T_a107a_row13_col0, #T_a107a_row13_col1, #T_a107a_row13_col5, #T_a107a_row13_col7, #T_a107a_row13_col20, #T_a107a_row13_col21, #T_a107a_row14_col0, #T_a107a_row14_col1, #T_a107a_row14_col5, #T_a107a_row14_col7, #T_a107a_row14_col20, #T_a107a_row14_col21, #T_a107a_row15_col0, #T_a107a_row15_col1, #T_a107a_row15_col5, #T_a107a_row15_col7, #T_a107a_row15_col20, #T_a107a_row15_col21, #T_a107a_row16_col0, #T_a107a_row16_col1, #T_a107a_row16_col5, #T_a107a_row16_col7, #T_a107a_row16_col20, #T_a107a_row16_col21, #T_a107a_row17_col0, #T_a107a_row17_col1, #T_a107a_row17_col5, #T_a107a_row17_col7, #T_a107a_row17_col20, #T_a107a_row17_col21, #T_a107a_row18_col0, #T_a107a_row18_col1, #T_a107a_row18_col5, #T_a107a_row18_col7, #T_a107a_row18_col20, #T_a107a_row18_col21, #T_a107a_row19_col0, #T_a107a_row19_col1, #T_a107a_row19_col5, #T_a107a_row19_col7, #T_a107a_row19_col20, #T_a107a_row19_col21, #T_a107a_row20_col0, #T_a107a_row20_col1, #T_a107a_row20_col5, #T_a107a_row20_col7, #T_a107a_row20_col20, #T_a107a_row20_col21, #T_a107a_row21_col0, #T_a107a_row21_col1, #T_a107a_row21_col5, #T_a107a_row21_col7, #T_a107a_row21_col20, #T_a107a_row21_col21 {\n",
       "  background-color: #f7fcf5;\n",
       "  color: #000000;\n",
       "  background-color: #000000;\n",
       "}\n",
       "#T_a107a_row0_col6, #T_a107a_row2_col10, #T_a107a_row2_col16, #T_a107a_row2_col18, #T_a107a_row4_col4, #T_a107a_row5_col3, #T_a107a_row12_col12, #T_a107a_row13_col8, #T_a107a_row13_col13, #T_a107a_row15_col9, #T_a107a_row16_col15, #T_a107a_row17_col11, #T_a107a_row17_col14, #T_a107a_row17_col17, #T_a107a_row18_col2, #T_a107a_row19_col19 {\n",
       "  background-color: #00441b;\n",
       "  color: #f1f1f1;\n",
       "}\n",
       "#T_a107a_row0_col12, #T_a107a_row0_col14, #T_a107a_row0_col16, #T_a107a_row0_col17, #T_a107a_row0_col19, #T_a107a_row1_col2, #T_a107a_row1_col3, #T_a107a_row1_col6, #T_a107a_row1_col8, #T_a107a_row1_col9, #T_a107a_row1_col10, #T_a107a_row1_col11, #T_a107a_row1_col12, #T_a107a_row1_col13, #T_a107a_row1_col14, #T_a107a_row1_col15, #T_a107a_row1_col16, #T_a107a_row1_col17, #T_a107a_row1_col18, #T_a107a_row1_col19, #T_a107a_row2_col2, #T_a107a_row2_col3, #T_a107a_row2_col6, #T_a107a_row2_col11, #T_a107a_row2_col14, #T_a107a_row3_col2, #T_a107a_row3_col3, #T_a107a_row3_col6, #T_a107a_row3_col8, #T_a107a_row3_col9, #T_a107a_row3_col10, #T_a107a_row3_col11, #T_a107a_row3_col12, #T_a107a_row3_col13, #T_a107a_row3_col14, #T_a107a_row3_col15, #T_a107a_row3_col16, #T_a107a_row3_col17, #T_a107a_row3_col18, #T_a107a_row4_col2, #T_a107a_row4_col3, #T_a107a_row4_col6, #T_a107a_row4_col8, #T_a107a_row4_col9, #T_a107a_row4_col10, #T_a107a_row4_col11, #T_a107a_row4_col12, #T_a107a_row4_col13, #T_a107a_row4_col14, #T_a107a_row4_col15, #T_a107a_row4_col16, #T_a107a_row4_col17, #T_a107a_row4_col18, #T_a107a_row4_col19, #T_a107a_row5_col4, #T_a107a_row5_col10, #T_a107a_row5_col11, #T_a107a_row5_col12, #T_a107a_row5_col18, #T_a107a_row6_col2, #T_a107a_row6_col3, #T_a107a_row6_col6, #T_a107a_row6_col8, #T_a107a_row6_col9, #T_a107a_row6_col10, #T_a107a_row6_col11, #T_a107a_row6_col12, #T_a107a_row6_col13, #T_a107a_row6_col14, #T_a107a_row6_col15, #T_a107a_row6_col16, #T_a107a_row6_col17, #T_a107a_row6_col18, #T_a107a_row7_col2, #T_a107a_row7_col3, #T_a107a_row7_col4, #T_a107a_row7_col6, #T_a107a_row7_col8, #T_a107a_row7_col9, #T_a107a_row7_col10, #T_a107a_row7_col11, #T_a107a_row7_col12, #T_a107a_row7_col13, #T_a107a_row7_col14, #T_a107a_row7_col15, #T_a107a_row7_col16, #T_a107a_row7_col17, #T_a107a_row7_col18, #T_a107a_row8_col3, #T_a107a_row8_col6, #T_a107a_row8_col8, #T_a107a_row8_col10, #T_a107a_row8_col11, #T_a107a_row8_col13, #T_a107a_row8_col14, #T_a107a_row8_col16, #T_a107a_row8_col17, #T_a107a_row8_col18, #T_a107a_row9_col3, #T_a107a_row9_col6, #T_a107a_row9_col9, #T_a107a_row9_col10, #T_a107a_row9_col17, #T_a107a_row9_col18, #T_a107a_row10_col3, #T_a107a_row10_col4, #T_a107a_row10_col6, #T_a107a_row10_col8, #T_a107a_row10_col9, #T_a107a_row10_col10, #T_a107a_row10_col11, #T_a107a_row10_col12, #T_a107a_row10_col13, #T_a107a_row10_col14, #T_a107a_row10_col15, #T_a107a_row10_col16, #T_a107a_row10_col17, #T_a107a_row10_col18, #T_a107a_row11_col2, #T_a107a_row11_col3, #T_a107a_row11_col4, #T_a107a_row11_col6, #T_a107a_row11_col8, #T_a107a_row11_col10, #T_a107a_row11_col11, #T_a107a_row11_col12, #T_a107a_row11_col13, #T_a107a_row11_col14, #T_a107a_row11_col16, #T_a107a_row11_col17, #T_a107a_row11_col18, #T_a107a_row12_col3, #T_a107a_row12_col6, #T_a107a_row12_col8, #T_a107a_row12_col10, #T_a107a_row12_col11, #T_a107a_row12_col13, #T_a107a_row12_col14, #T_a107a_row12_col15, #T_a107a_row12_col16, #T_a107a_row12_col17, #T_a107a_row12_col18, #T_a107a_row13_col3, #T_a107a_row13_col4, #T_a107a_row13_col6, #T_a107a_row13_col10, #T_a107a_row13_col11, #T_a107a_row13_col12, #T_a107a_row13_col14, #T_a107a_row13_col16, #T_a107a_row13_col17, #T_a107a_row13_col18, #T_a107a_row13_col19, #T_a107a_row14_col2, #T_a107a_row14_col3, #T_a107a_row14_col6, #T_a107a_row14_col8, #T_a107a_row14_col10, #T_a107a_row14_col11, #T_a107a_row14_col12, #T_a107a_row14_col13, #T_a107a_row14_col14, #T_a107a_row14_col16, #T_a107a_row14_col17, #T_a107a_row14_col18, #T_a107a_row14_col19, #T_a107a_row15_col3, #T_a107a_row15_col6, #T_a107a_row15_col8, #T_a107a_row15_col10, #T_a107a_row15_col11, #T_a107a_row15_col12, #T_a107a_row15_col13, #T_a107a_row15_col14, #T_a107a_row15_col15, #T_a107a_row15_col16, #T_a107a_row15_col17, #T_a107a_row15_col18, #T_a107a_row15_col19, #T_a107a_row16_col3, #T_a107a_row16_col6, #T_a107a_row16_col8, #T_a107a_row16_col9, #T_a107a_row16_col10, #T_a107a_row16_col11, #T_a107a_row16_col12, #T_a107a_row16_col13, #T_a107a_row16_col14, #T_a107a_row16_col16, #T_a107a_row16_col17, #T_a107a_row16_col18, #T_a107a_row16_col19, #T_a107a_row17_col3, #T_a107a_row17_col6, #T_a107a_row17_col10, #T_a107a_row17_col13, #T_a107a_row17_col15, #T_a107a_row17_col16, #T_a107a_row17_col18, #T_a107a_row18_col3, #T_a107a_row18_col4, #T_a107a_row18_col6, #T_a107a_row18_col8, #T_a107a_row18_col9, #T_a107a_row18_col10, #T_a107a_row18_col11, #T_a107a_row18_col12, #T_a107a_row18_col13, #T_a107a_row18_col14, #T_a107a_row18_col15, #T_a107a_row18_col16, #T_a107a_row18_col17, #T_a107a_row18_col18, #T_a107a_row19_col2, #T_a107a_row19_col3, #T_a107a_row19_col4, #T_a107a_row19_col6, #T_a107a_row19_col8, #T_a107a_row19_col9, #T_a107a_row19_col10, #T_a107a_row19_col11, #T_a107a_row19_col12, #T_a107a_row19_col13, #T_a107a_row19_col14, #T_a107a_row19_col15, #T_a107a_row19_col16, #T_a107a_row19_col17, #T_a107a_row19_col18, #T_a107a_row20_col2, #T_a107a_row20_col3, #T_a107a_row20_col4, #T_a107a_row20_col6, #T_a107a_row20_col8, #T_a107a_row20_col9, #T_a107a_row20_col10, #T_a107a_row20_col11, #T_a107a_row20_col12, #T_a107a_row20_col13, #T_a107a_row20_col14, #T_a107a_row20_col15, #T_a107a_row20_col16, #T_a107a_row20_col17, #T_a107a_row20_col18, #T_a107a_row21_col2, #T_a107a_row21_col3, #T_a107a_row21_col4, #T_a107a_row21_col6, #T_a107a_row21_col8, #T_a107a_row21_col9, #T_a107a_row21_col10, #T_a107a_row21_col11, #T_a107a_row21_col12, #T_a107a_row21_col13, #T_a107a_row21_col14, #T_a107a_row21_col15, #T_a107a_row21_col16, #T_a107a_row21_col17, #T_a107a_row21_col18 {\n",
       "  background-color: #000000;\n",
       "  color: #f1f1f1;\n",
       "  background-color: #000000;\n",
       "}\n",
       "#T_a107a_row0_col15 {\n",
       "  background-color: #f4fbf2;\n",
       "  color: #000000;\n",
       "}\n",
       "#T_a107a_row1_col4 {\n",
       "  background-color: #004e1f;\n",
       "  color: #f1f1f1;\n",
       "}\n",
       "#T_a107a_row2_col4, #T_a107a_row12_col4 {\n",
       "  background-color: #65bd6f;\n",
       "  color: #f1f1f1;\n",
       "}\n",
       "#T_a107a_row2_col8 {\n",
       "  background-color: #7dc87e;\n",
       "  color: #000000;\n",
       "}\n",
       "#T_a107a_row2_col9 {\n",
       "  background-color: #c4e8bd;\n",
       "  color: #000000;\n",
       "}\n",
       "#T_a107a_row2_col12, #T_a107a_row17_col9, #T_a107a_row21_col19 {\n",
       "  background-color: #87cd86;\n",
       "  color: #000000;\n",
       "}\n",
       "#T_a107a_row2_col13 {\n",
       "  background-color: #a2d99c;\n",
       "  color: #000000;\n",
       "}\n",
       "#T_a107a_row2_col15 {\n",
       "  background-color: #76c578;\n",
       "  color: #000000;\n",
       "}\n",
       "#T_a107a_row2_col17 {\n",
       "  background-color: #3fa95c;\n",
       "  color: #f1f1f1;\n",
       "}\n",
       "#T_a107a_row2_col19 {\n",
       "  background-color: #cbebc5;\n",
       "  color: #000000;\n",
       "}\n",
       "#T_a107a_row3_col4 {\n",
       "  background-color: #00491d;\n",
       "  color: #f1f1f1;\n",
       "}\n",
       "#T_a107a_row3_col19 {\n",
       "  background-color: #6bc072;\n",
       "  color: #000000;\n",
       "}\n",
       "#T_a107a_row5_col2 {\n",
       "  background-color: #ecf8e8;\n",
       "  color: #000000;\n",
       "}\n",
       "#T_a107a_row5_col8 {\n",
       "  background-color: #e7f6e3;\n",
       "  color: #000000;\n",
       "}\n",
       "#T_a107a_row5_col13 {\n",
       "  background-color: #f2faf0;\n",
       "  color: #000000;\n",
       "}\n",
       "#T_a107a_row6_col4 {\n",
       "  background-color: #005a24;\n",
       "  color: #f1f1f1;\n",
       "}\n",
       "#T_a107a_row6_col19 {\n",
       "  background-color: #63bc6e;\n",
       "  color: #f1f1f1;\n",
       "}\n",
       "#T_a107a_row7_col19 {\n",
       "  background-color: #60ba6c;\n",
       "  color: #f1f1f1;\n",
       "}\n",
       "#T_a107a_row8_col2, #T_a107a_row17_col19 {\n",
       "  background-color: #ceecc8;\n",
       "  color: #000000;\n",
       "}\n",
       "#T_a107a_row8_col4 {\n",
       "  background-color: #aadda4;\n",
       "  color: #000000;\n",
       "}\n",
       "#T_a107a_row8_col9 {\n",
       "  background-color: #d8f0d2;\n",
       "  color: #000000;\n",
       "}\n",
       "#T_a107a_row8_col12 {\n",
       "  background-color: #eef8ea;\n",
       "  color: #000000;\n",
       "}\n",
       "#T_a107a_row8_col15, #T_a107a_row9_col19 {\n",
       "  background-color: #dff3da;\n",
       "  color: #000000;\n",
       "}\n",
       "#T_a107a_row8_col19 {\n",
       "  background-color: #e5f5e1;\n",
       "  color: #000000;\n",
       "}\n",
       "#T_a107a_row9_col2 {\n",
       "  background-color: #e5f5e0;\n",
       "  color: #000000;\n",
       "}\n",
       "#T_a107a_row9_col4 {\n",
       "  background-color: #bee5b8;\n",
       "  color: #000000;\n",
       "}\n",
       "#T_a107a_row9_col8 {\n",
       "  background-color: #c3e7bc;\n",
       "  color: #000000;\n",
       "}\n",
       "#T_a107a_row9_col11 {\n",
       "  background-color: #b5e1ae;\n",
       "  color: #000000;\n",
       "}\n",
       "#T_a107a_row9_col13 {\n",
       "  background-color: #dcf2d7;\n",
       "  color: #000000;\n",
       "}\n",
       "#T_a107a_row9_col14 {\n",
       "  background-color: #94d390;\n",
       "  color: #000000;\n",
       "}\n",
       "#T_a107a_row9_col15 {\n",
       "  background-color: #abdda5;\n",
       "  color: #000000;\n",
       "}\n",
       "#T_a107a_row9_col16 {\n",
       "  background-color: #147e3a;\n",
       "  color: #f1f1f1;\n",
       "}\n",
       "#T_a107a_row10_col2 {\n",
       "  background-color: #369f54;\n",
       "  color: #f1f1f1;\n",
       "}\n",
       "#T_a107a_row10_col19 {\n",
       "  background-color: #7cc87c;\n",
       "  color: #000000;\n",
       "}\n",
       "#T_a107a_row11_col9 {\n",
       "  background-color: #52b365;\n",
       "  color: #f1f1f1;\n",
       "}\n",
       "#T_a107a_row11_col15 {\n",
       "  background-color: #00692a;\n",
       "  color: #f1f1f1;\n",
       "}\n",
       "#T_a107a_row11_col19 {\n",
       "  background-color: #95d391;\n",
       "  color: #000000;\n",
       "}\n",
       "#T_a107a_row12_col2 {\n",
       "  background-color: #a0d99b;\n",
       "  color: #000000;\n",
       "}\n",
       "#T_a107a_row12_col9 {\n",
       "  background-color: #afdfa8;\n",
       "  color: #000000;\n",
       "}\n",
       "#T_a107a_row12_col19 {\n",
       "  background-color: #c2e7bb;\n",
       "  color: #000000;\n",
       "}\n",
       "#T_a107a_row13_col2 {\n",
       "  background-color: #208843;\n",
       "  color: #f1f1f1;\n",
       "}\n",
       "#T_a107a_row13_col9 {\n",
       "  background-color: #19833e;\n",
       "  color: #f1f1f1;\n",
       "}\n",
       "#T_a107a_row13_col15 {\n",
       "  background-color: #2f974e;\n",
       "  color: #f1f1f1;\n",
       "}\n",
       "#T_a107a_row14_col4 {\n",
       "  background-color: #006d2c;\n",
       "  color: #f1f1f1;\n",
       "}\n",
       "#T_a107a_row14_col9 {\n",
       "  background-color: #248c46;\n",
       "  color: #f1f1f1;\n",
       "}\n",
       "#T_a107a_row14_col15 {\n",
       "  background-color: #004a1e;\n",
       "  color: #f1f1f1;\n",
       "}\n",
       "#T_a107a_row15_col2 {\n",
       "  background-color: #005221;\n",
       "  color: #f1f1f1;\n",
       "}\n",
       "#T_a107a_row15_col4 {\n",
       "  background-color: #1a843f;\n",
       "  color: #f1f1f1;\n",
       "}\n",
       "#T_a107a_row16_col2 {\n",
       "  background-color: #289049;\n",
       "  color: #f1f1f1;\n",
       "}\n",
       "#T_a107a_row16_col4 {\n",
       "  background-color: #006b2b;\n",
       "  color: #f1f1f1;\n",
       "}\n",
       "#T_a107a_row17_col2 {\n",
       "  background-color: #84cc83;\n",
       "  color: #000000;\n",
       "}\n",
       "#T_a107a_row17_col4 {\n",
       "  background-color: #9ed798;\n",
       "  color: #000000;\n",
       "}\n",
       "#T_a107a_row17_col8 {\n",
       "  background-color: #acdea6;\n",
       "  color: #000000;\n",
       "}\n",
       "#T_a107a_row17_col12 {\n",
       "  background-color: #e3f4de;\n",
       "  color: #000000;\n",
       "}\n",
       "#T_a107a_row18_col19 {\n",
       "  background-color: #8ace88;\n",
       "  color: #000000;\n",
       "}\n",
       "#T_a107a_row20_col19 {\n",
       "  background-color: #6ec173;\n",
       "  color: #000000;\n",
       "}\n",
       "</style>\n",
       "<table id=\"T_a107a\">\n",
       "  <thead>\n",
       "    <tr>\n",
       "      <th class=\"index_name level0\" >consequents</th>\n",
       "      <th id=\"T_a107a_level0_col0\" class=\"col_heading level0 col0\" >frozenset({'ItalCook'})</th>\n",
       "      <th id=\"T_a107a_level0_col1\" class=\"col_heading level0 col1\" >frozenset({'YouthBks', 'CookBks'})</th>\n",
       "      <th id=\"T_a107a_level0_col2\" class=\"col_heading level0 col2\" >frozenset({'GeogBks'})</th>\n",
       "      <th id=\"T_a107a_level0_col3\" class=\"col_heading level0 col3\" >frozenset({'ArtBks', 'GeogBks'})</th>\n",
       "      <th id=\"T_a107a_level0_col4\" class=\"col_heading level0 col4\" >frozenset({'ChildBks'})</th>\n",
       "      <th id=\"T_a107a_level0_col5\" class=\"col_heading level0 col5\" >frozenset({'RefBks', 'CookBks'})</th>\n",
       "      <th id=\"T_a107a_level0_col6\" class=\"col_heading level0 col6\" >frozenset({'GeogBks', 'DoItYBks'})</th>\n",
       "      <th id=\"T_a107a_level0_col7\" class=\"col_heading level0 col7\" >frozenset({'ArtBks', 'DoItYBks'})</th>\n",
       "      <th id=\"T_a107a_level0_col8\" class=\"col_heading level0 col8\" >frozenset({'YouthBks'})</th>\n",
       "      <th id=\"T_a107a_level0_col9\" class=\"col_heading level0 col9\" >frozenset({'DoItYBks'})</th>\n",
       "      <th id=\"T_a107a_level0_col10\" class=\"col_heading level0 col10\" >frozenset({'DoItYBks', 'ChildBks'})</th>\n",
       "      <th id=\"T_a107a_level0_col11\" class=\"col_heading level0 col11\" >frozenset({'GeogBks', 'ChildBks'})</th>\n",
       "      <th id=\"T_a107a_level0_col12\" class=\"col_heading level0 col12\" >frozenset({'CookBks', 'ChildBks'})</th>\n",
       "      <th id=\"T_a107a_level0_col13\" class=\"col_heading level0 col13\" >frozenset({'RefBks'})</th>\n",
       "      <th id=\"T_a107a_level0_col14\" class=\"col_heading level0 col14\" >frozenset({'GeogBks', 'CookBks'})</th>\n",
       "      <th id=\"T_a107a_level0_col15\" class=\"col_heading level0 col15\" >frozenset({'ArtBks'})</th>\n",
       "      <th id=\"T_a107a_level0_col16\" class=\"col_heading level0 col16\" >frozenset({'ArtBks', 'CookBks'})</th>\n",
       "      <th id=\"T_a107a_level0_col17\" class=\"col_heading level0 col17\" >frozenset({'DoItYBks', 'CookBks'})</th>\n",
       "      <th id=\"T_a107a_level0_col18\" class=\"col_heading level0 col18\" >frozenset({'ArtBks', 'ChildBks'})</th>\n",
       "      <th id=\"T_a107a_level0_col19\" class=\"col_heading level0 col19\" >frozenset({'CookBks'})</th>\n",
       "      <th id=\"T_a107a_level0_col20\" class=\"col_heading level0 col20\" >frozenset({'RefBks', 'ChildBks'})</th>\n",
       "      <th id=\"T_a107a_level0_col21\" class=\"col_heading level0 col21\" >frozenset({'YouthBks', 'ChildBks'})</th>\n",
       "    </tr>\n",
       "    <tr>\n",
       "      <th class=\"index_name level0\" >antecedents</th>\n",
       "      <th class=\"blank col0\" >&nbsp;</th>\n",
       "      <th class=\"blank col1\" >&nbsp;</th>\n",
       "      <th class=\"blank col2\" >&nbsp;</th>\n",
       "      <th class=\"blank col3\" >&nbsp;</th>\n",
       "      <th class=\"blank col4\" >&nbsp;</th>\n",
       "      <th class=\"blank col5\" >&nbsp;</th>\n",
       "      <th class=\"blank col6\" >&nbsp;</th>\n",
       "      <th class=\"blank col7\" >&nbsp;</th>\n",
       "      <th class=\"blank col8\" >&nbsp;</th>\n",
       "      <th class=\"blank col9\" >&nbsp;</th>\n",
       "      <th class=\"blank col10\" >&nbsp;</th>\n",
       "      <th class=\"blank col11\" >&nbsp;</th>\n",
       "      <th class=\"blank col12\" >&nbsp;</th>\n",
       "      <th class=\"blank col13\" >&nbsp;</th>\n",
       "      <th class=\"blank col14\" >&nbsp;</th>\n",
       "      <th class=\"blank col15\" >&nbsp;</th>\n",
       "      <th class=\"blank col16\" >&nbsp;</th>\n",
       "      <th class=\"blank col17\" >&nbsp;</th>\n",
       "      <th class=\"blank col18\" >&nbsp;</th>\n",
       "      <th class=\"blank col19\" >&nbsp;</th>\n",
       "      <th class=\"blank col20\" >&nbsp;</th>\n",
       "      <th class=\"blank col21\" >&nbsp;</th>\n",
       "    </tr>\n",
       "  </thead>\n",
       "  <tbody>\n",
       "    <tr>\n",
       "      <th id=\"T_a107a_level0_row0\" class=\"row_heading level0 row0\" >frozenset({'CookBks'})</th>\n",
       "      <td id=\"T_a107a_row0_col0\" class=\"data row0 col0\" >2.32</td>\n",
       "      <td id=\"T_a107a_row0_col1\" class=\"data row0 col1\" >nan</td>\n",
       "      <td id=\"T_a107a_row0_col2\" class=\"data row0 col2\" >1.62</td>\n",
       "      <td id=\"T_a107a_row0_col3\" class=\"data row0 col3\" >1.88</td>\n",
       "      <td id=\"T_a107a_row0_col4\" class=\"data row0 col4\" >1.40</td>\n",
       "      <td id=\"T_a107a_row0_col5\" class=\"data row0 col5\" >nan</td>\n",
       "      <td id=\"T_a107a_row0_col6\" class=\"data row0 col6\" >1.90</td>\n",
       "      <td id=\"T_a107a_row0_col7\" class=\"data row0 col7\" >1.91</td>\n",
       "      <td id=\"T_a107a_row0_col8\" class=\"data row0 col8\" >1.52</td>\n",
       "      <td id=\"T_a107a_row0_col9\" class=\"data row0 col9\" >1.54</td>\n",
       "      <td id=\"T_a107a_row0_col10\" class=\"data row0 col10\" >1.84</td>\n",
       "      <td id=\"T_a107a_row0_col11\" class=\"data row0 col11\" >1.78</td>\n",
       "      <td id=\"T_a107a_row0_col12\" class=\"data row0 col12\" >nan</td>\n",
       "      <td id=\"T_a107a_row0_col13\" class=\"data row0 col13\" >1.65</td>\n",
       "      <td id=\"T_a107a_row0_col14\" class=\"data row0 col14\" >nan</td>\n",
       "      <td id=\"T_a107a_row0_col15\" class=\"data row0 col15\" >1.61</td>\n",
       "      <td id=\"T_a107a_row0_col16\" class=\"data row0 col16\" >nan</td>\n",
       "      <td id=\"T_a107a_row0_col17\" class=\"data row0 col17\" >nan</td>\n",
       "      <td id=\"T_a107a_row0_col18\" class=\"data row0 col18\" >1.81</td>\n",
       "      <td id=\"T_a107a_row0_col19\" class=\"data row0 col19\" >nan</td>\n",
       "      <td id=\"T_a107a_row0_col20\" class=\"data row0 col20\" >1.88</td>\n",
       "      <td id=\"T_a107a_row0_col21\" class=\"data row0 col21\" >1.81</td>\n",
       "    </tr>\n",
       "    <tr>\n",
       "      <th id=\"T_a107a_level0_row1\" class=\"row_heading level0 row1\" >frozenset({'YouthBks', 'CookBks'})</th>\n",
       "      <td id=\"T_a107a_row1_col0\" class=\"data row1 col0\" >nan</td>\n",
       "      <td id=\"T_a107a_row1_col1\" class=\"data row1 col1\" >nan</td>\n",
       "      <td id=\"T_a107a_row1_col2\" class=\"data row1 col2\" >nan</td>\n",
       "      <td id=\"T_a107a_row1_col3\" class=\"data row1 col3\" >nan</td>\n",
       "      <td id=\"T_a107a_row1_col4\" class=\"data row1 col4\" >1.88</td>\n",
       "      <td id=\"T_a107a_row1_col5\" class=\"data row1 col5\" >nan</td>\n",
       "      <td id=\"T_a107a_row1_col6\" class=\"data row1 col6\" >nan</td>\n",
       "      <td id=\"T_a107a_row1_col7\" class=\"data row1 col7\" >nan</td>\n",
       "      <td id=\"T_a107a_row1_col8\" class=\"data row1 col8\" >nan</td>\n",
       "      <td id=\"T_a107a_row1_col9\" class=\"data row1 col9\" >nan</td>\n",
       "      <td id=\"T_a107a_row1_col10\" class=\"data row1 col10\" >nan</td>\n",
       "      <td id=\"T_a107a_row1_col11\" class=\"data row1 col11\" >nan</td>\n",
       "      <td id=\"T_a107a_row1_col12\" class=\"data row1 col12\" >nan</td>\n",
       "      <td id=\"T_a107a_row1_col13\" class=\"data row1 col13\" >nan</td>\n",
       "      <td id=\"T_a107a_row1_col14\" class=\"data row1 col14\" >nan</td>\n",
       "      <td id=\"T_a107a_row1_col15\" class=\"data row1 col15\" >nan</td>\n",
       "      <td id=\"T_a107a_row1_col16\" class=\"data row1 col16\" >nan</td>\n",
       "      <td id=\"T_a107a_row1_col17\" class=\"data row1 col17\" >nan</td>\n",
       "      <td id=\"T_a107a_row1_col18\" class=\"data row1 col18\" >nan</td>\n",
       "      <td id=\"T_a107a_row1_col19\" class=\"data row1 col19\" >nan</td>\n",
       "      <td id=\"T_a107a_row1_col20\" class=\"data row1 col20\" >nan</td>\n",
       "      <td id=\"T_a107a_row1_col21\" class=\"data row1 col21\" >nan</td>\n",
       "    </tr>\n",
       "    <tr>\n",
       "      <th id=\"T_a107a_level0_row2\" class=\"row_heading level0 row2\" >frozenset({'GeogBks'})</th>\n",
       "      <td id=\"T_a107a_row2_col0\" class=\"data row2 col0\" >nan</td>\n",
       "      <td id=\"T_a107a_row2_col1\" class=\"data row2 col1\" >nan</td>\n",
       "      <td id=\"T_a107a_row2_col2\" class=\"data row2 col2\" >nan</td>\n",
       "      <td id=\"T_a107a_row2_col3\" class=\"data row2 col3\" >nan</td>\n",
       "      <td id=\"T_a107a_row2_col4\" class=\"data row2 col4\" >1.67</td>\n",
       "      <td id=\"T_a107a_row2_col5\" class=\"data row2 col5\" >nan</td>\n",
       "      <td id=\"T_a107a_row2_col6\" class=\"data row2 col6\" >nan</td>\n",
       "      <td id=\"T_a107a_row2_col7\" class=\"data row2 col7\" >nan</td>\n",
       "      <td id=\"T_a107a_row2_col8\" class=\"data row2 col8\" >1.76</td>\n",
       "      <td id=\"T_a107a_row2_col9\" class=\"data row2 col9\" >1.70</td>\n",
       "      <td id=\"T_a107a_row2_col10\" class=\"data row2 col10\" >2.06</td>\n",
       "      <td id=\"T_a107a_row2_col11\" class=\"data row2 col11\" >nan</td>\n",
       "      <td id=\"T_a107a_row2_col12\" class=\"data row2 col12\" >2.12</td>\n",
       "      <td id=\"T_a107a_row2_col13\" class=\"data row2 col13\" >1.87</td>\n",
       "      <td id=\"T_a107a_row2_col14\" class=\"data row2 col14\" >nan</td>\n",
       "      <td id=\"T_a107a_row2_col15\" class=\"data row2 col15\" >1.92</td>\n",
       "      <td id=\"T_a107a_row2_col16\" class=\"data row2 col16\" >2.25</td>\n",
       "      <td id=\"T_a107a_row2_col17\" class=\"data row2 col17\" >2.10</td>\n",
       "      <td id=\"T_a107a_row2_col18\" class=\"data row2 col18\" >2.27</td>\n",
       "      <td id=\"T_a107a_row2_col19\" class=\"data row2 col19\" >1.62</td>\n",
       "      <td id=\"T_a107a_row2_col20\" class=\"data row2 col20\" >nan</td>\n",
       "      <td id=\"T_a107a_row2_col21\" class=\"data row2 col21\" >nan</td>\n",
       "    </tr>\n",
       "    <tr>\n",
       "      <th id=\"T_a107a_level0_row3\" class=\"row_heading level0 row3\" >frozenset({'ArtBks', 'GeogBks'})</th>\n",
       "      <td id=\"T_a107a_row3_col0\" class=\"data row3 col0\" >nan</td>\n",
       "      <td id=\"T_a107a_row3_col1\" class=\"data row3 col1\" >nan</td>\n",
       "      <td id=\"T_a107a_row3_col2\" class=\"data row3 col2\" >nan</td>\n",
       "      <td id=\"T_a107a_row3_col3\" class=\"data row3 col3\" >nan</td>\n",
       "      <td id=\"T_a107a_row3_col4\" class=\"data row3 col4\" >1.89</td>\n",
       "      <td id=\"T_a107a_row3_col5\" class=\"data row3 col5\" >nan</td>\n",
       "      <td id=\"T_a107a_row3_col6\" class=\"data row3 col6\" >nan</td>\n",
       "      <td id=\"T_a107a_row3_col7\" class=\"data row3 col7\" >nan</td>\n",
       "      <td id=\"T_a107a_row3_col8\" class=\"data row3 col8\" >nan</td>\n",
       "      <td id=\"T_a107a_row3_col9\" class=\"data row3 col9\" >nan</td>\n",
       "      <td id=\"T_a107a_row3_col10\" class=\"data row3 col10\" >nan</td>\n",
       "      <td id=\"T_a107a_row3_col11\" class=\"data row3 col11\" >nan</td>\n",
       "      <td id=\"T_a107a_row3_col12\" class=\"data row3 col12\" >nan</td>\n",
       "      <td id=\"T_a107a_row3_col13\" class=\"data row3 col13\" >nan</td>\n",
       "      <td id=\"T_a107a_row3_col14\" class=\"data row3 col14\" >nan</td>\n",
       "      <td id=\"T_a107a_row3_col15\" class=\"data row3 col15\" >nan</td>\n",
       "      <td id=\"T_a107a_row3_col16\" class=\"data row3 col16\" >nan</td>\n",
       "      <td id=\"T_a107a_row3_col17\" class=\"data row3 col17\" >nan</td>\n",
       "      <td id=\"T_a107a_row3_col18\" class=\"data row3 col18\" >nan</td>\n",
       "      <td id=\"T_a107a_row3_col19\" class=\"data row3 col19\" >1.88</td>\n",
       "      <td id=\"T_a107a_row3_col20\" class=\"data row3 col20\" >nan</td>\n",
       "      <td id=\"T_a107a_row3_col21\" class=\"data row3 col21\" >nan</td>\n",
       "    </tr>\n",
       "    <tr>\n",
       "      <th id=\"T_a107a_level0_row4\" class=\"row_heading level0 row4\" >frozenset({'RefBks', 'CookBks'})</th>\n",
       "      <td id=\"T_a107a_row4_col0\" class=\"data row4 col0\" >nan</td>\n",
       "      <td id=\"T_a107a_row4_col1\" class=\"data row4 col1\" >nan</td>\n",
       "      <td id=\"T_a107a_row4_col2\" class=\"data row4 col2\" >nan</td>\n",
       "      <td id=\"T_a107a_row4_col3\" class=\"data row4 col3\" >nan</td>\n",
       "      <td id=\"T_a107a_row4_col4\" class=\"data row4 col4\" >1.90</td>\n",
       "      <td id=\"T_a107a_row4_col5\" class=\"data row4 col5\" >nan</td>\n",
       "      <td id=\"T_a107a_row4_col6\" class=\"data row4 col6\" >nan</td>\n",
       "      <td id=\"T_a107a_row4_col7\" class=\"data row4 col7\" >nan</td>\n",
       "      <td id=\"T_a107a_row4_col8\" class=\"data row4 col8\" >nan</td>\n",
       "      <td id=\"T_a107a_row4_col9\" class=\"data row4 col9\" >nan</td>\n",
       "      <td id=\"T_a107a_row4_col10\" class=\"data row4 col10\" >nan</td>\n",
       "      <td id=\"T_a107a_row4_col11\" class=\"data row4 col11\" >nan</td>\n",
       "      <td id=\"T_a107a_row4_col12\" class=\"data row4 col12\" >nan</td>\n",
       "      <td id=\"T_a107a_row4_col13\" class=\"data row4 col13\" >nan</td>\n",
       "      <td id=\"T_a107a_row4_col14\" class=\"data row4 col14\" >nan</td>\n",
       "      <td id=\"T_a107a_row4_col15\" class=\"data row4 col15\" >nan</td>\n",
       "      <td id=\"T_a107a_row4_col16\" class=\"data row4 col16\" >nan</td>\n",
       "      <td id=\"T_a107a_row4_col17\" class=\"data row4 col17\" >nan</td>\n",
       "      <td id=\"T_a107a_row4_col18\" class=\"data row4 col18\" >nan</td>\n",
       "      <td id=\"T_a107a_row4_col19\" class=\"data row4 col19\" >nan</td>\n",
       "      <td id=\"T_a107a_row4_col20\" class=\"data row4 col20\" >nan</td>\n",
       "      <td id=\"T_a107a_row4_col21\" class=\"data row4 col21\" >nan</td>\n",
       "    </tr>\n",
       "    <tr>\n",
       "      <th id=\"T_a107a_level0_row5\" class=\"row_heading level0 row5\" >frozenset({'ChildBks'})</th>\n",
       "      <td id=\"T_a107a_row5_col0\" class=\"data row5 col0\" >nan</td>\n",
       "      <td id=\"T_a107a_row5_col1\" class=\"data row5 col1\" >1.88</td>\n",
       "      <td id=\"T_a107a_row5_col2\" class=\"data row5 col2\" >1.67</td>\n",
       "      <td id=\"T_a107a_row5_col3\" class=\"data row5 col3\" >1.89</td>\n",
       "      <td id=\"T_a107a_row5_col4\" class=\"data row5 col4\" >nan</td>\n",
       "      <td id=\"T_a107a_row5_col5\" class=\"data row5 col5\" >1.90</td>\n",
       "      <td id=\"T_a107a_row5_col6\" class=\"data row5 col6\" >1.86</td>\n",
       "      <td id=\"T_a107a_row5_col7\" class=\"data row5 col7\" >nan</td>\n",
       "      <td id=\"T_a107a_row5_col8\" class=\"data row5 col8\" >1.58</td>\n",
       "      <td id=\"T_a107a_row5_col9\" class=\"data row5 col9\" >1.54</td>\n",
       "      <td id=\"T_a107a_row5_col10\" class=\"data row5 col10\" >nan</td>\n",
       "      <td id=\"T_a107a_row5_col11\" class=\"data row5 col11\" >nan</td>\n",
       "      <td id=\"T_a107a_row5_col12\" class=\"data row5 col12\" >nan</td>\n",
       "      <td id=\"T_a107a_row5_col13\" class=\"data row5 col13\" >1.67</td>\n",
       "      <td id=\"T_a107a_row5_col14\" class=\"data row5 col14\" >1.84</td>\n",
       "      <td id=\"T_a107a_row5_col15\" class=\"data row5 col15\" >1.59</td>\n",
       "      <td id=\"T_a107a_row5_col16\" class=\"data row5 col16\" >1.79</td>\n",
       "      <td id=\"T_a107a_row5_col17\" class=\"data row5 col17\" >1.84</td>\n",
       "      <td id=\"T_a107a_row5_col18\" class=\"data row5 col18\" >nan</td>\n",
       "      <td id=\"T_a107a_row5_col19\" class=\"data row5 col19\" >1.40</td>\n",
       "      <td id=\"T_a107a_row5_col20\" class=\"data row5 col20\" >nan</td>\n",
       "      <td id=\"T_a107a_row5_col21\" class=\"data row5 col21\" >nan</td>\n",
       "    </tr>\n",
       "    <tr>\n",
       "      <th id=\"T_a107a_level0_row6\" class=\"row_heading level0 row6\" >frozenset({'GeogBks', 'DoItYBks'})</th>\n",
       "      <td id=\"T_a107a_row6_col0\" class=\"data row6 col0\" >nan</td>\n",
       "      <td id=\"T_a107a_row6_col1\" class=\"data row6 col1\" >nan</td>\n",
       "      <td id=\"T_a107a_row6_col2\" class=\"data row6 col2\" >nan</td>\n",
       "      <td id=\"T_a107a_row6_col3\" class=\"data row6 col3\" >nan</td>\n",
       "      <td id=\"T_a107a_row6_col4\" class=\"data row6 col4\" >1.86</td>\n",
       "      <td id=\"T_a107a_row6_col5\" class=\"data row6 col5\" >nan</td>\n",
       "      <td id=\"T_a107a_row6_col6\" class=\"data row6 col6\" >nan</td>\n",
       "      <td id=\"T_a107a_row6_col7\" class=\"data row6 col7\" >nan</td>\n",
       "      <td id=\"T_a107a_row6_col8\" class=\"data row6 col8\" >nan</td>\n",
       "      <td id=\"T_a107a_row6_col9\" class=\"data row6 col9\" >nan</td>\n",
       "      <td id=\"T_a107a_row6_col10\" class=\"data row6 col10\" >nan</td>\n",
       "      <td id=\"T_a107a_row6_col11\" class=\"data row6 col11\" >nan</td>\n",
       "      <td id=\"T_a107a_row6_col12\" class=\"data row6 col12\" >nan</td>\n",
       "      <td id=\"T_a107a_row6_col13\" class=\"data row6 col13\" >nan</td>\n",
       "      <td id=\"T_a107a_row6_col14\" class=\"data row6 col14\" >nan</td>\n",
       "      <td id=\"T_a107a_row6_col15\" class=\"data row6 col15\" >nan</td>\n",
       "      <td id=\"T_a107a_row6_col16\" class=\"data row6 col16\" >nan</td>\n",
       "      <td id=\"T_a107a_row6_col17\" class=\"data row6 col17\" >nan</td>\n",
       "      <td id=\"T_a107a_row6_col18\" class=\"data row6 col18\" >nan</td>\n",
       "      <td id=\"T_a107a_row6_col19\" class=\"data row6 col19\" >1.90</td>\n",
       "      <td id=\"T_a107a_row6_col20\" class=\"data row6 col20\" >nan</td>\n",
       "      <td id=\"T_a107a_row6_col21\" class=\"data row6 col21\" >nan</td>\n",
       "    </tr>\n",
       "    <tr>\n",
       "      <th id=\"T_a107a_level0_row7\" class=\"row_heading level0 row7\" >frozenset({'ArtBks', 'DoItYBks'})</th>\n",
       "      <td id=\"T_a107a_row7_col0\" class=\"data row7 col0\" >nan</td>\n",
       "      <td id=\"T_a107a_row7_col1\" class=\"data row7 col1\" >nan</td>\n",
       "      <td id=\"T_a107a_row7_col2\" class=\"data row7 col2\" >nan</td>\n",
       "      <td id=\"T_a107a_row7_col3\" class=\"data row7 col3\" >nan</td>\n",
       "      <td id=\"T_a107a_row7_col4\" class=\"data row7 col4\" >nan</td>\n",
       "      <td id=\"T_a107a_row7_col5\" class=\"data row7 col5\" >nan</td>\n",
       "      <td id=\"T_a107a_row7_col6\" class=\"data row7 col6\" >nan</td>\n",
       "      <td id=\"T_a107a_row7_col7\" class=\"data row7 col7\" >nan</td>\n",
       "      <td id=\"T_a107a_row7_col8\" class=\"data row7 col8\" >nan</td>\n",
       "      <td id=\"T_a107a_row7_col9\" class=\"data row7 col9\" >nan</td>\n",
       "      <td id=\"T_a107a_row7_col10\" class=\"data row7 col10\" >nan</td>\n",
       "      <td id=\"T_a107a_row7_col11\" class=\"data row7 col11\" >nan</td>\n",
       "      <td id=\"T_a107a_row7_col12\" class=\"data row7 col12\" >nan</td>\n",
       "      <td id=\"T_a107a_row7_col13\" class=\"data row7 col13\" >nan</td>\n",
       "      <td id=\"T_a107a_row7_col14\" class=\"data row7 col14\" >nan</td>\n",
       "      <td id=\"T_a107a_row7_col15\" class=\"data row7 col15\" >nan</td>\n",
       "      <td id=\"T_a107a_row7_col16\" class=\"data row7 col16\" >nan</td>\n",
       "      <td id=\"T_a107a_row7_col17\" class=\"data row7 col17\" >nan</td>\n",
       "      <td id=\"T_a107a_row7_col18\" class=\"data row7 col18\" >nan</td>\n",
       "      <td id=\"T_a107a_row7_col19\" class=\"data row7 col19\" >1.91</td>\n",
       "      <td id=\"T_a107a_row7_col20\" class=\"data row7 col20\" >nan</td>\n",
       "      <td id=\"T_a107a_row7_col21\" class=\"data row7 col21\" >nan</td>\n",
       "    </tr>\n",
       "    <tr>\n",
       "      <th id=\"T_a107a_level0_row8\" class=\"row_heading level0 row8\" >frozenset({'YouthBks'})</th>\n",
       "      <td id=\"T_a107a_row8_col0\" class=\"data row8 col0\" >nan</td>\n",
       "      <td id=\"T_a107a_row8_col1\" class=\"data row8 col1\" >nan</td>\n",
       "      <td id=\"T_a107a_row8_col2\" class=\"data row8 col2\" >1.76</td>\n",
       "      <td id=\"T_a107a_row8_col3\" class=\"data row8 col3\" >nan</td>\n",
       "      <td id=\"T_a107a_row8_col4\" class=\"data row8 col4\" >1.58</td>\n",
       "      <td id=\"T_a107a_row8_col5\" class=\"data row8 col5\" >nan</td>\n",
       "      <td id=\"T_a107a_row8_col6\" class=\"data row8 col6\" >nan</td>\n",
       "      <td id=\"T_a107a_row8_col7\" class=\"data row8 col7\" >nan</td>\n",
       "      <td id=\"T_a107a_row8_col8\" class=\"data row8 col8\" >nan</td>\n",
       "      <td id=\"T_a107a_row8_col9\" class=\"data row8 col9\" >1.65</td>\n",
       "      <td id=\"T_a107a_row8_col10\" class=\"data row8 col10\" >nan</td>\n",
       "      <td id=\"T_a107a_row8_col11\" class=\"data row8 col11\" >nan</td>\n",
       "      <td id=\"T_a107a_row8_col12\" class=\"data row8 col12\" >2.04</td>\n",
       "      <td id=\"T_a107a_row8_col13\" class=\"data row8 col13\" >nan</td>\n",
       "      <td id=\"T_a107a_row8_col14\" class=\"data row8 col14\" >nan</td>\n",
       "      <td id=\"T_a107a_row8_col15\" class=\"data row8 col15\" >1.69</td>\n",
       "      <td id=\"T_a107a_row8_col16\" class=\"data row8 col16\" >nan</td>\n",
       "      <td id=\"T_a107a_row8_col17\" class=\"data row8 col17\" >nan</td>\n",
       "      <td id=\"T_a107a_row8_col18\" class=\"data row8 col18\" >nan</td>\n",
       "      <td id=\"T_a107a_row8_col19\" class=\"data row8 col19\" >1.52</td>\n",
       "      <td id=\"T_a107a_row8_col20\" class=\"data row8 col20\" >nan</td>\n",
       "      <td id=\"T_a107a_row8_col21\" class=\"data row8 col21\" >nan</td>\n",
       "    </tr>\n",
       "    <tr>\n",
       "      <th id=\"T_a107a_level0_row9\" class=\"row_heading level0 row9\" >frozenset({'DoItYBks'})</th>\n",
       "      <td id=\"T_a107a_row9_col0\" class=\"data row9 col0\" >nan</td>\n",
       "      <td id=\"T_a107a_row9_col1\" class=\"data row9 col1\" >nan</td>\n",
       "      <td id=\"T_a107a_row9_col2\" class=\"data row9 col2\" >1.70</td>\n",
       "      <td id=\"T_a107a_row9_col3\" class=\"data row9 col3\" >nan</td>\n",
       "      <td id=\"T_a107a_row9_col4\" class=\"data row9 col4\" >1.54</td>\n",
       "      <td id=\"T_a107a_row9_col5\" class=\"data row9 col5\" >nan</td>\n",
       "      <td id=\"T_a107a_row9_col6\" class=\"data row9 col6\" >nan</td>\n",
       "      <td id=\"T_a107a_row9_col7\" class=\"data row9 col7\" >nan</td>\n",
       "      <td id=\"T_a107a_row9_col8\" class=\"data row9 col8\" >1.65</td>\n",
       "      <td id=\"T_a107a_row9_col9\" class=\"data row9 col9\" >nan</td>\n",
       "      <td id=\"T_a107a_row9_col10\" class=\"data row9 col10\" >nan</td>\n",
       "      <td id=\"T_a107a_row9_col11\" class=\"data row9 col11\" >1.90</td>\n",
       "      <td id=\"T_a107a_row9_col12\" class=\"data row9 col12\" >2.02</td>\n",
       "      <td id=\"T_a107a_row9_col13\" class=\"data row9 col13\" >1.74</td>\n",
       "      <td id=\"T_a107a_row9_col14\" class=\"data row9 col14\" >2.00</td>\n",
       "      <td id=\"T_a107a_row9_col15\" class=\"data row9 col15\" >1.82</td>\n",
       "      <td id=\"T_a107a_row9_col16\" class=\"data row9 col16\" >2.16</td>\n",
       "      <td id=\"T_a107a_row9_col17\" class=\"data row9 col17\" >nan</td>\n",
       "      <td id=\"T_a107a_row9_col18\" class=\"data row9 col18\" >nan</td>\n",
       "      <td id=\"T_a107a_row9_col19\" class=\"data row9 col19\" >1.54</td>\n",
       "      <td id=\"T_a107a_row9_col20\" class=\"data row9 col20\" >nan</td>\n",
       "      <td id=\"T_a107a_row9_col21\" class=\"data row9 col21\" >nan</td>\n",
       "    </tr>\n",
       "    <tr>\n",
       "      <th id=\"T_a107a_level0_row10\" class=\"row_heading level0 row10\" >frozenset({'DoItYBks', 'ChildBks'})</th>\n",
       "      <td id=\"T_a107a_row10_col0\" class=\"data row10 col0\" >nan</td>\n",
       "      <td id=\"T_a107a_row10_col1\" class=\"data row10 col1\" >nan</td>\n",
       "      <td id=\"T_a107a_row10_col2\" class=\"data row10 col2\" >2.06</td>\n",
       "      <td id=\"T_a107a_row10_col3\" class=\"data row10 col3\" >nan</td>\n",
       "      <td id=\"T_a107a_row10_col4\" class=\"data row10 col4\" >nan</td>\n",
       "      <td id=\"T_a107a_row10_col5\" class=\"data row10 col5\" >nan</td>\n",
       "      <td id=\"T_a107a_row10_col6\" class=\"data row10 col6\" >nan</td>\n",
       "      <td id=\"T_a107a_row10_col7\" class=\"data row10 col7\" >nan</td>\n",
       "      <td id=\"T_a107a_row10_col8\" class=\"data row10 col8\" >nan</td>\n",
       "      <td id=\"T_a107a_row10_col9\" class=\"data row10 col9\" >nan</td>\n",
       "      <td id=\"T_a107a_row10_col10\" class=\"data row10 col10\" >nan</td>\n",
       "      <td id=\"T_a107a_row10_col11\" class=\"data row10 col11\" >nan</td>\n",
       "      <td id=\"T_a107a_row10_col12\" class=\"data row10 col12\" >nan</td>\n",
       "      <td id=\"T_a107a_row10_col13\" class=\"data row10 col13\" >nan</td>\n",
       "      <td id=\"T_a107a_row10_col14\" class=\"data row10 col14\" >nan</td>\n",
       "      <td id=\"T_a107a_row10_col15\" class=\"data row10 col15\" >nan</td>\n",
       "      <td id=\"T_a107a_row10_col16\" class=\"data row10 col16\" >nan</td>\n",
       "      <td id=\"T_a107a_row10_col17\" class=\"data row10 col17\" >nan</td>\n",
       "      <td id=\"T_a107a_row10_col18\" class=\"data row10 col18\" >nan</td>\n",
       "      <td id=\"T_a107a_row10_col19\" class=\"data row10 col19\" >1.84</td>\n",
       "      <td id=\"T_a107a_row10_col20\" class=\"data row10 col20\" >nan</td>\n",
       "      <td id=\"T_a107a_row10_col21\" class=\"data row10 col21\" >nan</td>\n",
       "    </tr>\n",
       "    <tr>\n",
       "      <th id=\"T_a107a_level0_row11\" class=\"row_heading level0 row11\" >frozenset({'GeogBks', 'ChildBks'})</th>\n",
       "      <td id=\"T_a107a_row11_col0\" class=\"data row11 col0\" >nan</td>\n",
       "      <td id=\"T_a107a_row11_col1\" class=\"data row11 col1\" >nan</td>\n",
       "      <td id=\"T_a107a_row11_col2\" class=\"data row11 col2\" >nan</td>\n",
       "      <td id=\"T_a107a_row11_col3\" class=\"data row11 col3\" >nan</td>\n",
       "      <td id=\"T_a107a_row11_col4\" class=\"data row11 col4\" >nan</td>\n",
       "      <td id=\"T_a107a_row11_col5\" class=\"data row11 col5\" >nan</td>\n",
       "      <td id=\"T_a107a_row11_col6\" class=\"data row11 col6\" >nan</td>\n",
       "      <td id=\"T_a107a_row11_col7\" class=\"data row11 col7\" >nan</td>\n",
       "      <td id=\"T_a107a_row11_col8\" class=\"data row11 col8\" >nan</td>\n",
       "      <td id=\"T_a107a_row11_col9\" class=\"data row11 col9\" >1.90</td>\n",
       "      <td id=\"T_a107a_row11_col10\" class=\"data row11 col10\" >nan</td>\n",
       "      <td id=\"T_a107a_row11_col11\" class=\"data row11 col11\" >nan</td>\n",
       "      <td id=\"T_a107a_row11_col12\" class=\"data row11 col12\" >nan</td>\n",
       "      <td id=\"T_a107a_row11_col13\" class=\"data row11 col13\" >nan</td>\n",
       "      <td id=\"T_a107a_row11_col14\" class=\"data row11 col14\" >nan</td>\n",
       "      <td id=\"T_a107a_row11_col15\" class=\"data row11 col15\" >2.17</td>\n",
       "      <td id=\"T_a107a_row11_col16\" class=\"data row11 col16\" >nan</td>\n",
       "      <td id=\"T_a107a_row11_col17\" class=\"data row11 col17\" >nan</td>\n",
       "      <td id=\"T_a107a_row11_col18\" class=\"data row11 col18\" >nan</td>\n",
       "      <td id=\"T_a107a_row11_col19\" class=\"data row11 col19\" >1.78</td>\n",
       "      <td id=\"T_a107a_row11_col20\" class=\"data row11 col20\" >nan</td>\n",
       "      <td id=\"T_a107a_row11_col21\" class=\"data row11 col21\" >nan</td>\n",
       "    </tr>\n",
       "    <tr>\n",
       "      <th id=\"T_a107a_level0_row12\" class=\"row_heading level0 row12\" >frozenset({'RefBks'})</th>\n",
       "      <td id=\"T_a107a_row12_col0\" class=\"data row12 col0\" >nan</td>\n",
       "      <td id=\"T_a107a_row12_col1\" class=\"data row12 col1\" >nan</td>\n",
       "      <td id=\"T_a107a_row12_col2\" class=\"data row12 col2\" >1.87</td>\n",
       "      <td id=\"T_a107a_row12_col3\" class=\"data row12 col3\" >nan</td>\n",
       "      <td id=\"T_a107a_row12_col4\" class=\"data row12 col4\" >1.67</td>\n",
       "      <td id=\"T_a107a_row12_col5\" class=\"data row12 col5\" >nan</td>\n",
       "      <td id=\"T_a107a_row12_col6\" class=\"data row12 col6\" >nan</td>\n",
       "      <td id=\"T_a107a_row12_col7\" class=\"data row12 col7\" >nan</td>\n",
       "      <td id=\"T_a107a_row12_col8\" class=\"data row12 col8\" >nan</td>\n",
       "      <td id=\"T_a107a_row12_col9\" class=\"data row12 col9\" >1.74</td>\n",
       "      <td id=\"T_a107a_row12_col10\" class=\"data row12 col10\" >nan</td>\n",
       "      <td id=\"T_a107a_row12_col11\" class=\"data row12 col11\" >nan</td>\n",
       "      <td id=\"T_a107a_row12_col12\" class=\"data row12 col12\" >2.23</td>\n",
       "      <td id=\"T_a107a_row12_col13\" class=\"data row12 col13\" >nan</td>\n",
       "      <td id=\"T_a107a_row12_col14\" class=\"data row12 col14\" >nan</td>\n",
       "      <td id=\"T_a107a_row12_col15\" class=\"data row12 col15\" >nan</td>\n",
       "      <td id=\"T_a107a_row12_col16\" class=\"data row12 col16\" >nan</td>\n",
       "      <td id=\"T_a107a_row12_col17\" class=\"data row12 col17\" >nan</td>\n",
       "      <td id=\"T_a107a_row12_col18\" class=\"data row12 col18\" >nan</td>\n",
       "      <td id=\"T_a107a_row12_col19\" class=\"data row12 col19\" >1.65</td>\n",
       "      <td id=\"T_a107a_row12_col20\" class=\"data row12 col20\" >nan</td>\n",
       "      <td id=\"T_a107a_row12_col21\" class=\"data row12 col21\" >nan</td>\n",
       "    </tr>\n",
       "    <tr>\n",
       "      <th id=\"T_a107a_level0_row13\" class=\"row_heading level0 row13\" >frozenset({'CookBks', 'ChildBks'})</th>\n",
       "      <td id=\"T_a107a_row13_col0\" class=\"data row13 col0\" >nan</td>\n",
       "      <td id=\"T_a107a_row13_col1\" class=\"data row13 col1\" >nan</td>\n",
       "      <td id=\"T_a107a_row13_col2\" class=\"data row13 col2\" >2.12</td>\n",
       "      <td id=\"T_a107a_row13_col3\" class=\"data row13 col3\" >nan</td>\n",
       "      <td id=\"T_a107a_row13_col4\" class=\"data row13 col4\" >nan</td>\n",
       "      <td id=\"T_a107a_row13_col5\" class=\"data row13 col5\" >nan</td>\n",
       "      <td id=\"T_a107a_row13_col6\" class=\"data row13 col6\" >nan</td>\n",
       "      <td id=\"T_a107a_row13_col7\" class=\"data row13 col7\" >nan</td>\n",
       "      <td id=\"T_a107a_row13_col8\" class=\"data row13 col8\" >2.04</td>\n",
       "      <td id=\"T_a107a_row13_col9\" class=\"data row13 col9\" >2.02</td>\n",
       "      <td id=\"T_a107a_row13_col10\" class=\"data row13 col10\" >nan</td>\n",
       "      <td id=\"T_a107a_row13_col11\" class=\"data row13 col11\" >nan</td>\n",
       "      <td id=\"T_a107a_row13_col12\" class=\"data row13 col12\" >nan</td>\n",
       "      <td id=\"T_a107a_row13_col13\" class=\"data row13 col13\" >2.23</td>\n",
       "      <td id=\"T_a107a_row13_col14\" class=\"data row13 col14\" >nan</td>\n",
       "      <td id=\"T_a107a_row13_col15\" class=\"data row13 col15\" >2.05</td>\n",
       "      <td id=\"T_a107a_row13_col16\" class=\"data row13 col16\" >nan</td>\n",
       "      <td id=\"T_a107a_row13_col17\" class=\"data row13 col17\" >nan</td>\n",
       "      <td id=\"T_a107a_row13_col18\" class=\"data row13 col18\" >nan</td>\n",
       "      <td id=\"T_a107a_row13_col19\" class=\"data row13 col19\" >nan</td>\n",
       "      <td id=\"T_a107a_row13_col20\" class=\"data row13 col20\" >nan</td>\n",
       "      <td id=\"T_a107a_row13_col21\" class=\"data row13 col21\" >nan</td>\n",
       "    </tr>\n",
       "    <tr>\n",
       "      <th id=\"T_a107a_level0_row14\" class=\"row_heading level0 row14\" >frozenset({'GeogBks', 'CookBks'})</th>\n",
       "      <td id=\"T_a107a_row14_col0\" class=\"data row14 col0\" >nan</td>\n",
       "      <td id=\"T_a107a_row14_col1\" class=\"data row14 col1\" >nan</td>\n",
       "      <td id=\"T_a107a_row14_col2\" class=\"data row14 col2\" >nan</td>\n",
       "      <td id=\"T_a107a_row14_col3\" class=\"data row14 col3\" >nan</td>\n",
       "      <td id=\"T_a107a_row14_col4\" class=\"data row14 col4\" >1.84</td>\n",
       "      <td id=\"T_a107a_row14_col5\" class=\"data row14 col5\" >nan</td>\n",
       "      <td id=\"T_a107a_row14_col6\" class=\"data row14 col6\" >nan</td>\n",
       "      <td id=\"T_a107a_row14_col7\" class=\"data row14 col7\" >nan</td>\n",
       "      <td id=\"T_a107a_row14_col8\" class=\"data row14 col8\" >nan</td>\n",
       "      <td id=\"T_a107a_row14_col9\" class=\"data row14 col9\" >2.00</td>\n",
       "      <td id=\"T_a107a_row14_col10\" class=\"data row14 col10\" >nan</td>\n",
       "      <td id=\"T_a107a_row14_col11\" class=\"data row14 col11\" >nan</td>\n",
       "      <td id=\"T_a107a_row14_col12\" class=\"data row14 col12\" >nan</td>\n",
       "      <td id=\"T_a107a_row14_col13\" class=\"data row14 col13\" >nan</td>\n",
       "      <td id=\"T_a107a_row14_col14\" class=\"data row14 col14\" >nan</td>\n",
       "      <td id=\"T_a107a_row14_col15\" class=\"data row14 col15\" >2.23</td>\n",
       "      <td id=\"T_a107a_row14_col16\" class=\"data row14 col16\" >nan</td>\n",
       "      <td id=\"T_a107a_row14_col17\" class=\"data row14 col17\" >nan</td>\n",
       "      <td id=\"T_a107a_row14_col18\" class=\"data row14 col18\" >nan</td>\n",
       "      <td id=\"T_a107a_row14_col19\" class=\"data row14 col19\" >nan</td>\n",
       "      <td id=\"T_a107a_row14_col20\" class=\"data row14 col20\" >nan</td>\n",
       "      <td id=\"T_a107a_row14_col21\" class=\"data row14 col21\" >nan</td>\n",
       "    </tr>\n",
       "    <tr>\n",
       "      <th id=\"T_a107a_level0_row15\" class=\"row_heading level0 row15\" >frozenset({'ArtBks', 'CookBks'})</th>\n",
       "      <td id=\"T_a107a_row15_col0\" class=\"data row15 col0\" >nan</td>\n",
       "      <td id=\"T_a107a_row15_col1\" class=\"data row15 col1\" >nan</td>\n",
       "      <td id=\"T_a107a_row15_col2\" class=\"data row15 col2\" >2.25</td>\n",
       "      <td id=\"T_a107a_row15_col3\" class=\"data row15 col3\" >nan</td>\n",
       "      <td id=\"T_a107a_row15_col4\" class=\"data row15 col4\" >1.79</td>\n",
       "      <td id=\"T_a107a_row15_col5\" class=\"data row15 col5\" >nan</td>\n",
       "      <td id=\"T_a107a_row15_col6\" class=\"data row15 col6\" >nan</td>\n",
       "      <td id=\"T_a107a_row15_col7\" class=\"data row15 col7\" >nan</td>\n",
       "      <td id=\"T_a107a_row15_col8\" class=\"data row15 col8\" >nan</td>\n",
       "      <td id=\"T_a107a_row15_col9\" class=\"data row15 col9\" >2.16</td>\n",
       "      <td id=\"T_a107a_row15_col10\" class=\"data row15 col10\" >nan</td>\n",
       "      <td id=\"T_a107a_row15_col11\" class=\"data row15 col11\" >nan</td>\n",
       "      <td id=\"T_a107a_row15_col12\" class=\"data row15 col12\" >nan</td>\n",
       "      <td id=\"T_a107a_row15_col13\" class=\"data row15 col13\" >nan</td>\n",
       "      <td id=\"T_a107a_row15_col14\" class=\"data row15 col14\" >nan</td>\n",
       "      <td id=\"T_a107a_row15_col15\" class=\"data row15 col15\" >nan</td>\n",
       "      <td id=\"T_a107a_row15_col16\" class=\"data row15 col16\" >nan</td>\n",
       "      <td id=\"T_a107a_row15_col17\" class=\"data row15 col17\" >nan</td>\n",
       "      <td id=\"T_a107a_row15_col18\" class=\"data row15 col18\" >nan</td>\n",
       "      <td id=\"T_a107a_row15_col19\" class=\"data row15 col19\" >nan</td>\n",
       "      <td id=\"T_a107a_row15_col20\" class=\"data row15 col20\" >nan</td>\n",
       "      <td id=\"T_a107a_row15_col21\" class=\"data row15 col21\" >nan</td>\n",
       "    </tr>\n",
       "    <tr>\n",
       "      <th id=\"T_a107a_level0_row16\" class=\"row_heading level0 row16\" >frozenset({'DoItYBks', 'CookBks'})</th>\n",
       "      <td id=\"T_a107a_row16_col0\" class=\"data row16 col0\" >nan</td>\n",
       "      <td id=\"T_a107a_row16_col1\" class=\"data row16 col1\" >nan</td>\n",
       "      <td id=\"T_a107a_row16_col2\" class=\"data row16 col2\" >2.10</td>\n",
       "      <td id=\"T_a107a_row16_col3\" class=\"data row16 col3\" >nan</td>\n",
       "      <td id=\"T_a107a_row16_col4\" class=\"data row16 col4\" >1.84</td>\n",
       "      <td id=\"T_a107a_row16_col5\" class=\"data row16 col5\" >nan</td>\n",
       "      <td id=\"T_a107a_row16_col6\" class=\"data row16 col6\" >nan</td>\n",
       "      <td id=\"T_a107a_row16_col7\" class=\"data row16 col7\" >nan</td>\n",
       "      <td id=\"T_a107a_row16_col8\" class=\"data row16 col8\" >nan</td>\n",
       "      <td id=\"T_a107a_row16_col9\" class=\"data row16 col9\" >nan</td>\n",
       "      <td id=\"T_a107a_row16_col10\" class=\"data row16 col10\" >nan</td>\n",
       "      <td id=\"T_a107a_row16_col11\" class=\"data row16 col11\" >nan</td>\n",
       "      <td id=\"T_a107a_row16_col12\" class=\"data row16 col12\" >nan</td>\n",
       "      <td id=\"T_a107a_row16_col13\" class=\"data row16 col13\" >nan</td>\n",
       "      <td id=\"T_a107a_row16_col14\" class=\"data row16 col14\" >nan</td>\n",
       "      <td id=\"T_a107a_row16_col15\" class=\"data row16 col15\" >2.25</td>\n",
       "      <td id=\"T_a107a_row16_col16\" class=\"data row16 col16\" >nan</td>\n",
       "      <td id=\"T_a107a_row16_col17\" class=\"data row16 col17\" >nan</td>\n",
       "      <td id=\"T_a107a_row16_col18\" class=\"data row16 col18\" >nan</td>\n",
       "      <td id=\"T_a107a_row16_col19\" class=\"data row16 col19\" >nan</td>\n",
       "      <td id=\"T_a107a_row16_col20\" class=\"data row16 col20\" >nan</td>\n",
       "      <td id=\"T_a107a_row16_col21\" class=\"data row16 col21\" >nan</td>\n",
       "    </tr>\n",
       "    <tr>\n",
       "      <th id=\"T_a107a_level0_row17\" class=\"row_heading level0 row17\" >frozenset({'ArtBks'})</th>\n",
       "      <td id=\"T_a107a_row17_col0\" class=\"data row17 col0\" >nan</td>\n",
       "      <td id=\"T_a107a_row17_col1\" class=\"data row17 col1\" >nan</td>\n",
       "      <td id=\"T_a107a_row17_col2\" class=\"data row17 col2\" >1.92</td>\n",
       "      <td id=\"T_a107a_row17_col3\" class=\"data row17 col3\" >nan</td>\n",
       "      <td id=\"T_a107a_row17_col4\" class=\"data row17 col4\" >1.59</td>\n",
       "      <td id=\"T_a107a_row17_col5\" class=\"data row17 col5\" >nan</td>\n",
       "      <td id=\"T_a107a_row17_col6\" class=\"data row17 col6\" >nan</td>\n",
       "      <td id=\"T_a107a_row17_col7\" class=\"data row17 col7\" >nan</td>\n",
       "      <td id=\"T_a107a_row17_col8\" class=\"data row17 col8\" >1.69</td>\n",
       "      <td id=\"T_a107a_row17_col9\" class=\"data row17 col9\" >1.82</td>\n",
       "      <td id=\"T_a107a_row17_col10\" class=\"data row17 col10\" >nan</td>\n",
       "      <td id=\"T_a107a_row17_col11\" class=\"data row17 col11\" >2.17</td>\n",
       "      <td id=\"T_a107a_row17_col12\" class=\"data row17 col12\" >2.05</td>\n",
       "      <td id=\"T_a107a_row17_col13\" class=\"data row17 col13\" >nan</td>\n",
       "      <td id=\"T_a107a_row17_col14\" class=\"data row17 col14\" >2.23</td>\n",
       "      <td id=\"T_a107a_row17_col15\" class=\"data row17 col15\" >nan</td>\n",
       "      <td id=\"T_a107a_row17_col16\" class=\"data row17 col16\" >nan</td>\n",
       "      <td id=\"T_a107a_row17_col17\" class=\"data row17 col17\" >2.25</td>\n",
       "      <td id=\"T_a107a_row17_col18\" class=\"data row17 col18\" >nan</td>\n",
       "      <td id=\"T_a107a_row17_col19\" class=\"data row17 col19\" >1.61</td>\n",
       "      <td id=\"T_a107a_row17_col20\" class=\"data row17 col20\" >nan</td>\n",
       "      <td id=\"T_a107a_row17_col21\" class=\"data row17 col21\" >nan</td>\n",
       "    </tr>\n",
       "    <tr>\n",
       "      <th id=\"T_a107a_level0_row18\" class=\"row_heading level0 row18\" >frozenset({'ArtBks', 'ChildBks'})</th>\n",
       "      <td id=\"T_a107a_row18_col0\" class=\"data row18 col0\" >nan</td>\n",
       "      <td id=\"T_a107a_row18_col1\" class=\"data row18 col1\" >nan</td>\n",
       "      <td id=\"T_a107a_row18_col2\" class=\"data row18 col2\" >2.27</td>\n",
       "      <td id=\"T_a107a_row18_col3\" class=\"data row18 col3\" >nan</td>\n",
       "      <td id=\"T_a107a_row18_col4\" class=\"data row18 col4\" >nan</td>\n",
       "      <td id=\"T_a107a_row18_col5\" class=\"data row18 col5\" >nan</td>\n",
       "      <td id=\"T_a107a_row18_col6\" class=\"data row18 col6\" >nan</td>\n",
       "      <td id=\"T_a107a_row18_col7\" class=\"data row18 col7\" >nan</td>\n",
       "      <td id=\"T_a107a_row18_col8\" class=\"data row18 col8\" >nan</td>\n",
       "      <td id=\"T_a107a_row18_col9\" class=\"data row18 col9\" >nan</td>\n",
       "      <td id=\"T_a107a_row18_col10\" class=\"data row18 col10\" >nan</td>\n",
       "      <td id=\"T_a107a_row18_col11\" class=\"data row18 col11\" >nan</td>\n",
       "      <td id=\"T_a107a_row18_col12\" class=\"data row18 col12\" >nan</td>\n",
       "      <td id=\"T_a107a_row18_col13\" class=\"data row18 col13\" >nan</td>\n",
       "      <td id=\"T_a107a_row18_col14\" class=\"data row18 col14\" >nan</td>\n",
       "      <td id=\"T_a107a_row18_col15\" class=\"data row18 col15\" >nan</td>\n",
       "      <td id=\"T_a107a_row18_col16\" class=\"data row18 col16\" >nan</td>\n",
       "      <td id=\"T_a107a_row18_col17\" class=\"data row18 col17\" >nan</td>\n",
       "      <td id=\"T_a107a_row18_col18\" class=\"data row18 col18\" >nan</td>\n",
       "      <td id=\"T_a107a_row18_col19\" class=\"data row18 col19\" >1.81</td>\n",
       "      <td id=\"T_a107a_row18_col20\" class=\"data row18 col20\" >nan</td>\n",
       "      <td id=\"T_a107a_row18_col21\" class=\"data row18 col21\" >nan</td>\n",
       "    </tr>\n",
       "    <tr>\n",
       "      <th id=\"T_a107a_level0_row19\" class=\"row_heading level0 row19\" >frozenset({'ItalCook'})</th>\n",
       "      <td id=\"T_a107a_row19_col0\" class=\"data row19 col0\" >nan</td>\n",
       "      <td id=\"T_a107a_row19_col1\" class=\"data row19 col1\" >nan</td>\n",
       "      <td id=\"T_a107a_row19_col2\" class=\"data row19 col2\" >nan</td>\n",
       "      <td id=\"T_a107a_row19_col3\" class=\"data row19 col3\" >nan</td>\n",
       "      <td id=\"T_a107a_row19_col4\" class=\"data row19 col4\" >nan</td>\n",
       "      <td id=\"T_a107a_row19_col5\" class=\"data row19 col5\" >nan</td>\n",
       "      <td id=\"T_a107a_row19_col6\" class=\"data row19 col6\" >nan</td>\n",
       "      <td id=\"T_a107a_row19_col7\" class=\"data row19 col7\" >nan</td>\n",
       "      <td id=\"T_a107a_row19_col8\" class=\"data row19 col8\" >nan</td>\n",
       "      <td id=\"T_a107a_row19_col9\" class=\"data row19 col9\" >nan</td>\n",
       "      <td id=\"T_a107a_row19_col10\" class=\"data row19 col10\" >nan</td>\n",
       "      <td id=\"T_a107a_row19_col11\" class=\"data row19 col11\" >nan</td>\n",
       "      <td id=\"T_a107a_row19_col12\" class=\"data row19 col12\" >nan</td>\n",
       "      <td id=\"T_a107a_row19_col13\" class=\"data row19 col13\" >nan</td>\n",
       "      <td id=\"T_a107a_row19_col14\" class=\"data row19 col14\" >nan</td>\n",
       "      <td id=\"T_a107a_row19_col15\" class=\"data row19 col15\" >nan</td>\n",
       "      <td id=\"T_a107a_row19_col16\" class=\"data row19 col16\" >nan</td>\n",
       "      <td id=\"T_a107a_row19_col17\" class=\"data row19 col17\" >nan</td>\n",
       "      <td id=\"T_a107a_row19_col18\" class=\"data row19 col18\" >nan</td>\n",
       "      <td id=\"T_a107a_row19_col19\" class=\"data row19 col19\" >2.32</td>\n",
       "      <td id=\"T_a107a_row19_col20\" class=\"data row19 col20\" >nan</td>\n",
       "      <td id=\"T_a107a_row19_col21\" class=\"data row19 col21\" >nan</td>\n",
       "    </tr>\n",
       "    <tr>\n",
       "      <th id=\"T_a107a_level0_row20\" class=\"row_heading level0 row20\" >frozenset({'RefBks', 'ChildBks'})</th>\n",
       "      <td id=\"T_a107a_row20_col0\" class=\"data row20 col0\" >nan</td>\n",
       "      <td id=\"T_a107a_row20_col1\" class=\"data row20 col1\" >nan</td>\n",
       "      <td id=\"T_a107a_row20_col2\" class=\"data row20 col2\" >nan</td>\n",
       "      <td id=\"T_a107a_row20_col3\" class=\"data row20 col3\" >nan</td>\n",
       "      <td id=\"T_a107a_row20_col4\" class=\"data row20 col4\" >nan</td>\n",
       "      <td id=\"T_a107a_row20_col5\" class=\"data row20 col5\" >nan</td>\n",
       "      <td id=\"T_a107a_row20_col6\" class=\"data row20 col6\" >nan</td>\n",
       "      <td id=\"T_a107a_row20_col7\" class=\"data row20 col7\" >nan</td>\n",
       "      <td id=\"T_a107a_row20_col8\" class=\"data row20 col8\" >nan</td>\n",
       "      <td id=\"T_a107a_row20_col9\" class=\"data row20 col9\" >nan</td>\n",
       "      <td id=\"T_a107a_row20_col10\" class=\"data row20 col10\" >nan</td>\n",
       "      <td id=\"T_a107a_row20_col11\" class=\"data row20 col11\" >nan</td>\n",
       "      <td id=\"T_a107a_row20_col12\" class=\"data row20 col12\" >nan</td>\n",
       "      <td id=\"T_a107a_row20_col13\" class=\"data row20 col13\" >nan</td>\n",
       "      <td id=\"T_a107a_row20_col14\" class=\"data row20 col14\" >nan</td>\n",
       "      <td id=\"T_a107a_row20_col15\" class=\"data row20 col15\" >nan</td>\n",
       "      <td id=\"T_a107a_row20_col16\" class=\"data row20 col16\" >nan</td>\n",
       "      <td id=\"T_a107a_row20_col17\" class=\"data row20 col17\" >nan</td>\n",
       "      <td id=\"T_a107a_row20_col18\" class=\"data row20 col18\" >nan</td>\n",
       "      <td id=\"T_a107a_row20_col19\" class=\"data row20 col19\" >1.88</td>\n",
       "      <td id=\"T_a107a_row20_col20\" class=\"data row20 col20\" >nan</td>\n",
       "      <td id=\"T_a107a_row20_col21\" class=\"data row20 col21\" >nan</td>\n",
       "    </tr>\n",
       "    <tr>\n",
       "      <th id=\"T_a107a_level0_row21\" class=\"row_heading level0 row21\" >frozenset({'YouthBks', 'ChildBks'})</th>\n",
       "      <td id=\"T_a107a_row21_col0\" class=\"data row21 col0\" >nan</td>\n",
       "      <td id=\"T_a107a_row21_col1\" class=\"data row21 col1\" >nan</td>\n",
       "      <td id=\"T_a107a_row21_col2\" class=\"data row21 col2\" >nan</td>\n",
       "      <td id=\"T_a107a_row21_col3\" class=\"data row21 col3\" >nan</td>\n",
       "      <td id=\"T_a107a_row21_col4\" class=\"data row21 col4\" >nan</td>\n",
       "      <td id=\"T_a107a_row21_col5\" class=\"data row21 col5\" >nan</td>\n",
       "      <td id=\"T_a107a_row21_col6\" class=\"data row21 col6\" >nan</td>\n",
       "      <td id=\"T_a107a_row21_col7\" class=\"data row21 col7\" >nan</td>\n",
       "      <td id=\"T_a107a_row21_col8\" class=\"data row21 col8\" >nan</td>\n",
       "      <td id=\"T_a107a_row21_col9\" class=\"data row21 col9\" >nan</td>\n",
       "      <td id=\"T_a107a_row21_col10\" class=\"data row21 col10\" >nan</td>\n",
       "      <td id=\"T_a107a_row21_col11\" class=\"data row21 col11\" >nan</td>\n",
       "      <td id=\"T_a107a_row21_col12\" class=\"data row21 col12\" >nan</td>\n",
       "      <td id=\"T_a107a_row21_col13\" class=\"data row21 col13\" >nan</td>\n",
       "      <td id=\"T_a107a_row21_col14\" class=\"data row21 col14\" >nan</td>\n",
       "      <td id=\"T_a107a_row21_col15\" class=\"data row21 col15\" >nan</td>\n",
       "      <td id=\"T_a107a_row21_col16\" class=\"data row21 col16\" >nan</td>\n",
       "      <td id=\"T_a107a_row21_col17\" class=\"data row21 col17\" >nan</td>\n",
       "      <td id=\"T_a107a_row21_col18\" class=\"data row21 col18\" >nan</td>\n",
       "      <td id=\"T_a107a_row21_col19\" class=\"data row21 col19\" >1.81</td>\n",
       "      <td id=\"T_a107a_row21_col20\" class=\"data row21 col20\" >nan</td>\n",
       "      <td id=\"T_a107a_row21_col21\" class=\"data row21 col21\" >nan</td>\n",
       "    </tr>\n",
       "  </tbody>\n",
       "</table>\n"
      ],
      "text/plain": [
       "<pandas.io.formats.style.Styler at 0x7fcd502056c0>"
      ]
     },
     "execution_count": 76,
     "metadata": {},
     "output_type": "execute_result"
    }
   ],
   "source": [
    "# with 10% support and 10% confidence\n",
    "give_my_rules(df,0.1,0.1)"
   ]
  },
  {
   "cell_type": "code",
   "execution_count": 77,
   "metadata": {},
   "outputs": [
    {
     "name": "stdout",
     "output_type": "stream",
     "text": [
      "-------------------- \n",
      "Apriori df\n",
      " --------------------\n",
      "   support             itemsets\n",
      "0   0.4230           (ChildBks)\n",
      "1   0.2475           (YouthBks)\n",
      "2   0.4310            (CookBks)\n",
      "3   0.2820           (DoItYBks)\n",
      "4   0.2145             (RefBks)\n",
      "5   0.2410             (ArtBks)\n",
      "6   0.2760            (GeogBks)\n",
      "7   0.2560  (CookBks, ChildBks)\n",
      "-------------------- \n",
      "Association df\n",
      " --------------------\n",
      "  antecedents consequents  antecedent support  consequent support  support  confidence      lift  leverage  conviction\n",
      "0   (CookBks)  (ChildBks)               0.431               0.423    0.256    0.593968  1.404179  0.073687    1.421069\n",
      "1  (ChildBks)   (CookBks)               0.423               0.431    0.256    0.605201  1.404179  0.073687    1.441240\n"
     ]
    },
    {
     "data": {
      "application/vnd.plotly.v1+json": {
       "config": {
        "plotlyServerURL": "https://plot.ly"
       },
       "data": [
        {
         "mode": "markers",
         "type": "scatter",
         "x": [
          0.256,
          0.256
         ],
         "y": [
          0.5939675174013921,
          0.6052009456264775
         ]
        }
       ],
       "layout": {
        "autosize": false,
        "plot_bgcolor": "white",
        "template": {
         "data": {
          "bar": [
           {
            "error_x": {
             "color": "#2a3f5f"
            },
            "error_y": {
             "color": "#2a3f5f"
            },
            "marker": {
             "line": {
              "color": "#E5ECF6",
              "width": 0.5
             },
             "pattern": {
              "fillmode": "overlay",
              "size": 10,
              "solidity": 0.2
             }
            },
            "type": "bar"
           }
          ],
          "barpolar": [
           {
            "marker": {
             "line": {
              "color": "#E5ECF6",
              "width": 0.5
             },
             "pattern": {
              "fillmode": "overlay",
              "size": 10,
              "solidity": 0.2
             }
            },
            "type": "barpolar"
           }
          ],
          "carpet": [
           {
            "aaxis": {
             "endlinecolor": "#2a3f5f",
             "gridcolor": "white",
             "linecolor": "white",
             "minorgridcolor": "white",
             "startlinecolor": "#2a3f5f"
            },
            "baxis": {
             "endlinecolor": "#2a3f5f",
             "gridcolor": "white",
             "linecolor": "white",
             "minorgridcolor": "white",
             "startlinecolor": "#2a3f5f"
            },
            "type": "carpet"
           }
          ],
          "choropleth": [
           {
            "colorbar": {
             "outlinewidth": 0,
             "ticks": ""
            },
            "type": "choropleth"
           }
          ],
          "contour": [
           {
            "colorbar": {
             "outlinewidth": 0,
             "ticks": ""
            },
            "colorscale": [
             [
              0,
              "#0d0887"
             ],
             [
              0.1111111111111111,
              "#46039f"
             ],
             [
              0.2222222222222222,
              "#7201a8"
             ],
             [
              0.3333333333333333,
              "#9c179e"
             ],
             [
              0.4444444444444444,
              "#bd3786"
             ],
             [
              0.5555555555555556,
              "#d8576b"
             ],
             [
              0.6666666666666666,
              "#ed7953"
             ],
             [
              0.7777777777777778,
              "#fb9f3a"
             ],
             [
              0.8888888888888888,
              "#fdca26"
             ],
             [
              1,
              "#f0f921"
             ]
            ],
            "type": "contour"
           }
          ],
          "contourcarpet": [
           {
            "colorbar": {
             "outlinewidth": 0,
             "ticks": ""
            },
            "type": "contourcarpet"
           }
          ],
          "heatmap": [
           {
            "colorbar": {
             "outlinewidth": 0,
             "ticks": ""
            },
            "colorscale": [
             [
              0,
              "#0d0887"
             ],
             [
              0.1111111111111111,
              "#46039f"
             ],
             [
              0.2222222222222222,
              "#7201a8"
             ],
             [
              0.3333333333333333,
              "#9c179e"
             ],
             [
              0.4444444444444444,
              "#bd3786"
             ],
             [
              0.5555555555555556,
              "#d8576b"
             ],
             [
              0.6666666666666666,
              "#ed7953"
             ],
             [
              0.7777777777777778,
              "#fb9f3a"
             ],
             [
              0.8888888888888888,
              "#fdca26"
             ],
             [
              1,
              "#f0f921"
             ]
            ],
            "type": "heatmap"
           }
          ],
          "heatmapgl": [
           {
            "colorbar": {
             "outlinewidth": 0,
             "ticks": ""
            },
            "colorscale": [
             [
              0,
              "#0d0887"
             ],
             [
              0.1111111111111111,
              "#46039f"
             ],
             [
              0.2222222222222222,
              "#7201a8"
             ],
             [
              0.3333333333333333,
              "#9c179e"
             ],
             [
              0.4444444444444444,
              "#bd3786"
             ],
             [
              0.5555555555555556,
              "#d8576b"
             ],
             [
              0.6666666666666666,
              "#ed7953"
             ],
             [
              0.7777777777777778,
              "#fb9f3a"
             ],
             [
              0.8888888888888888,
              "#fdca26"
             ],
             [
              1,
              "#f0f921"
             ]
            ],
            "type": "heatmapgl"
           }
          ],
          "histogram": [
           {
            "marker": {
             "pattern": {
              "fillmode": "overlay",
              "size": 10,
              "solidity": 0.2
             }
            },
            "type": "histogram"
           }
          ],
          "histogram2d": [
           {
            "colorbar": {
             "outlinewidth": 0,
             "ticks": ""
            },
            "colorscale": [
             [
              0,
              "#0d0887"
             ],
             [
              0.1111111111111111,
              "#46039f"
             ],
             [
              0.2222222222222222,
              "#7201a8"
             ],
             [
              0.3333333333333333,
              "#9c179e"
             ],
             [
              0.4444444444444444,
              "#bd3786"
             ],
             [
              0.5555555555555556,
              "#d8576b"
             ],
             [
              0.6666666666666666,
              "#ed7953"
             ],
             [
              0.7777777777777778,
              "#fb9f3a"
             ],
             [
              0.8888888888888888,
              "#fdca26"
             ],
             [
              1,
              "#f0f921"
             ]
            ],
            "type": "histogram2d"
           }
          ],
          "histogram2dcontour": [
           {
            "colorbar": {
             "outlinewidth": 0,
             "ticks": ""
            },
            "colorscale": [
             [
              0,
              "#0d0887"
             ],
             [
              0.1111111111111111,
              "#46039f"
             ],
             [
              0.2222222222222222,
              "#7201a8"
             ],
             [
              0.3333333333333333,
              "#9c179e"
             ],
             [
              0.4444444444444444,
              "#bd3786"
             ],
             [
              0.5555555555555556,
              "#d8576b"
             ],
             [
              0.6666666666666666,
              "#ed7953"
             ],
             [
              0.7777777777777778,
              "#fb9f3a"
             ],
             [
              0.8888888888888888,
              "#fdca26"
             ],
             [
              1,
              "#f0f921"
             ]
            ],
            "type": "histogram2dcontour"
           }
          ],
          "mesh3d": [
           {
            "colorbar": {
             "outlinewidth": 0,
             "ticks": ""
            },
            "type": "mesh3d"
           }
          ],
          "parcoords": [
           {
            "line": {
             "colorbar": {
              "outlinewidth": 0,
              "ticks": ""
             }
            },
            "type": "parcoords"
           }
          ],
          "pie": [
           {
            "automargin": true,
            "type": "pie"
           }
          ],
          "scatter": [
           {
            "fillpattern": {
             "fillmode": "overlay",
             "size": 10,
             "solidity": 0.2
            },
            "type": "scatter"
           }
          ],
          "scatter3d": [
           {
            "line": {
             "colorbar": {
              "outlinewidth": 0,
              "ticks": ""
             }
            },
            "marker": {
             "colorbar": {
              "outlinewidth": 0,
              "ticks": ""
             }
            },
            "type": "scatter3d"
           }
          ],
          "scattercarpet": [
           {
            "marker": {
             "colorbar": {
              "outlinewidth": 0,
              "ticks": ""
             }
            },
            "type": "scattercarpet"
           }
          ],
          "scattergeo": [
           {
            "marker": {
             "colorbar": {
              "outlinewidth": 0,
              "ticks": ""
             }
            },
            "type": "scattergeo"
           }
          ],
          "scattergl": [
           {
            "marker": {
             "colorbar": {
              "outlinewidth": 0,
              "ticks": ""
             }
            },
            "type": "scattergl"
           }
          ],
          "scattermapbox": [
           {
            "marker": {
             "colorbar": {
              "outlinewidth": 0,
              "ticks": ""
             }
            },
            "type": "scattermapbox"
           }
          ],
          "scatterpolar": [
           {
            "marker": {
             "colorbar": {
              "outlinewidth": 0,
              "ticks": ""
             }
            },
            "type": "scatterpolar"
           }
          ],
          "scatterpolargl": [
           {
            "marker": {
             "colorbar": {
              "outlinewidth": 0,
              "ticks": ""
             }
            },
            "type": "scatterpolargl"
           }
          ],
          "scatterternary": [
           {
            "marker": {
             "colorbar": {
              "outlinewidth": 0,
              "ticks": ""
             }
            },
            "type": "scatterternary"
           }
          ],
          "surface": [
           {
            "colorbar": {
             "outlinewidth": 0,
             "ticks": ""
            },
            "colorscale": [
             [
              0,
              "#0d0887"
             ],
             [
              0.1111111111111111,
              "#46039f"
             ],
             [
              0.2222222222222222,
              "#7201a8"
             ],
             [
              0.3333333333333333,
              "#9c179e"
             ],
             [
              0.4444444444444444,
              "#bd3786"
             ],
             [
              0.5555555555555556,
              "#d8576b"
             ],
             [
              0.6666666666666666,
              "#ed7953"
             ],
             [
              0.7777777777777778,
              "#fb9f3a"
             ],
             [
              0.8888888888888888,
              "#fdca26"
             ],
             [
              1,
              "#f0f921"
             ]
            ],
            "type": "surface"
           }
          ],
          "table": [
           {
            "cells": {
             "fill": {
              "color": "#EBF0F8"
             },
             "line": {
              "color": "white"
             }
            },
            "header": {
             "fill": {
              "color": "#C8D4E3"
             },
             "line": {
              "color": "white"
             }
            },
            "type": "table"
           }
          ]
         },
         "layout": {
          "annotationdefaults": {
           "arrowcolor": "#2a3f5f",
           "arrowhead": 0,
           "arrowwidth": 1
          },
          "autotypenumbers": "strict",
          "coloraxis": {
           "colorbar": {
            "outlinewidth": 0,
            "ticks": ""
           }
          },
          "colorscale": {
           "diverging": [
            [
             0,
             "#8e0152"
            ],
            [
             0.1,
             "#c51b7d"
            ],
            [
             0.2,
             "#de77ae"
            ],
            [
             0.3,
             "#f1b6da"
            ],
            [
             0.4,
             "#fde0ef"
            ],
            [
             0.5,
             "#f7f7f7"
            ],
            [
             0.6,
             "#e6f5d0"
            ],
            [
             0.7,
             "#b8e186"
            ],
            [
             0.8,
             "#7fbc41"
            ],
            [
             0.9,
             "#4d9221"
            ],
            [
             1,
             "#276419"
            ]
           ],
           "sequential": [
            [
             0,
             "#0d0887"
            ],
            [
             0.1111111111111111,
             "#46039f"
            ],
            [
             0.2222222222222222,
             "#7201a8"
            ],
            [
             0.3333333333333333,
             "#9c179e"
            ],
            [
             0.4444444444444444,
             "#bd3786"
            ],
            [
             0.5555555555555556,
             "#d8576b"
            ],
            [
             0.6666666666666666,
             "#ed7953"
            ],
            [
             0.7777777777777778,
             "#fb9f3a"
            ],
            [
             0.8888888888888888,
             "#fdca26"
            ],
            [
             1,
             "#f0f921"
            ]
           ],
           "sequentialminus": [
            [
             0,
             "#0d0887"
            ],
            [
             0.1111111111111111,
             "#46039f"
            ],
            [
             0.2222222222222222,
             "#7201a8"
            ],
            [
             0.3333333333333333,
             "#9c179e"
            ],
            [
             0.4444444444444444,
             "#bd3786"
            ],
            [
             0.5555555555555556,
             "#d8576b"
            ],
            [
             0.6666666666666666,
             "#ed7953"
            ],
            [
             0.7777777777777778,
             "#fb9f3a"
            ],
            [
             0.8888888888888888,
             "#fdca26"
            ],
            [
             1,
             "#f0f921"
            ]
           ]
          },
          "colorway": [
           "#636efa",
           "#EF553B",
           "#00cc96",
           "#ab63fa",
           "#FFA15A",
           "#19d3f3",
           "#FF6692",
           "#B6E880",
           "#FF97FF",
           "#FECB52"
          ],
          "font": {
           "color": "#2a3f5f"
          },
          "geo": {
           "bgcolor": "white",
           "lakecolor": "white",
           "landcolor": "#E5ECF6",
           "showlakes": true,
           "showland": true,
           "subunitcolor": "white"
          },
          "hoverlabel": {
           "align": "left"
          },
          "hovermode": "closest",
          "mapbox": {
           "style": "light"
          },
          "paper_bgcolor": "white",
          "plot_bgcolor": "#E5ECF6",
          "polar": {
           "angularaxis": {
            "gridcolor": "white",
            "linecolor": "white",
            "ticks": ""
           },
           "bgcolor": "#E5ECF6",
           "radialaxis": {
            "gridcolor": "white",
            "linecolor": "white",
            "ticks": ""
           }
          },
          "scene": {
           "xaxis": {
            "backgroundcolor": "#E5ECF6",
            "gridcolor": "white",
            "gridwidth": 2,
            "linecolor": "white",
            "showbackground": true,
            "ticks": "",
            "zerolinecolor": "white"
           },
           "yaxis": {
            "backgroundcolor": "#E5ECF6",
            "gridcolor": "white",
            "gridwidth": 2,
            "linecolor": "white",
            "showbackground": true,
            "ticks": "",
            "zerolinecolor": "white"
           },
           "zaxis": {
            "backgroundcolor": "#E5ECF6",
            "gridcolor": "white",
            "gridwidth": 2,
            "linecolor": "white",
            "showbackground": true,
            "ticks": "",
            "zerolinecolor": "white"
           }
          },
          "shapedefaults": {
           "line": {
            "color": "#2a3f5f"
           }
          },
          "ternary": {
           "aaxis": {
            "gridcolor": "white",
            "linecolor": "white",
            "ticks": ""
           },
           "baxis": {
            "gridcolor": "white",
            "linecolor": "white",
            "ticks": ""
           },
           "bgcolor": "#E5ECF6",
           "caxis": {
            "gridcolor": "white",
            "linecolor": "white",
            "ticks": ""
           }
          },
          "title": {
           "x": 0.05
          },
          "xaxis": {
           "automargin": true,
           "gridcolor": "white",
           "linecolor": "white",
           "ticks": "",
           "title": {
            "standoff": 15
           },
           "zerolinecolor": "white",
           "zerolinewidth": 2
          },
          "yaxis": {
           "automargin": true,
           "gridcolor": "white",
           "linecolor": "white",
           "ticks": "",
           "title": {
            "standoff": 15
           },
           "zerolinecolor": "white",
           "zerolinewidth": 2
          }
         }
        },
        "title": {
         "text": "<b>support vs confidence</b>"
        },
        "xaxis": {
         "linecolor": "#373645",
         "title": {
          "text": "support"
         }
        },
        "yaxis": {
         "linecolor": "#373645",
         "title": {
          "text": "confidence"
         }
        }
       }
      }
     },
     "metadata": {},
     "output_type": "display_data"
    },
    {
     "data": {
      "application/vnd.plotly.v1+json": {
       "config": {
        "plotlyServerURL": "https://plot.ly"
       },
       "data": [
        {
         "mode": "markers",
         "type": "scatter",
         "x": [
          1.4041785281356787,
          1.4041785281356787
         ],
         "y": [
          0.5939675174013921,
          0.6052009456264775
         ]
        }
       ],
       "layout": {
        "autosize": false,
        "plot_bgcolor": "white",
        "template": {
         "data": {
          "bar": [
           {
            "error_x": {
             "color": "#2a3f5f"
            },
            "error_y": {
             "color": "#2a3f5f"
            },
            "marker": {
             "line": {
              "color": "#E5ECF6",
              "width": 0.5
             },
             "pattern": {
              "fillmode": "overlay",
              "size": 10,
              "solidity": 0.2
             }
            },
            "type": "bar"
           }
          ],
          "barpolar": [
           {
            "marker": {
             "line": {
              "color": "#E5ECF6",
              "width": 0.5
             },
             "pattern": {
              "fillmode": "overlay",
              "size": 10,
              "solidity": 0.2
             }
            },
            "type": "barpolar"
           }
          ],
          "carpet": [
           {
            "aaxis": {
             "endlinecolor": "#2a3f5f",
             "gridcolor": "white",
             "linecolor": "white",
             "minorgridcolor": "white",
             "startlinecolor": "#2a3f5f"
            },
            "baxis": {
             "endlinecolor": "#2a3f5f",
             "gridcolor": "white",
             "linecolor": "white",
             "minorgridcolor": "white",
             "startlinecolor": "#2a3f5f"
            },
            "type": "carpet"
           }
          ],
          "choropleth": [
           {
            "colorbar": {
             "outlinewidth": 0,
             "ticks": ""
            },
            "type": "choropleth"
           }
          ],
          "contour": [
           {
            "colorbar": {
             "outlinewidth": 0,
             "ticks": ""
            },
            "colorscale": [
             [
              0,
              "#0d0887"
             ],
             [
              0.1111111111111111,
              "#46039f"
             ],
             [
              0.2222222222222222,
              "#7201a8"
             ],
             [
              0.3333333333333333,
              "#9c179e"
             ],
             [
              0.4444444444444444,
              "#bd3786"
             ],
             [
              0.5555555555555556,
              "#d8576b"
             ],
             [
              0.6666666666666666,
              "#ed7953"
             ],
             [
              0.7777777777777778,
              "#fb9f3a"
             ],
             [
              0.8888888888888888,
              "#fdca26"
             ],
             [
              1,
              "#f0f921"
             ]
            ],
            "type": "contour"
           }
          ],
          "contourcarpet": [
           {
            "colorbar": {
             "outlinewidth": 0,
             "ticks": ""
            },
            "type": "contourcarpet"
           }
          ],
          "heatmap": [
           {
            "colorbar": {
             "outlinewidth": 0,
             "ticks": ""
            },
            "colorscale": [
             [
              0,
              "#0d0887"
             ],
             [
              0.1111111111111111,
              "#46039f"
             ],
             [
              0.2222222222222222,
              "#7201a8"
             ],
             [
              0.3333333333333333,
              "#9c179e"
             ],
             [
              0.4444444444444444,
              "#bd3786"
             ],
             [
              0.5555555555555556,
              "#d8576b"
             ],
             [
              0.6666666666666666,
              "#ed7953"
             ],
             [
              0.7777777777777778,
              "#fb9f3a"
             ],
             [
              0.8888888888888888,
              "#fdca26"
             ],
             [
              1,
              "#f0f921"
             ]
            ],
            "type": "heatmap"
           }
          ],
          "heatmapgl": [
           {
            "colorbar": {
             "outlinewidth": 0,
             "ticks": ""
            },
            "colorscale": [
             [
              0,
              "#0d0887"
             ],
             [
              0.1111111111111111,
              "#46039f"
             ],
             [
              0.2222222222222222,
              "#7201a8"
             ],
             [
              0.3333333333333333,
              "#9c179e"
             ],
             [
              0.4444444444444444,
              "#bd3786"
             ],
             [
              0.5555555555555556,
              "#d8576b"
             ],
             [
              0.6666666666666666,
              "#ed7953"
             ],
             [
              0.7777777777777778,
              "#fb9f3a"
             ],
             [
              0.8888888888888888,
              "#fdca26"
             ],
             [
              1,
              "#f0f921"
             ]
            ],
            "type": "heatmapgl"
           }
          ],
          "histogram": [
           {
            "marker": {
             "pattern": {
              "fillmode": "overlay",
              "size": 10,
              "solidity": 0.2
             }
            },
            "type": "histogram"
           }
          ],
          "histogram2d": [
           {
            "colorbar": {
             "outlinewidth": 0,
             "ticks": ""
            },
            "colorscale": [
             [
              0,
              "#0d0887"
             ],
             [
              0.1111111111111111,
              "#46039f"
             ],
             [
              0.2222222222222222,
              "#7201a8"
             ],
             [
              0.3333333333333333,
              "#9c179e"
             ],
             [
              0.4444444444444444,
              "#bd3786"
             ],
             [
              0.5555555555555556,
              "#d8576b"
             ],
             [
              0.6666666666666666,
              "#ed7953"
             ],
             [
              0.7777777777777778,
              "#fb9f3a"
             ],
             [
              0.8888888888888888,
              "#fdca26"
             ],
             [
              1,
              "#f0f921"
             ]
            ],
            "type": "histogram2d"
           }
          ],
          "histogram2dcontour": [
           {
            "colorbar": {
             "outlinewidth": 0,
             "ticks": ""
            },
            "colorscale": [
             [
              0,
              "#0d0887"
             ],
             [
              0.1111111111111111,
              "#46039f"
             ],
             [
              0.2222222222222222,
              "#7201a8"
             ],
             [
              0.3333333333333333,
              "#9c179e"
             ],
             [
              0.4444444444444444,
              "#bd3786"
             ],
             [
              0.5555555555555556,
              "#d8576b"
             ],
             [
              0.6666666666666666,
              "#ed7953"
             ],
             [
              0.7777777777777778,
              "#fb9f3a"
             ],
             [
              0.8888888888888888,
              "#fdca26"
             ],
             [
              1,
              "#f0f921"
             ]
            ],
            "type": "histogram2dcontour"
           }
          ],
          "mesh3d": [
           {
            "colorbar": {
             "outlinewidth": 0,
             "ticks": ""
            },
            "type": "mesh3d"
           }
          ],
          "parcoords": [
           {
            "line": {
             "colorbar": {
              "outlinewidth": 0,
              "ticks": ""
             }
            },
            "type": "parcoords"
           }
          ],
          "pie": [
           {
            "automargin": true,
            "type": "pie"
           }
          ],
          "scatter": [
           {
            "fillpattern": {
             "fillmode": "overlay",
             "size": 10,
             "solidity": 0.2
            },
            "type": "scatter"
           }
          ],
          "scatter3d": [
           {
            "line": {
             "colorbar": {
              "outlinewidth": 0,
              "ticks": ""
             }
            },
            "marker": {
             "colorbar": {
              "outlinewidth": 0,
              "ticks": ""
             }
            },
            "type": "scatter3d"
           }
          ],
          "scattercarpet": [
           {
            "marker": {
             "colorbar": {
              "outlinewidth": 0,
              "ticks": ""
             }
            },
            "type": "scattercarpet"
           }
          ],
          "scattergeo": [
           {
            "marker": {
             "colorbar": {
              "outlinewidth": 0,
              "ticks": ""
             }
            },
            "type": "scattergeo"
           }
          ],
          "scattergl": [
           {
            "marker": {
             "colorbar": {
              "outlinewidth": 0,
              "ticks": ""
             }
            },
            "type": "scattergl"
           }
          ],
          "scattermapbox": [
           {
            "marker": {
             "colorbar": {
              "outlinewidth": 0,
              "ticks": ""
             }
            },
            "type": "scattermapbox"
           }
          ],
          "scatterpolar": [
           {
            "marker": {
             "colorbar": {
              "outlinewidth": 0,
              "ticks": ""
             }
            },
            "type": "scatterpolar"
           }
          ],
          "scatterpolargl": [
           {
            "marker": {
             "colorbar": {
              "outlinewidth": 0,
              "ticks": ""
             }
            },
            "type": "scatterpolargl"
           }
          ],
          "scatterternary": [
           {
            "marker": {
             "colorbar": {
              "outlinewidth": 0,
              "ticks": ""
             }
            },
            "type": "scatterternary"
           }
          ],
          "surface": [
           {
            "colorbar": {
             "outlinewidth": 0,
             "ticks": ""
            },
            "colorscale": [
             [
              0,
              "#0d0887"
             ],
             [
              0.1111111111111111,
              "#46039f"
             ],
             [
              0.2222222222222222,
              "#7201a8"
             ],
             [
              0.3333333333333333,
              "#9c179e"
             ],
             [
              0.4444444444444444,
              "#bd3786"
             ],
             [
              0.5555555555555556,
              "#d8576b"
             ],
             [
              0.6666666666666666,
              "#ed7953"
             ],
             [
              0.7777777777777778,
              "#fb9f3a"
             ],
             [
              0.8888888888888888,
              "#fdca26"
             ],
             [
              1,
              "#f0f921"
             ]
            ],
            "type": "surface"
           }
          ],
          "table": [
           {
            "cells": {
             "fill": {
              "color": "#EBF0F8"
             },
             "line": {
              "color": "white"
             }
            },
            "header": {
             "fill": {
              "color": "#C8D4E3"
             },
             "line": {
              "color": "white"
             }
            },
            "type": "table"
           }
          ]
         },
         "layout": {
          "annotationdefaults": {
           "arrowcolor": "#2a3f5f",
           "arrowhead": 0,
           "arrowwidth": 1
          },
          "autotypenumbers": "strict",
          "coloraxis": {
           "colorbar": {
            "outlinewidth": 0,
            "ticks": ""
           }
          },
          "colorscale": {
           "diverging": [
            [
             0,
             "#8e0152"
            ],
            [
             0.1,
             "#c51b7d"
            ],
            [
             0.2,
             "#de77ae"
            ],
            [
             0.3,
             "#f1b6da"
            ],
            [
             0.4,
             "#fde0ef"
            ],
            [
             0.5,
             "#f7f7f7"
            ],
            [
             0.6,
             "#e6f5d0"
            ],
            [
             0.7,
             "#b8e186"
            ],
            [
             0.8,
             "#7fbc41"
            ],
            [
             0.9,
             "#4d9221"
            ],
            [
             1,
             "#276419"
            ]
           ],
           "sequential": [
            [
             0,
             "#0d0887"
            ],
            [
             0.1111111111111111,
             "#46039f"
            ],
            [
             0.2222222222222222,
             "#7201a8"
            ],
            [
             0.3333333333333333,
             "#9c179e"
            ],
            [
             0.4444444444444444,
             "#bd3786"
            ],
            [
             0.5555555555555556,
             "#d8576b"
            ],
            [
             0.6666666666666666,
             "#ed7953"
            ],
            [
             0.7777777777777778,
             "#fb9f3a"
            ],
            [
             0.8888888888888888,
             "#fdca26"
            ],
            [
             1,
             "#f0f921"
            ]
           ],
           "sequentialminus": [
            [
             0,
             "#0d0887"
            ],
            [
             0.1111111111111111,
             "#46039f"
            ],
            [
             0.2222222222222222,
             "#7201a8"
            ],
            [
             0.3333333333333333,
             "#9c179e"
            ],
            [
             0.4444444444444444,
             "#bd3786"
            ],
            [
             0.5555555555555556,
             "#d8576b"
            ],
            [
             0.6666666666666666,
             "#ed7953"
            ],
            [
             0.7777777777777778,
             "#fb9f3a"
            ],
            [
             0.8888888888888888,
             "#fdca26"
            ],
            [
             1,
             "#f0f921"
            ]
           ]
          },
          "colorway": [
           "#636efa",
           "#EF553B",
           "#00cc96",
           "#ab63fa",
           "#FFA15A",
           "#19d3f3",
           "#FF6692",
           "#B6E880",
           "#FF97FF",
           "#FECB52"
          ],
          "font": {
           "color": "#2a3f5f"
          },
          "geo": {
           "bgcolor": "white",
           "lakecolor": "white",
           "landcolor": "#E5ECF6",
           "showlakes": true,
           "showland": true,
           "subunitcolor": "white"
          },
          "hoverlabel": {
           "align": "left"
          },
          "hovermode": "closest",
          "mapbox": {
           "style": "light"
          },
          "paper_bgcolor": "white",
          "plot_bgcolor": "#E5ECF6",
          "polar": {
           "angularaxis": {
            "gridcolor": "white",
            "linecolor": "white",
            "ticks": ""
           },
           "bgcolor": "#E5ECF6",
           "radialaxis": {
            "gridcolor": "white",
            "linecolor": "white",
            "ticks": ""
           }
          },
          "scene": {
           "xaxis": {
            "backgroundcolor": "#E5ECF6",
            "gridcolor": "white",
            "gridwidth": 2,
            "linecolor": "white",
            "showbackground": true,
            "ticks": "",
            "zerolinecolor": "white"
           },
           "yaxis": {
            "backgroundcolor": "#E5ECF6",
            "gridcolor": "white",
            "gridwidth": 2,
            "linecolor": "white",
            "showbackground": true,
            "ticks": "",
            "zerolinecolor": "white"
           },
           "zaxis": {
            "backgroundcolor": "#E5ECF6",
            "gridcolor": "white",
            "gridwidth": 2,
            "linecolor": "white",
            "showbackground": true,
            "ticks": "",
            "zerolinecolor": "white"
           }
          },
          "shapedefaults": {
           "line": {
            "color": "#2a3f5f"
           }
          },
          "ternary": {
           "aaxis": {
            "gridcolor": "white",
            "linecolor": "white",
            "ticks": ""
           },
           "baxis": {
            "gridcolor": "white",
            "linecolor": "white",
            "ticks": ""
           },
           "bgcolor": "#E5ECF6",
           "caxis": {
            "gridcolor": "white",
            "linecolor": "white",
            "ticks": ""
           }
          },
          "title": {
           "x": 0.05
          },
          "xaxis": {
           "automargin": true,
           "gridcolor": "white",
           "linecolor": "white",
           "ticks": "",
           "title": {
            "standoff": 15
           },
           "zerolinecolor": "white",
           "zerolinewidth": 2
          },
          "yaxis": {
           "automargin": true,
           "gridcolor": "white",
           "linecolor": "white",
           "ticks": "",
           "title": {
            "standoff": 15
           },
           "zerolinecolor": "white",
           "zerolinewidth": 2
          }
         }
        },
        "title": {
         "text": "<b>lift vs confidence</b>"
        },
        "xaxis": {
         "linecolor": "#373645",
         "title": {
          "text": "lift"
         }
        },
        "yaxis": {
         "linecolor": "#373645",
         "title": {
          "text": "confidence"
         }
        }
       }
      }
     },
     "metadata": {},
     "output_type": "display_data"
    },
    {
     "data": {
      "text/html": [
       "<style type=\"text/css\">\n",
       "#T_afeb6_row0_col0, #T_afeb6_row1_col1 {\n",
       "  background-color: #f7fcf5;\n",
       "  color: #000000;\n",
       "}\n",
       "#T_afeb6_row0_col1, #T_afeb6_row1_col0 {\n",
       "  background-color: #f7fcf5;\n",
       "  color: #000000;\n",
       "  background-color: #000000;\n",
       "}\n",
       "</style>\n",
       "<table id=\"T_afeb6\">\n",
       "  <thead>\n",
       "    <tr>\n",
       "      <th class=\"index_name level0\" >consequents</th>\n",
       "      <th id=\"T_afeb6_level0_col0\" class=\"col_heading level0 col0\" >frozenset({'ChildBks'})</th>\n",
       "      <th id=\"T_afeb6_level0_col1\" class=\"col_heading level0 col1\" >frozenset({'CookBks'})</th>\n",
       "    </tr>\n",
       "    <tr>\n",
       "      <th class=\"index_name level0\" >antecedents</th>\n",
       "      <th class=\"blank col0\" >&nbsp;</th>\n",
       "      <th class=\"blank col1\" >&nbsp;</th>\n",
       "    </tr>\n",
       "  </thead>\n",
       "  <tbody>\n",
       "    <tr>\n",
       "      <th id=\"T_afeb6_level0_row0\" class=\"row_heading level0 row0\" >frozenset({'CookBks'})</th>\n",
       "      <td id=\"T_afeb6_row0_col0\" class=\"data row0 col0\" >1.40</td>\n",
       "      <td id=\"T_afeb6_row0_col1\" class=\"data row0 col1\" >nan</td>\n",
       "    </tr>\n",
       "    <tr>\n",
       "      <th id=\"T_afeb6_level0_row1\" class=\"row_heading level0 row1\" >frozenset({'ChildBks'})</th>\n",
       "      <td id=\"T_afeb6_row1_col0\" class=\"data row1 col0\" >nan</td>\n",
       "      <td id=\"T_afeb6_row1_col1\" class=\"data row1 col1\" >1.40</td>\n",
       "    </tr>\n",
       "  </tbody>\n",
       "</table>\n"
      ],
      "text/plain": [
       "<pandas.io.formats.style.Styler at 0x7fcd527bc760>"
      ]
     },
     "execution_count": 77,
     "metadata": {},
     "output_type": "execute_result"
    }
   ],
   "source": [
    "# With 20% support and 30% confidence\n",
    "give_my_rules(df,0.2,0.3)"
   ]
  },
  {
   "cell_type": "code",
   "execution_count": null,
   "metadata": {},
   "outputs": [],
   "source": []
  }
 ],
 "metadata": {
  "kernelspec": {
   "display_name": "Python 3",
   "language": "python",
   "name": "python3"
  },
  "language_info": {
   "codemirror_mode": {
    "name": "ipython",
    "version": 3
   },
   "file_extension": ".py",
   "mimetype": "text/x-python",
   "name": "python",
   "nbconvert_exporter": "python",
   "pygments_lexer": "ipython3",
   "version": "3.10.6"
  },
  "orig_nbformat": 4,
  "vscode": {
   "interpreter": {
    "hash": "916dbcbb3f70747c44a77c7bcd40155683ae19c65e1c03b4aa3499c5328201f1"
   }
  }
 },
 "nbformat": 4,
 "nbformat_minor": 2
}
